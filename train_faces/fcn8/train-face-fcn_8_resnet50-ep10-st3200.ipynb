{
 "cells": [
  {
   "cell_type": "markdown",
   "metadata": {},
   "source": [
    "## Training FCN8_VGG16 With CelebA Dataset\n",
    "### By 10 epochs, 3200steps."
   ]
  },
  {
   "cell_type": "code",
   "execution_count": 1,
   "metadata": {},
   "outputs": [],
   "source": [
    "import os\n",
    "import sys\n",
    "import datetime\n",
    "\n",
    "import PIL.Image as Image\n",
    "import matplotlib.pyplot as plt\n",
    "%matplotlib inline\n",
    "\n",
    "ROOT_DIR = os.path.join(os.getcwd(), '../..')\n",
    "sys.path.append(ROOT_DIR)"
   ]
  },
  {
   "cell_type": "code",
   "execution_count": 2,
   "metadata": {},
   "outputs": [
    {
     "name": "stderr",
     "output_type": "stream",
     "text": [
      "Using TensorFlow backend.\n",
      "/home/jho/anaconda3/envs/tf10-py36/lib/python3.6/site-packages/tensorflow/python/framework/dtypes.py:523: FutureWarning: Passing (type, 1) or '1type' as a synonym of type is deprecated; in a future version of numpy, it will be understood as (type, (1,)) / '(1,)type'.\n",
      "  _np_qint8 = np.dtype([(\"qint8\", np.int8, 1)])\n",
      "/home/jho/anaconda3/envs/tf10-py36/lib/python3.6/site-packages/tensorflow/python/framework/dtypes.py:524: FutureWarning: Passing (type, 1) or '1type' as a synonym of type is deprecated; in a future version of numpy, it will be understood as (type, (1,)) / '(1,)type'.\n",
      "  _np_quint8 = np.dtype([(\"quint8\", np.uint8, 1)])\n",
      "/home/jho/anaconda3/envs/tf10-py36/lib/python3.6/site-packages/tensorflow/python/framework/dtypes.py:525: FutureWarning: Passing (type, 1) or '1type' as a synonym of type is deprecated; in a future version of numpy, it will be understood as (type, (1,)) / '(1,)type'.\n",
      "  _np_qint16 = np.dtype([(\"qint16\", np.int16, 1)])\n",
      "/home/jho/anaconda3/envs/tf10-py36/lib/python3.6/site-packages/tensorflow/python/framework/dtypes.py:526: FutureWarning: Passing (type, 1) or '1type' as a synonym of type is deprecated; in a future version of numpy, it will be understood as (type, (1,)) / '(1,)type'.\n",
      "  _np_quint16 = np.dtype([(\"quint16\", np.uint16, 1)])\n",
      "/home/jho/anaconda3/envs/tf10-py36/lib/python3.6/site-packages/tensorflow/python/framework/dtypes.py:527: FutureWarning: Passing (type, 1) or '1type' as a synonym of type is deprecated; in a future version of numpy, it will be understood as (type, (1,)) / '(1,)type'.\n",
      "  _np_qint32 = np.dtype([(\"qint32\", np.int32, 1)])\n",
      "/home/jho/anaconda3/envs/tf10-py36/lib/python3.6/site-packages/tensorflow/python/framework/dtypes.py:532: FutureWarning: Passing (type, 1) or '1type' as a synonym of type is deprecated; in a future version of numpy, it will be understood as (type, (1,)) / '(1,)type'.\n",
      "  np_resource = np.dtype([(\"resource\", np.ubyte, 1)])\n"
     ]
    }
   ],
   "source": [
    "from keras_segmentation.models.fcn import fcn_8_vgg as M"
   ]
  },
  {
   "cell_type": "code",
   "execution_count": 3,
   "metadata": {},
   "outputs": [],
   "source": [
    "now = datetime.datetime.now()\n",
    "NOW = \"{:%Y%m%dT%H%M}\".format(now)\n",
    "\n",
    "OUT_DIR = os.path.join(ROOT_DIR, 'out')\n",
    "CHECKPOINTS_DIR = os.path.join(OUT_DIR, 'checkpoints')\n",
    "PREDICTIONS_DIR = os.path.join(OUT_DIR, 'predictions')\n",
    "LOGS_DIR = os.path.join(OUT_DIR, 'logs')\n",
    "\n",
    "DATASET_DIR = os.path.join(ROOT_DIR, 'dataset/celeba')\n",
    "\n",
    "TRAIN_IMAGES = os.path.join(DATASET_DIR, 'train/original')\n",
    "TRAIN_ANNOTATIONS = os.path.join(DATASET_DIR, 'train/mask_')\n",
    "VAL_IMAGES = os.path.join(DATASET_DIR, 'val/original')\n",
    "VAL_ANNOTATIONS = os.path.join(DATASET_DIR, 'val/mask_')"
   ]
  },
  {
   "cell_type": "code",
   "execution_count": 4,
   "metadata": {},
   "outputs": [],
   "source": [
    "## Configurations\n",
    "\n",
    "MODEL_NAME = \"fcn_8_vgg16\"\n",
    "N_CLASSES = 3\n",
    "#I_HEIGHT = 416\n",
    "I_HEIGHT = 218\n",
    "#I_WIDTH = 608\n",
    "I_WIDTH = 178\n",
    "\n",
    "STEPS_PER_EPOCH = 3200\n",
    "\n",
    "EPOCHS = 10"
   ]
  },
  {
   "cell_type": "code",
   "execution_count": 5,
   "metadata": {},
   "outputs": [
    {
     "name": "stdout",
     "output_type": "stream",
     "text": [
      "\n",
      "NOW = 20200419T1448\n",
      "tag = celeba/fcn_8_vgg16/ep10/st3200\n",
      "out_dir : /home/jho/projects/image-segmentation-keras/train_faces/fcn8/../../out\n",
      "checkpoints_dir : /home/jho/projects/image-segmentation-keras/train_faces/fcn8/../../out/checkpoints/celeba/fcn_8_vgg16/ep10/st3200\n",
      "logs_dir : /home/jho/projects/image-segmentation-keras/train_faces/fcn8/../../out/logs/celeba/fcn_8_vgg16/ep10/st3200\n",
      "predictions_dir : /home/jho/projects/image-segmentation-keras/train_faces/fcn8/../../out/predictions/celeba/fcn_8_vgg16/ep10/st3200\n",
      "\n",
      "dataset_dir : /home/jho/projects/image-segmentation-keras/train_faces/fcn8/../../dataset/celeba\n",
      "train_images : /home/jho/projects/image-segmentation-keras/train_faces/fcn8/../../dataset/celeba/train/original\n",
      "train_annotations : /home/jho/projects/image-segmentation-keras/train_faces/fcn8/../../dataset/celeba/train/mask_\n",
      "val_images : /home/jho/projects/image-segmentation-keras/train_faces/fcn8/../../dataset/celeba/val/original\n",
      "val_annotations : /home/jho/projects/image-segmentation-keras/train_faces/fcn8/../../dataset/celeba/val/mask_\n",
      "\n"
     ]
    }
   ],
   "source": [
    "tag = 'celeba/{name}/ep{epochs}/st{steps}'.format(\n",
    "    name=MODEL_NAME,\n",
    "    epochs=EPOCHS,\n",
    "    steps=STEPS_PER_EPOCH\n",
    ")\n",
    "\n",
    "CHECKPOINTS_DIR = os.path.join(CHECKPOINTS_DIR, tag)\n",
    "PREDICTIONS_DIR = os.path.join(PREDICTIONS_DIR, tag)\n",
    "LOGS_DIR = os.path.join(LOGS_DIR, tag)\n",
    "if not os.path.exists(CHECKPOINTS_DIR):\n",
    "    os.makedirs(CHECKPOINTS_DIR)\n",
    "if not os.path.exists(PREDICTIONS_DIR):\n",
    "    os.makedirs(PREDICTIONS_DIR)\n",
    "if not os.path.exists(LOGS_DIR):\n",
    "    os.makedirs(LOGS_DIR)\n",
    "    \n",
    "dir_configuration = \"\"\"\n",
    "NOW = {now}\n",
    "tag = {tag}\n",
    "out_dir : {out_dir}\n",
    "checkpoints_dir : {checkpoints_dir}\n",
    "logs_dir : {logs_dir}\n",
    "predictions_dir : {predictions_dir}\n",
    "\n",
    "dataset_dir : {dataset_dir}\n",
    "train_images : {train_images}\n",
    "train_annotations : {train_annotations}\n",
    "val_images : {val_images}\n",
    "val_annotations : {val_annotations}\n",
    "\"\"\".format(\n",
    "    now=NOW,\n",
    "    tag=tag,\n",
    "    out_dir=OUT_DIR,\n",
    "    checkpoints_dir=CHECKPOINTS_DIR,\n",
    "    logs_dir=LOGS_DIR,\n",
    "    predictions_dir=PREDICTIONS_DIR,\n",
    "\n",
    "    dataset_dir=DATASET_DIR,\n",
    "    train_images=TRAIN_IMAGES,\n",
    "    train_annotations=TRAIN_ANNOTATIONS,\n",
    "    val_images=VAL_IMAGES,\n",
    "    val_annotations=VAL_ANNOTATIONS,\n",
    ")\n",
    "print(dir_configuration)"
   ]
  },
  {
   "cell_type": "code",
   "execution_count": 6,
   "metadata": {},
   "outputs": [
    {
     "name": "stdout",
     "output_type": "stream",
     "text": [
      "<function fcn_8_vgg at 0x7f70f9bbdd08>\n"
     ]
    }
   ],
   "source": [
    "print(M)"
   ]
  },
  {
   "cell_type": "code",
   "execution_count": 7,
   "metadata": {},
   "outputs": [
    {
     "ename": "AssertionError",
     "evalue": "",
     "output_type": "error",
     "traceback": [
      "\u001b[0;31m---------------------------------------------------------------------------\u001b[0m",
      "\u001b[0;31mAssertionError\u001b[0m                            Traceback (most recent call last)",
      "\u001b[0;32m<ipython-input-7-442f64b2c194>\u001b[0m in \u001b[0;36m<module>\u001b[0;34m\u001b[0m\n\u001b[1;32m      1\u001b[0m \u001b[0;31m# Define model\u001b[0m\u001b[0;34m\u001b[0m\u001b[0;34m\u001b[0m\u001b[0;34m\u001b[0m\u001b[0m\n\u001b[0;32m----> 2\u001b[0;31m \u001b[0mmodel\u001b[0m \u001b[0;34m=\u001b[0m \u001b[0mM\u001b[0m\u001b[0;34m(\u001b[0m\u001b[0mn_classes\u001b[0m\u001b[0;34m=\u001b[0m\u001b[0mN_CLASSES\u001b[0m\u001b[0;34m,\u001b[0m \u001b[0minput_height\u001b[0m\u001b[0;34m=\u001b[0m\u001b[0mI_HEIGHT\u001b[0m\u001b[0;34m,\u001b[0m \u001b[0minput_width\u001b[0m\u001b[0;34m=\u001b[0m\u001b[0mI_WIDTH\u001b[0m\u001b[0;34m)\u001b[0m\u001b[0;34m\u001b[0m\u001b[0;34m\u001b[0m\u001b[0m\n\u001b[0m",
      "\u001b[0;32m~/projects/image-segmentation-keras/train_faces/fcn8/../../keras_segmentation/models/fcn.py\u001b[0m in \u001b[0;36mfcn_8_vgg\u001b[0;34m(n_classes, input_height, input_width)\u001b[0m\n\u001b[1;32m    122\u001b[0m \u001b[0;32mdef\u001b[0m \u001b[0mfcn_8_vgg\u001b[0m\u001b[0;34m(\u001b[0m\u001b[0mn_classes\u001b[0m\u001b[0;34m,\u001b[0m  \u001b[0minput_height\u001b[0m\u001b[0;34m=\u001b[0m\u001b[0;36m416\u001b[0m\u001b[0;34m,\u001b[0m \u001b[0minput_width\u001b[0m\u001b[0;34m=\u001b[0m\u001b[0;36m608\u001b[0m\u001b[0;34m)\u001b[0m\u001b[0;34m:\u001b[0m\u001b[0;34m\u001b[0m\u001b[0;34m\u001b[0m\u001b[0m\n\u001b[1;32m    123\u001b[0m     model = fcn_8(n_classes, get_vgg_encoder,\n\u001b[0;32m--> 124\u001b[0;31m                   input_height=input_height, input_width=input_width)\n\u001b[0m\u001b[1;32m    125\u001b[0m     \u001b[0mmodel\u001b[0m\u001b[0;34m.\u001b[0m\u001b[0mmodel_name\u001b[0m \u001b[0;34m=\u001b[0m \u001b[0;34m\"fcn_8_vgg\"\u001b[0m\u001b[0;34m\u001b[0m\u001b[0;34m\u001b[0m\u001b[0m\n\u001b[1;32m    126\u001b[0m     \u001b[0;32mreturn\u001b[0m \u001b[0mmodel\u001b[0m\u001b[0;34m\u001b[0m\u001b[0;34m\u001b[0m\u001b[0m\n",
      "\u001b[0;32m~/projects/image-segmentation-keras/train_faces/fcn8/../../keras_segmentation/models/fcn.py\u001b[0m in \u001b[0;36mfcn_8\u001b[0;34m(n_classes, encoder, input_height, input_width)\u001b[0m\n\u001b[1;32m     53\u001b[0m \u001b[0;34m\u001b[0m\u001b[0m\n\u001b[1;32m     54\u001b[0m     img_input, levels = encoder(\n\u001b[0;32m---> 55\u001b[0;31m         input_height=input_height,  input_width=input_width)\n\u001b[0m\u001b[1;32m     56\u001b[0m     \u001b[0;34m[\u001b[0m\u001b[0mf1\u001b[0m\u001b[0;34m,\u001b[0m \u001b[0mf2\u001b[0m\u001b[0;34m,\u001b[0m \u001b[0mf3\u001b[0m\u001b[0;34m,\u001b[0m \u001b[0mf4\u001b[0m\u001b[0;34m,\u001b[0m \u001b[0mf5\u001b[0m\u001b[0;34m]\u001b[0m \u001b[0;34m=\u001b[0m \u001b[0mlevels\u001b[0m\u001b[0;34m\u001b[0m\u001b[0;34m\u001b[0m\u001b[0m\n\u001b[1;32m     57\u001b[0m \u001b[0;34m\u001b[0m\u001b[0m\n",
      "\u001b[0;32m~/projects/image-segmentation-keras/train_faces/fcn8/../../keras_segmentation/models/vgg16.py\u001b[0m in \u001b[0;36mget_vgg_encoder\u001b[0;34m(input_height, input_width, pretrained)\u001b[0m\n\u001b[1;32m     17\u001b[0m \u001b[0;32mdef\u001b[0m \u001b[0mget_vgg_encoder\u001b[0m\u001b[0;34m(\u001b[0m\u001b[0minput_height\u001b[0m\u001b[0;34m=\u001b[0m\u001b[0;36m224\u001b[0m\u001b[0;34m,\u001b[0m  \u001b[0minput_width\u001b[0m\u001b[0;34m=\u001b[0m\u001b[0;36m224\u001b[0m\u001b[0;34m,\u001b[0m \u001b[0mpretrained\u001b[0m\u001b[0;34m=\u001b[0m\u001b[0;34m'imagenet'\u001b[0m\u001b[0;34m)\u001b[0m\u001b[0;34m:\u001b[0m\u001b[0;34m\u001b[0m\u001b[0;34m\u001b[0m\u001b[0m\n\u001b[1;32m     18\u001b[0m \u001b[0;34m\u001b[0m\u001b[0m\n\u001b[0;32m---> 19\u001b[0;31m     \u001b[0;32massert\u001b[0m \u001b[0minput_height\u001b[0m \u001b[0;34m%\u001b[0m \u001b[0;36m32\u001b[0m \u001b[0;34m==\u001b[0m \u001b[0;36m0\u001b[0m\u001b[0;34m\u001b[0m\u001b[0;34m\u001b[0m\u001b[0m\n\u001b[0m\u001b[1;32m     20\u001b[0m     \u001b[0;32massert\u001b[0m \u001b[0minput_width\u001b[0m \u001b[0;34m%\u001b[0m \u001b[0;36m32\u001b[0m \u001b[0;34m==\u001b[0m \u001b[0;36m0\u001b[0m\u001b[0;34m\u001b[0m\u001b[0;34m\u001b[0m\u001b[0m\n\u001b[1;32m     21\u001b[0m \u001b[0;34m\u001b[0m\u001b[0m\n",
      "\u001b[0;31mAssertionError\u001b[0m: "
     ]
    }
   ],
   "source": [
    "# Define model\n",
    "model = M(n_classes=N_CLASSES, input_height=I_HEIGHT, input_width=I_WIDTH)"
   ]
  },
  {
   "cell_type": "code",
   "execution_count": null,
   "metadata": {},
   "outputs": [],
   "source": [
    "# Train\n",
    "checkpoints_path = os.path.join(CHECKPOINTS_DIR, NOW)\n",
    "logs_path = os.path.join(LOGS_DIR, NOW)\n",
    "\n",
    "model.train(\n",
    "    train_images = TRAIN_IMAGES,\n",
    "    train_annotations = TRAIN_ANNOTATIONS,\n",
    "    checkpoints_path=checkpoints_path,\n",
    "    epochs=EPOCHS,\n",
    "    steps_per_epoch=STEPS_PER_EPOCH,\n",
    "    log_dir=logs_path,\n",
    "    validate=True,\n",
    "    val_images=VAL_IMAGES,\n",
    "    val_annotations = VAL_ANNOTATIONS,\n",
    "    save_best_only=True # Save model if 'val_loss' had been improved.\n",
    ")"
   ]
  },
  {
   "cell_type": "code",
   "execution_count": null,
   "metadata": {},
   "outputs": [],
   "source": [
    "import random\n",
    "val_list = os.listdir(VAL_IMAGES)\n",
    "rand_val = random.choice(val_list)[:-4]\n",
    "print(rand_val)\n",
    "\n",
    "sample_test_image = os.path.join(VAL_IMAGES, rand_val + '.jpg')\n",
    "sample_test_annotaion = os.path.join(VAL_ANNOTATIONS, rand_val + '.bmp')\n",
    "out_fname = os.path.join(PREDICTIONS_DIR, 'out_{}_{}.png'.format(rand_val, NOW))"
   ]
  },
  {
   "cell_type": "code",
   "execution_count": null,
   "metadata": {},
   "outputs": [],
   "source": [
    "# Out\n",
    "out = model.predict_segmentation(\n",
    "    inp=sample_test_image,\n",
    "    out_fname=out_fname\n",
    ")"
   ]
  },
  {
   "cell_type": "code",
   "execution_count": null,
   "metadata": {},
   "outputs": [],
   "source": [
    "plt.imshow(Image.open(sample_test_image))"
   ]
  },
  {
   "cell_type": "code",
   "execution_count": null,
   "metadata": {},
   "outputs": [],
   "source": [
    "plt.imshow(Image.open(sample_test_annotaion))"
   ]
  },
  {
   "cell_type": "code",
   "execution_count": null,
   "metadata": {},
   "outputs": [],
   "source": [
    "plt.imshow(out)"
   ]
  },
  {
   "cell_type": "code",
   "execution_count": null,
   "metadata": {},
   "outputs": [],
   "source": [
    "# evaluating the model\n",
    "evaluation = model.evaluate_segmentation(inp_images_dir=VAL_IMAGES, annotations_dir=VAL_ANNOTATIONS)\n",
    "print(evaluation)\n"
   ]
  },
  {
   "cell_type": "code",
   "execution_count": null,
   "metadata": {},
   "outputs": [],
   "source": []
  }
 ],
 "metadata": {
  "kernelspec": {
   "display_name": "tf10-py36",
   "language": "python",
   "name": "tf10-py36"
  },
  "language_info": {
   "codemirror_mode": {
    "name": "ipython",
    "version": 3
   },
   "file_extension": ".py",
   "mimetype": "text/x-python",
   "name": "python",
   "nbconvert_exporter": "python",
   "pygments_lexer": "ipython3",
   "version": "3.6.10"
  }
 },
 "nbformat": 4,
 "nbformat_minor": 4
}
