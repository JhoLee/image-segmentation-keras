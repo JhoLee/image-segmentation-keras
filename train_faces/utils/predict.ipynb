{
 "cells": [
  {
   "cell_type": "code",
   "execution_count": 1,
   "metadata": {},
   "outputs": [],
   "source": [
    "import os\n",
    "import sys\n",
    "import datetime\n",
    "\n",
    "import PIL.Image\n",
    "import matplotlib.pyplot as plt\n",
    "import numpy as np\n",
    "import tqdm\n",
    "\n",
    "%matplotlib inline"
   ]
  },
  {
   "cell_type": "code",
   "execution_count": 2,
   "metadata": {},
   "outputs": [],
   "source": [
    "NOW = '{:%H%M%S}'.format(datetime.datetime.now())\n",
    "\n",
    "ROOT_DIR = os.path.realpath(os.path.join(os.path.abspath(''), '../..'))\n",
    "OUT_DIR = os.path.join(ROOT_DIR, 'out')\n",
    "PREDICTIONS_DIR = os.path.join(OUT_DIR, 'predictions')\n",
    "\n",
    "DATASET_DIR = os.path.join(ROOT_DIR, 'dataset/celeba_')\n",
    "TEST_DIR = os.path.join(DATASET_DIR, 'test')\n",
    "TEST_IMAGES_DIR = os.path.join(TEST_DIR, 'original')\n",
    "TEST_ANNOTATIONS_DIR = os.path.join(TEST_DIR, 'mask')\n",
    "\n",
    "BEST_MODEL_DIR = os.path.join(OUT_DIR, 'checkpoints/celeba/best')\n",
    "sys.path.append(ROOT_DIR)\n",
    "\n",
    "BEST_DIR = os.path.join(PREDICTIONS_DIR, 'predcition_{}'.format(NOW))\n",
    "if not os.path.exists(BEST_DIR):\n",
    "    os.makedirs(BEST_DIR)\n",
    "BLUR_DIR = os.path.join(PREDICTIONS_DIR, 'blur_{}'.format(NOW))\n",
    "if not os.path.exists(BLUR_DIR):\n",
    "    os.makedirs(BLUR_DIR)"
   ]
  },
  {
   "cell_type": "code",
   "execution_count": 3,
   "metadata": {},
   "outputs": [
    {
     "name": "stderr",
     "output_type": "stream",
     "text": [
      "Using TensorFlow backend.\n",
      "/home/jho/anaconda3/envs/tf12-py36/lib/python3.6/site-packages/tensorflow/python/framework/dtypes.py:523: FutureWarning: Passing (type, 1) or '1type' as a synonym of type is deprecated; in a future version of numpy, it will be understood as (type, (1,)) / '(1,)type'.\n",
      "  _np_qint8 = np.dtype([(\"qint8\", np.int8, 1)])\n",
      "/home/jho/anaconda3/envs/tf12-py36/lib/python3.6/site-packages/tensorflow/python/framework/dtypes.py:524: FutureWarning: Passing (type, 1) or '1type' as a synonym of type is deprecated; in a future version of numpy, it will be understood as (type, (1,)) / '(1,)type'.\n",
      "  _np_quint8 = np.dtype([(\"quint8\", np.uint8, 1)])\n",
      "/home/jho/anaconda3/envs/tf12-py36/lib/python3.6/site-packages/tensorflow/python/framework/dtypes.py:525: FutureWarning: Passing (type, 1) or '1type' as a synonym of type is deprecated; in a future version of numpy, it will be understood as (type, (1,)) / '(1,)type'.\n",
      "  _np_qint16 = np.dtype([(\"qint16\", np.int16, 1)])\n",
      "/home/jho/anaconda3/envs/tf12-py36/lib/python3.6/site-packages/tensorflow/python/framework/dtypes.py:526: FutureWarning: Passing (type, 1) or '1type' as a synonym of type is deprecated; in a future version of numpy, it will be understood as (type, (1,)) / '(1,)type'.\n",
      "  _np_quint16 = np.dtype([(\"quint16\", np.uint16, 1)])\n",
      "/home/jho/anaconda3/envs/tf12-py36/lib/python3.6/site-packages/tensorflow/python/framework/dtypes.py:527: FutureWarning: Passing (type, 1) or '1type' as a synonym of type is deprecated; in a future version of numpy, it will be understood as (type, (1,)) / '(1,)type'.\n",
      "  _np_qint32 = np.dtype([(\"qint32\", np.int32, 1)])\n",
      "/home/jho/anaconda3/envs/tf12-py36/lib/python3.6/site-packages/tensorflow/python/framework/dtypes.py:532: FutureWarning: Passing (type, 1) or '1type' as a synonym of type is deprecated; in a future version of numpy, it will be understood as (type, (1,)) / '(1,)type'.\n",
      "  np_resource = np.dtype([(\"resource\", np.ubyte, 1)])\n"
     ]
    }
   ],
   "source": [
    "from keras_segmentation.models.all_models import model_from_name as M\n",
    "from keras_segmentation.predict import predict, predict_multiple, blur3 as blur, blur_multiple"
   ]
  },
  {
   "cell_type": "code",
   "execution_count": null,
   "metadata": {},
   "outputs": [],
   "source": []
  },
  {
   "cell_type": "code",
   "execution_count": null,
   "metadata": {},
   "outputs": [],
   "source": []
  },
  {
   "cell_type": "code",
   "execution_count": 4,
   "metadata": {},
   "outputs": [],
   "source": [
    "def _predictions_(name):\n",
    "    return os.path.join(PREDICTIONS_DIR, name)\n",
    "\n"
   ]
  },
  {
   "cell_type": "code",
   "execution_count": 5,
   "metadata": {},
   "outputs": [
    {
     "name": "stdout",
     "output_type": "stream",
     "text": [
      "['fcn_32', 'fcn_32_vgg16', 'pspnet', 'fcn_8_vgg16', 'unet', 'unet_vgg16', 'segnet', 'fcn_8', 'segnet_vgg16', 'pspnet_vgg16']\n"
     ]
    }
   ],
   "source": [
    "# models = ['unet', 'fcn_8', 'fcn_32', 'mask', 'original']\n",
    "models_list = os.listdir(BEST_MODEL_DIR)\n",
    "models = [m[:-3] for m in models_list]\n",
    "\n",
    "print(models)"
   ]
  },
  {
   "cell_type": "code",
   "execution_count": 6,
   "metadata": {},
   "outputs": [
    {
     "name": "stdout",
     "output_type": "stream",
     "text": [
      "{'fcn_32': '/home/jho/projects/image-segmentation-keras/out/checkpoints/celeba/best/fcn_32.h5', 'fcn_32_vgg16': '/home/jho/projects/image-segmentation-keras/out/checkpoints/celeba/best/fcn_32_vgg16.h5', 'pspnet': '/home/jho/projects/image-segmentation-keras/out/checkpoints/celeba/best/pspnet.h5', 'fcn_8_vgg16': '/home/jho/projects/image-segmentation-keras/out/checkpoints/celeba/best/fcn_8_vgg16.h5', 'unet': '/home/jho/projects/image-segmentation-keras/out/checkpoints/celeba/best/unet.h5', 'unet_vgg16': '/home/jho/projects/image-segmentation-keras/out/checkpoints/celeba/best/unet_vgg16.h5', 'segnet': '/home/jho/projects/image-segmentation-keras/out/checkpoints/celeba/best/segnet.h5', 'fcn_8': '/home/jho/projects/image-segmentation-keras/out/checkpoints/celeba/best/fcn_8.h5', 'segnet_vgg16': '/home/jho/projects/image-segmentation-keras/out/checkpoints/celeba/best/segnet_vgg16.h5', 'pspnet_vgg16': '/home/jho/projects/image-segmentation-keras/out/checkpoints/celeba/best/pspnet_vgg16.h5'}\n"
     ]
    }
   ],
   "source": [
    "weights = {}\n",
    "for model in models:\n",
    "    weights[model] = os.path.join(BEST_MODEL_DIR, model + '.h5')\n",
    "print(weights)"
   ]
  },
  {
   "cell_type": "code",
   "execution_count": 7,
   "metadata": {},
   "outputs": [],
   "source": [
    "size = {}\n",
    "size['fcn_32'] = 256\n",
    "size['fcn_32_vgg16'] = 256\n",
    "size['fcn_8'] = 256\n",
    "size['fcn_8_vgg16'] = 256\n",
    "size['pspnet'] = 384\n",
    "size['pspnet_vgg16'] = 384\n",
    "size['unet'] = 256\n",
    "size['unet_vgg16'] = 256\n",
    "size['segnet'] = 256\n",
    "size['segnet_vgg16'] = 256"
   ]
  },
  {
   "cell_type": "code",
   "execution_count": 8,
   "metadata": {},
   "outputs": [],
   "source": [
    "from IPython.display import SVG\n",
    "from keras.utils.vis_utils import model_to_dot\n",
    "from keras.utils import plot_model\n",
    "\n",
    "\n",
    "def plots(model, out_dir=None):\n",
    "    print(model)\n",
    "    m = M[model](n_classes=3, input_height=size[model], input_width=size[model])\n",
    "    m.load_weights(weights[model])\n",
    "    m.summary()\n",
    "    \n",
    "    \n",
    "    if out_dir is not None:\n",
    "        out_path = os.path.join(out_dir, model +'.svg')\n",
    "        plot_model(m, to_file=out_path)\n",
    "        print(\"Saved to \" + os.path.abspath(out_path))\n",
    "    print()\n",
    "        \n",
    "    \n",
    "    \n",
    "    "
   ]
  },
  {
   "cell_type": "code",
   "execution_count": 9,
   "metadata": {},
   "outputs": [
    {
     "name": "stderr",
     "output_type": "stream",
     "text": [
      "Plotting...:   0%|          | 0/10 [00:00<?, ?it/s]"
     ]
    },
    {
     "name": "stdout",
     "output_type": "stream",
     "text": [
      "fcn_32\n"
     ]
    },
    {
     "name": "stderr",
     "output_type": "stream",
     "text": [
      "Plotting...:  10%|█         | 1/10 [00:01<00:12,  1.40s/it]"
     ]
    },
    {
     "name": "stdout",
     "output_type": "stream",
     "text": [
      "_________________________________________________________________\n",
      "Layer (type)                 Output Shape              Param #   \n",
      "=================================================================\n",
      "input_1 (InputLayer)         (None, 256, 256, 3)       0         \n",
      "_________________________________________________________________\n",
      "zero_padding2d_1 (ZeroPaddin (None, 258, 258, 3)       0         \n",
      "_________________________________________________________________\n",
      "conv2d_1 (Conv2D)            (None, 256, 256, 64)      1792      \n",
      "_________________________________________________________________\n",
      "batch_normalization_1 (Batch (None, 256, 256, 64)      256       \n",
      "_________________________________________________________________\n",
      "activation_1 (Activation)    (None, 256, 256, 64)      0         \n",
      "_________________________________________________________________\n",
      "max_pooling2d_1 (MaxPooling2 (None, 128, 128, 64)      0         \n",
      "_________________________________________________________________\n",
      "zero_padding2d_2 (ZeroPaddin (None, 130, 130, 64)      0         \n",
      "_________________________________________________________________\n",
      "conv2d_2 (Conv2D)            (None, 128, 128, 128)     73856     \n",
      "_________________________________________________________________\n",
      "batch_normalization_2 (Batch (None, 128, 128, 128)     512       \n",
      "_________________________________________________________________\n",
      "activation_2 (Activation)    (None, 128, 128, 128)     0         \n",
      "_________________________________________________________________\n",
      "max_pooling2d_2 (MaxPooling2 (None, 64, 64, 128)       0         \n",
      "_________________________________________________________________\n",
      "zero_padding2d_3 (ZeroPaddin (None, 66, 66, 128)       0         \n",
      "_________________________________________________________________\n",
      "conv2d_3 (Conv2D)            (None, 64, 64, 256)       295168    \n",
      "_________________________________________________________________\n",
      "batch_normalization_3 (Batch (None, 64, 64, 256)       1024      \n",
      "_________________________________________________________________\n",
      "activation_3 (Activation)    (None, 64, 64, 256)       0         \n",
      "_________________________________________________________________\n",
      "max_pooling2d_3 (MaxPooling2 (None, 32, 32, 256)       0         \n",
      "_________________________________________________________________\n",
      "zero_padding2d_4 (ZeroPaddin (None, 34, 34, 256)       0         \n",
      "_________________________________________________________________\n",
      "conv2d_4 (Conv2D)            (None, 32, 32, 256)       590080    \n",
      "_________________________________________________________________\n",
      "batch_normalization_4 (Batch (None, 32, 32, 256)       1024      \n",
      "_________________________________________________________________\n",
      "activation_4 (Activation)    (None, 32, 32, 256)       0         \n",
      "_________________________________________________________________\n",
      "max_pooling2d_4 (MaxPooling2 (None, 16, 16, 256)       0         \n",
      "_________________________________________________________________\n",
      "zero_padding2d_5 (ZeroPaddin (None, 18, 18, 256)       0         \n",
      "_________________________________________________________________\n",
      "conv2d_5 (Conv2D)            (None, 16, 16, 256)       590080    \n",
      "_________________________________________________________________\n",
      "batch_normalization_5 (Batch (None, 16, 16, 256)       1024      \n",
      "_________________________________________________________________\n",
      "activation_5 (Activation)    (None, 16, 16, 256)       0         \n",
      "_________________________________________________________________\n",
      "max_pooling2d_5 (MaxPooling2 (None, 8, 8, 256)         0         \n",
      "_________________________________________________________________\n",
      "conv2d_6 (Conv2D)            (None, 8, 8, 4096)        51384320  \n",
      "_________________________________________________________________\n",
      "dropout_1 (Dropout)          (None, 8, 8, 4096)        0         \n",
      "_________________________________________________________________\n",
      "conv2d_7 (Conv2D)            (None, 8, 8, 4096)        16781312  \n",
      "_________________________________________________________________\n",
      "dropout_2 (Dropout)          (None, 8, 8, 4096)        0         \n",
      "_________________________________________________________________\n",
      "conv2d_8 (Conv2D)            (None, 8, 8, 3)           12291     \n",
      "_________________________________________________________________\n",
      "conv2d_transpose_1 (Conv2DTr (None, 288, 288, 3)       36864     \n",
      "_________________________________________________________________\n",
      "reshape_1 (Reshape)          (None, 82944, 3)          0         \n",
      "_________________________________________________________________\n",
      "activation_6 (Activation)    (None, 82944, 3)          0         \n",
      "=================================================================\n",
      "Total params: 69,769,603\n",
      "Trainable params: 69,767,683\n",
      "Non-trainable params: 1,920\n",
      "_________________________________________________________________\n",
      "\n",
      "fcn_32_vgg16\n"
     ]
    },
    {
     "name": "stderr",
     "output_type": "stream",
     "text": [
      "Plotting...:  20%|██        | 2/10 [00:02<00:10,  1.27s/it]"
     ]
    },
    {
     "name": "stdout",
     "output_type": "stream",
     "text": [
      "_________________________________________________________________\n",
      "Layer (type)                 Output Shape              Param #   \n",
      "=================================================================\n",
      "input_2 (InputLayer)         (None, 256, 256, 3)       0         \n",
      "_________________________________________________________________\n",
      "block1_conv1 (Conv2D)        (None, 256, 256, 64)      1792      \n",
      "_________________________________________________________________\n",
      "block1_conv2 (Conv2D)        (None, 256, 256, 64)      36928     \n",
      "_________________________________________________________________\n",
      "block1_pool (MaxPooling2D)   (None, 128, 128, 64)      0         \n",
      "_________________________________________________________________\n",
      "block2_conv1 (Conv2D)        (None, 128, 128, 128)     73856     \n",
      "_________________________________________________________________\n",
      "block2_conv2 (Conv2D)        (None, 128, 128, 128)     147584    \n",
      "_________________________________________________________________\n",
      "block2_pool (MaxPooling2D)   (None, 64, 64, 128)       0         \n",
      "_________________________________________________________________\n",
      "block3_conv1 (Conv2D)        (None, 64, 64, 256)       295168    \n",
      "_________________________________________________________________\n",
      "block3_conv2 (Conv2D)        (None, 64, 64, 256)       590080    \n",
      "_________________________________________________________________\n",
      "block3_conv3 (Conv2D)        (None, 64, 64, 256)       590080    \n",
      "_________________________________________________________________\n",
      "block3_pool (MaxPooling2D)   (None, 32, 32, 256)       0         \n",
      "_________________________________________________________________\n",
      "block4_conv1 (Conv2D)        (None, 32, 32, 512)       1180160   \n",
      "_________________________________________________________________\n",
      "block4_conv2 (Conv2D)        (None, 32, 32, 512)       2359808   \n",
      "_________________________________________________________________\n",
      "block4_conv3 (Conv2D)        (None, 32, 32, 512)       2359808   \n",
      "_________________________________________________________________\n",
      "block4_pool (MaxPooling2D)   (None, 16, 16, 512)       0         \n",
      "_________________________________________________________________\n",
      "block5_conv1 (Conv2D)        (None, 16, 16, 512)       2359808   \n",
      "_________________________________________________________________\n",
      "block5_conv2 (Conv2D)        (None, 16, 16, 512)       2359808   \n",
      "_________________________________________________________________\n",
      "block5_conv3 (Conv2D)        (None, 16, 16, 512)       2359808   \n",
      "_________________________________________________________________\n",
      "block5_pool (MaxPooling2D)   (None, 8, 8, 512)         0         \n",
      "_________________________________________________________________\n",
      "conv2d_9 (Conv2D)            (None, 8, 8, 4096)        102764544 \n",
      "_________________________________________________________________\n",
      "dropout_3 (Dropout)          (None, 8, 8, 4096)        0         \n",
      "_________________________________________________________________\n",
      "conv2d_10 (Conv2D)           (None, 8, 8, 4096)        16781312  \n",
      "_________________________________________________________________\n",
      "dropout_4 (Dropout)          (None, 8, 8, 4096)        0         \n",
      "_________________________________________________________________\n",
      "conv2d_11 (Conv2D)           (None, 8, 8, 3)           12291     \n",
      "_________________________________________________________________\n",
      "conv2d_transpose_2 (Conv2DTr (None, 288, 288, 3)       36864     \n",
      "_________________________________________________________________\n",
      "reshape_2 (Reshape)          (None, 82944, 3)          0         \n",
      "_________________________________________________________________\n",
      "activation_7 (Activation)    (None, 82944, 3)          0         \n",
      "=================================================================\n",
      "Total params: 134,309,699\n",
      "Trainable params: 134,309,699\n",
      "Non-trainable params: 0\n",
      "_________________________________________________________________\n",
      "\n",
      "pspnet\n"
     ]
    },
    {
     "name": "stderr",
     "output_type": "stream",
     "text": [
      "Plotting...:  30%|███       | 3/10 [00:03<00:08,  1.20s/it]"
     ]
    },
    {
     "name": "stdout",
     "output_type": "stream",
     "text": [
      "__________________________________________________________________________________________________\n",
      "Layer (type)                    Output Shape         Param #     Connected to                     \n",
      "==================================================================================================\n",
      "input_3 (InputLayer)            (None, 384, 384, 3)  0                                            \n",
      "__________________________________________________________________________________________________\n",
      "zero_padding2d_6 (ZeroPadding2D (None, 386, 386, 3)  0           input_3[0][0]                    \n",
      "__________________________________________________________________________________________________\n",
      "conv2d_12 (Conv2D)              (None, 384, 384, 64) 1792        zero_padding2d_6[0][0]           \n",
      "__________________________________________________________________________________________________\n",
      "batch_normalization_6 (BatchNor (None, 384, 384, 64) 256         conv2d_12[0][0]                  \n",
      "__________________________________________________________________________________________________\n",
      "activation_8 (Activation)       (None, 384, 384, 64) 0           batch_normalization_6[0][0]      \n",
      "__________________________________________________________________________________________________\n",
      "max_pooling2d_6 (MaxPooling2D)  (None, 192, 192, 64) 0           activation_8[0][0]               \n",
      "__________________________________________________________________________________________________\n",
      "zero_padding2d_7 (ZeroPadding2D (None, 194, 194, 64) 0           max_pooling2d_6[0][0]            \n",
      "__________________________________________________________________________________________________\n",
      "conv2d_13 (Conv2D)              (None, 192, 192, 128 73856       zero_padding2d_7[0][0]           \n",
      "__________________________________________________________________________________________________\n",
      "batch_normalization_7 (BatchNor (None, 192, 192, 128 512         conv2d_13[0][0]                  \n",
      "__________________________________________________________________________________________________\n",
      "activation_9 (Activation)       (None, 192, 192, 128 0           batch_normalization_7[0][0]      \n",
      "__________________________________________________________________________________________________\n",
      "max_pooling2d_7 (MaxPooling2D)  (None, 96, 96, 128)  0           activation_9[0][0]               \n",
      "__________________________________________________________________________________________________\n",
      "zero_padding2d_8 (ZeroPadding2D (None, 98, 98, 128)  0           max_pooling2d_7[0][0]            \n",
      "__________________________________________________________________________________________________\n",
      "conv2d_14 (Conv2D)              (None, 96, 96, 256)  295168      zero_padding2d_8[0][0]           \n",
      "__________________________________________________________________________________________________\n",
      "batch_normalization_8 (BatchNor (None, 96, 96, 256)  1024        conv2d_14[0][0]                  \n",
      "__________________________________________________________________________________________________\n",
      "activation_10 (Activation)      (None, 96, 96, 256)  0           batch_normalization_8[0][0]      \n",
      "__________________________________________________________________________________________________\n",
      "max_pooling2d_8 (MaxPooling2D)  (None, 48, 48, 256)  0           activation_10[0][0]              \n",
      "__________________________________________________________________________________________________\n",
      "zero_padding2d_9 (ZeroPadding2D (None, 50, 50, 256)  0           max_pooling2d_8[0][0]            \n",
      "__________________________________________________________________________________________________\n",
      "conv2d_15 (Conv2D)              (None, 48, 48, 256)  590080      zero_padding2d_9[0][0]           \n",
      "__________________________________________________________________________________________________\n",
      "batch_normalization_9 (BatchNor (None, 48, 48, 256)  1024        conv2d_15[0][0]                  \n",
      "__________________________________________________________________________________________________\n",
      "activation_11 (Activation)      (None, 48, 48, 256)  0           batch_normalization_9[0][0]      \n",
      "__________________________________________________________________________________________________\n",
      "max_pooling2d_9 (MaxPooling2D)  (None, 24, 24, 256)  0           activation_11[0][0]              \n",
      "__________________________________________________________________________________________________\n",
      "zero_padding2d_10 (ZeroPadding2 (None, 26, 26, 256)  0           max_pooling2d_9[0][0]            \n",
      "__________________________________________________________________________________________________\n",
      "conv2d_16 (Conv2D)              (None, 24, 24, 256)  590080      zero_padding2d_10[0][0]          \n",
      "__________________________________________________________________________________________________\n",
      "batch_normalization_10 (BatchNo (None, 24, 24, 256)  1024        conv2d_16[0][0]                  \n",
      "__________________________________________________________________________________________________\n",
      "activation_12 (Activation)      (None, 24, 24, 256)  0           batch_normalization_10[0][0]     \n",
      "__________________________________________________________________________________________________\n",
      "max_pooling2d_10 (MaxPooling2D) (None, 12, 12, 256)  0           activation_12[0][0]              \n",
      "__________________________________________________________________________________________________\n",
      "average_pooling2d_1 (AveragePoo (None, 1, 1, 256)    0           max_pooling2d_10[0][0]           \n",
      "__________________________________________________________________________________________________\n",
      "average_pooling2d_2 (AveragePoo (None, 2, 2, 256)    0           max_pooling2d_10[0][0]           \n",
      "__________________________________________________________________________________________________\n",
      "average_pooling2d_3 (AveragePoo (None, 3, 3, 256)    0           max_pooling2d_10[0][0]           \n",
      "__________________________________________________________________________________________________\n",
      "average_pooling2d_4 (AveragePoo (None, 6, 6, 256)    0           max_pooling2d_10[0][0]           \n",
      "__________________________________________________________________________________________________\n",
      "conv2d_17 (Conv2D)              (None, 1, 1, 512)    131072      average_pooling2d_1[0][0]        \n",
      "__________________________________________________________________________________________________\n",
      "conv2d_18 (Conv2D)              (None, 2, 2, 512)    131072      average_pooling2d_2[0][0]        \n",
      "__________________________________________________________________________________________________\n",
      "conv2d_19 (Conv2D)              (None, 3, 3, 512)    131072      average_pooling2d_3[0][0]        \n",
      "__________________________________________________________________________________________________\n",
      "conv2d_20 (Conv2D)              (None, 6, 6, 512)    131072      average_pooling2d_4[0][0]        \n",
      "__________________________________________________________________________________________________\n",
      "batch_normalization_11 (BatchNo (None, 1, 1, 512)    2048        conv2d_17[0][0]                  \n",
      "__________________________________________________________________________________________________\n",
      "batch_normalization_12 (BatchNo (None, 2, 2, 512)    2048        conv2d_18[0][0]                  \n",
      "__________________________________________________________________________________________________\n",
      "batch_normalization_13 (BatchNo (None, 3, 3, 512)    2048        conv2d_19[0][0]                  \n",
      "__________________________________________________________________________________________________\n",
      "batch_normalization_14 (BatchNo (None, 6, 6, 512)    2048        conv2d_20[0][0]                  \n",
      "__________________________________________________________________________________________________\n",
      "activation_13 (Activation)      (None, 1, 1, 512)    0           batch_normalization_11[0][0]     \n",
      "__________________________________________________________________________________________________\n",
      "activation_14 (Activation)      (None, 2, 2, 512)    0           batch_normalization_12[0][0]     \n",
      "__________________________________________________________________________________________________\n",
      "activation_15 (Activation)      (None, 3, 3, 512)    0           batch_normalization_13[0][0]     \n",
      "__________________________________________________________________________________________________\n",
      "activation_16 (Activation)      (None, 6, 6, 512)    0           batch_normalization_14[0][0]     \n",
      "__________________________________________________________________________________________________\n",
      "lambda_2 (Lambda)               (None, 12, 12, 512)  0           activation_13[0][0]              \n",
      "__________________________________________________________________________________________________\n",
      "lambda_4 (Lambda)               (None, 12, 12, 512)  0           activation_14[0][0]              \n",
      "__________________________________________________________________________________________________\n",
      "lambda_6 (Lambda)               (None, 12, 12, 512)  0           activation_15[0][0]              \n",
      "__________________________________________________________________________________________________\n",
      "lambda_8 (Lambda)               (None, 12, 12, 512)  0           activation_16[0][0]              \n",
      "__________________________________________________________________________________________________\n",
      "concatenate_1 (Concatenate)     (None, 12, 12, 2304) 0           max_pooling2d_10[0][0]           \n",
      "                                                                 lambda_2[0][0]                   \n",
      "                                                                 lambda_4[0][0]                   \n",
      "                                                                 lambda_6[0][0]                   \n",
      "                                                                 lambda_8[0][0]                   \n",
      "__________________________________________________________________________________________________\n",
      "conv2d_21 (Conv2D)              (None, 12, 12, 512)  1179648     concatenate_1[0][0]              \n",
      "__________________________________________________________________________________________________\n",
      "batch_normalization_15 (BatchNo (None, 12, 12, 512)  2048        conv2d_21[0][0]                  \n",
      "__________________________________________________________________________________________________\n",
      "activation_17 (Activation)      (None, 12, 12, 512)  0           batch_normalization_15[0][0]     \n",
      "__________________________________________________________________________________________________\n",
      "conv2d_22 (Conv2D)              (None, 12, 12, 3)    13827       activation_17[0][0]              \n",
      "__________________________________________________________________________________________________\n",
      "lambda_10 (Lambda)              (None, 96, 96, 3)    0           conv2d_22[0][0]                  \n",
      "__________________________________________________________________________________________________\n",
      "reshape_3 (Reshape)             (None, 9216, 3)      0           lambda_10[0][0]                  \n",
      "__________________________________________________________________________________________________\n",
      "activation_18 (Activation)      (None, 9216, 3)      0           reshape_3[0][0]                  \n",
      "==================================================================================================\n",
      "Total params: 3,282,819\n",
      "Trainable params: 3,275,779\n",
      "Non-trainable params: 7,040\n",
      "__________________________________________________________________________________________________\n",
      "\n",
      "fcn_8_vgg16\n"
     ]
    },
    {
     "name": "stderr",
     "output_type": "stream",
     "text": [
      "Plotting...:  40%|████      | 4/10 [00:04<00:07,  1.18s/it]"
     ]
    },
    {
     "name": "stdout",
     "output_type": "stream",
     "text": [
      "__________________________________________________________________________________________________\n",
      "Layer (type)                    Output Shape         Param #     Connected to                     \n",
      "==================================================================================================\n",
      "input_4 (InputLayer)            (None, 256, 256, 3)  0                                            \n",
      "__________________________________________________________________________________________________\n",
      "block1_conv1 (Conv2D)           (None, 256, 256, 64) 1792        input_4[0][0]                    \n",
      "__________________________________________________________________________________________________\n",
      "block1_conv2 (Conv2D)           (None, 256, 256, 64) 36928       block1_conv1[0][0]               \n",
      "__________________________________________________________________________________________________\n",
      "block1_pool (MaxPooling2D)      (None, 128, 128, 64) 0           block1_conv2[0][0]               \n",
      "__________________________________________________________________________________________________\n",
      "block2_conv1 (Conv2D)           (None, 128, 128, 128 73856       block1_pool[0][0]                \n",
      "__________________________________________________________________________________________________\n",
      "block2_conv2 (Conv2D)           (None, 128, 128, 128 147584      block2_conv1[0][0]               \n",
      "__________________________________________________________________________________________________\n",
      "block2_pool (MaxPooling2D)      (None, 64, 64, 128)  0           block2_conv2[0][0]               \n",
      "__________________________________________________________________________________________________\n",
      "block3_conv1 (Conv2D)           (None, 64, 64, 256)  295168      block2_pool[0][0]                \n",
      "__________________________________________________________________________________________________\n",
      "block3_conv2 (Conv2D)           (None, 64, 64, 256)  590080      block3_conv1[0][0]               \n",
      "__________________________________________________________________________________________________\n",
      "block3_conv3 (Conv2D)           (None, 64, 64, 256)  590080      block3_conv2[0][0]               \n",
      "__________________________________________________________________________________________________\n",
      "block3_pool (MaxPooling2D)      (None, 32, 32, 256)  0           block3_conv3[0][0]               \n",
      "__________________________________________________________________________________________________\n",
      "block4_conv1 (Conv2D)           (None, 32, 32, 512)  1180160     block3_pool[0][0]                \n",
      "__________________________________________________________________________________________________\n",
      "block4_conv2 (Conv2D)           (None, 32, 32, 512)  2359808     block4_conv1[0][0]               \n",
      "__________________________________________________________________________________________________\n",
      "block4_conv3 (Conv2D)           (None, 32, 32, 512)  2359808     block4_conv2[0][0]               \n",
      "__________________________________________________________________________________________________\n",
      "block4_pool (MaxPooling2D)      (None, 16, 16, 512)  0           block4_conv3[0][0]               \n",
      "__________________________________________________________________________________________________\n",
      "block5_conv1 (Conv2D)           (None, 16, 16, 512)  2359808     block4_pool[0][0]                \n",
      "__________________________________________________________________________________________________\n",
      "block5_conv2 (Conv2D)           (None, 16, 16, 512)  2359808     block5_conv1[0][0]               \n",
      "__________________________________________________________________________________________________\n",
      "block5_conv3 (Conv2D)           (None, 16, 16, 512)  2359808     block5_conv2[0][0]               \n",
      "__________________________________________________________________________________________________\n",
      "block5_pool (MaxPooling2D)      (None, 8, 8, 512)    0           block5_conv3[0][0]               \n",
      "__________________________________________________________________________________________________\n",
      "conv2d_23 (Conv2D)              (None, 8, 8, 4096)   102764544   block5_pool[0][0]                \n",
      "__________________________________________________________________________________________________\n",
      "dropout_5 (Dropout)             (None, 8, 8, 4096)   0           conv2d_23[0][0]                  \n",
      "__________________________________________________________________________________________________\n",
      "conv2d_24 (Conv2D)              (None, 8, 8, 4096)   16781312    dropout_5[0][0]                  \n",
      "__________________________________________________________________________________________________\n",
      "dropout_6 (Dropout)             (None, 8, 8, 4096)   0           conv2d_24[0][0]                  \n",
      "__________________________________________________________________________________________________\n",
      "conv2d_25 (Conv2D)              (None, 8, 8, 3)      12291       dropout_6[0][0]                  \n",
      "__________________________________________________________________________________________________\n",
      "conv2d_transpose_3 (Conv2DTrans (None, 18, 18, 3)    144         conv2d_25[0][0]                  \n",
      "__________________________________________________________________________________________________\n",
      "cropping2d_1 (Cropping2D)       (None, 18, 16, 3)    0           conv2d_transpose_3[0][0]         \n",
      "__________________________________________________________________________________________________\n",
      "cropping2d_2 (Cropping2D)       (None, 16, 16, 3)    0           cropping2d_1[0][0]               \n",
      "__________________________________________________________________________________________________\n",
      "conv2d_26 (Conv2D)              (None, 16, 16, 3)    1539        block4_pool[0][0]                \n",
      "__________________________________________________________________________________________________\n",
      "add_1 (Add)                     (None, 16, 16, 3)    0           cropping2d_2[0][0]               \n",
      "                                                                 conv2d_26[0][0]                  \n",
      "__________________________________________________________________________________________________\n",
      "conv2d_transpose_4 (Conv2DTrans (None, 34, 34, 3)    144         add_1[0][0]                      \n",
      "__________________________________________________________________________________________________\n",
      "cropping2d_3 (Cropping2D)       (None, 34, 32, 3)    0           conv2d_transpose_4[0][0]         \n",
      "__________________________________________________________________________________________________\n",
      "conv2d_27 (Conv2D)              (None, 32, 32, 3)    771         block3_pool[0][0]                \n",
      "__________________________________________________________________________________________________\n",
      "cropping2d_4 (Cropping2D)       (None, 32, 32, 3)    0           cropping2d_3[0][0]               \n",
      "__________________________________________________________________________________________________\n",
      "add_2 (Add)                     (None, 32, 32, 3)    0           conv2d_27[0][0]                  \n",
      "                                                                 cropping2d_4[0][0]               \n",
      "__________________________________________________________________________________________________\n",
      "conv2d_transpose_5 (Conv2DTrans (None, 264, 264, 3)  2304        add_2[0][0]                      \n",
      "__________________________________________________________________________________________________\n",
      "reshape_4 (Reshape)             (None, 69696, 3)     0           conv2d_transpose_5[0][0]         \n",
      "__________________________________________________________________________________________________\n",
      "activation_19 (Activation)      (None, 69696, 3)     0           reshape_4[0][0]                  \n",
      "==================================================================================================\n",
      "Total params: 134,277,737\n",
      "Trainable params: 134,277,737\n",
      "Non-trainable params: 0\n",
      "__________________________________________________________________________________________________\n",
      "\n",
      "unet\n"
     ]
    },
    {
     "name": "stderr",
     "output_type": "stream",
     "text": [
      "Plotting...:  50%|█████     | 5/10 [00:05<00:05,  1.15s/it]"
     ]
    },
    {
     "name": "stdout",
     "output_type": "stream",
     "text": [
      "__________________________________________________________________________________________________\n",
      "Layer (type)                    Output Shape         Param #     Connected to                     \n",
      "==================================================================================================\n",
      "input_5 (InputLayer)            (None, 256, 256, 3)  0                                            \n",
      "__________________________________________________________________________________________________\n",
      "zero_padding2d_11 (ZeroPadding2 (None, 258, 258, 3)  0           input_5[0][0]                    \n",
      "__________________________________________________________________________________________________\n",
      "conv2d_28 (Conv2D)              (None, 256, 256, 64) 1792        zero_padding2d_11[0][0]          \n",
      "__________________________________________________________________________________________________\n",
      "batch_normalization_16 (BatchNo (None, 256, 256, 64) 256         conv2d_28[0][0]                  \n",
      "__________________________________________________________________________________________________\n",
      "activation_20 (Activation)      (None, 256, 256, 64) 0           batch_normalization_16[0][0]     \n",
      "__________________________________________________________________________________________________\n",
      "max_pooling2d_11 (MaxPooling2D) (None, 128, 128, 64) 0           activation_20[0][0]              \n",
      "__________________________________________________________________________________________________\n",
      "zero_padding2d_12 (ZeroPadding2 (None, 130, 130, 64) 0           max_pooling2d_11[0][0]           \n",
      "__________________________________________________________________________________________________\n",
      "conv2d_29 (Conv2D)              (None, 128, 128, 128 73856       zero_padding2d_12[0][0]          \n",
      "__________________________________________________________________________________________________\n",
      "batch_normalization_17 (BatchNo (None, 128, 128, 128 512         conv2d_29[0][0]                  \n",
      "__________________________________________________________________________________________________\n",
      "activation_21 (Activation)      (None, 128, 128, 128 0           batch_normalization_17[0][0]     \n",
      "__________________________________________________________________________________________________\n",
      "max_pooling2d_12 (MaxPooling2D) (None, 64, 64, 128)  0           activation_21[0][0]              \n",
      "__________________________________________________________________________________________________\n",
      "zero_padding2d_13 (ZeroPadding2 (None, 66, 66, 128)  0           max_pooling2d_12[0][0]           \n",
      "__________________________________________________________________________________________________\n",
      "conv2d_30 (Conv2D)              (None, 64, 64, 256)  295168      zero_padding2d_13[0][0]          \n",
      "__________________________________________________________________________________________________\n",
      "batch_normalization_18 (BatchNo (None, 64, 64, 256)  1024        conv2d_30[0][0]                  \n",
      "__________________________________________________________________________________________________\n",
      "activation_22 (Activation)      (None, 64, 64, 256)  0           batch_normalization_18[0][0]     \n",
      "__________________________________________________________________________________________________\n",
      "max_pooling2d_13 (MaxPooling2D) (None, 32, 32, 256)  0           activation_22[0][0]              \n",
      "__________________________________________________________________________________________________\n",
      "zero_padding2d_14 (ZeroPadding2 (None, 34, 34, 256)  0           max_pooling2d_13[0][0]           \n",
      "__________________________________________________________________________________________________\n",
      "conv2d_31 (Conv2D)              (None, 32, 32, 256)  590080      zero_padding2d_14[0][0]          \n",
      "__________________________________________________________________________________________________\n",
      "batch_normalization_19 (BatchNo (None, 32, 32, 256)  1024        conv2d_31[0][0]                  \n",
      "__________________________________________________________________________________________________\n",
      "activation_23 (Activation)      (None, 32, 32, 256)  0           batch_normalization_19[0][0]     \n",
      "__________________________________________________________________________________________________\n",
      "max_pooling2d_14 (MaxPooling2D) (None, 16, 16, 256)  0           activation_23[0][0]              \n",
      "__________________________________________________________________________________________________\n",
      "zero_padding2d_16 (ZeroPadding2 (None, 18, 18, 256)  0           max_pooling2d_14[0][0]           \n",
      "__________________________________________________________________________________________________\n",
      "conv2d_33 (Conv2D)              (None, 16, 16, 512)  1180160     zero_padding2d_16[0][0]          \n",
      "__________________________________________________________________________________________________\n",
      "batch_normalization_21 (BatchNo (None, 16, 16, 512)  2048        conv2d_33[0][0]                  \n",
      "__________________________________________________________________________________________________\n",
      "up_sampling2d_1 (UpSampling2D)  (None, 32, 32, 512)  0           batch_normalization_21[0][0]     \n",
      "__________________________________________________________________________________________________\n",
      "concatenate_2 (Concatenate)     (None, 32, 32, 768)  0           up_sampling2d_1[0][0]            \n",
      "                                                                 max_pooling2d_13[0][0]           \n",
      "__________________________________________________________________________________________________\n",
      "zero_padding2d_17 (ZeroPadding2 (None, 34, 34, 768)  0           concatenate_2[0][0]              \n",
      "__________________________________________________________________________________________________\n",
      "conv2d_34 (Conv2D)              (None, 32, 32, 256)  1769728     zero_padding2d_17[0][0]          \n",
      "__________________________________________________________________________________________________\n",
      "batch_normalization_22 (BatchNo (None, 32, 32, 256)  1024        conv2d_34[0][0]                  \n",
      "__________________________________________________________________________________________________\n",
      "up_sampling2d_2 (UpSampling2D)  (None, 64, 64, 256)  0           batch_normalization_22[0][0]     \n",
      "__________________________________________________________________________________________________\n",
      "concatenate_3 (Concatenate)     (None, 64, 64, 384)  0           up_sampling2d_2[0][0]            \n",
      "                                                                 max_pooling2d_12[0][0]           \n",
      "__________________________________________________________________________________________________\n",
      "zero_padding2d_18 (ZeroPadding2 (None, 66, 66, 384)  0           concatenate_3[0][0]              \n",
      "__________________________________________________________________________________________________\n",
      "conv2d_35 (Conv2D)              (None, 64, 64, 128)  442496      zero_padding2d_18[0][0]          \n",
      "__________________________________________________________________________________________________\n",
      "batch_normalization_23 (BatchNo (None, 64, 64, 128)  512         conv2d_35[0][0]                  \n",
      "__________________________________________________________________________________________________\n",
      "up_sampling2d_3 (UpSampling2D)  (None, 128, 128, 128 0           batch_normalization_23[0][0]     \n",
      "__________________________________________________________________________________________________\n",
      "concatenate_4 (Concatenate)     (None, 128, 128, 192 0           up_sampling2d_3[0][0]            \n",
      "                                                                 max_pooling2d_11[0][0]           \n",
      "__________________________________________________________________________________________________\n",
      "zero_padding2d_19 (ZeroPadding2 (None, 130, 130, 192 0           concatenate_4[0][0]              \n",
      "__________________________________________________________________________________________________\n",
      "conv2d_36 (Conv2D)              (None, 128, 128, 64) 110656      zero_padding2d_19[0][0]          \n",
      "__________________________________________________________________________________________________\n",
      "batch_normalization_24 (BatchNo (None, 128, 128, 64) 256         conv2d_36[0][0]                  \n",
      "__________________________________________________________________________________________________\n",
      "conv2d_37 (Conv2D)              (None, 128, 128, 3)  1731        batch_normalization_24[0][0]     \n",
      "__________________________________________________________________________________________________\n",
      "reshape_5 (Reshape)             (None, 16384, 3)     0           conv2d_37[0][0]                  \n",
      "__________________________________________________________________________________________________\n",
      "activation_25 (Activation)      (None, 16384, 3)     0           reshape_5[0][0]                  \n",
      "==================================================================================================\n",
      "Total params: 4,472,323\n",
      "Trainable params: 4,468,995\n",
      "Non-trainable params: 3,328\n",
      "__________________________________________________________________________________________________\n",
      "\n",
      "unet_vgg16\n"
     ]
    },
    {
     "name": "stderr",
     "output_type": "stream",
     "text": [
      "Plotting...:  60%|██████    | 6/10 [00:06<00:04,  1.14s/it]"
     ]
    },
    {
     "name": "stdout",
     "output_type": "stream",
     "text": [
      "__________________________________________________________________________________________________\n",
      "Layer (type)                    Output Shape         Param #     Connected to                     \n",
      "==================================================================================================\n",
      "input_6 (InputLayer)            (None, 256, 256, 3)  0                                            \n",
      "__________________________________________________________________________________________________\n",
      "block1_conv1 (Conv2D)           (None, 256, 256, 64) 1792        input_6[0][0]                    \n",
      "__________________________________________________________________________________________________\n",
      "block1_conv2 (Conv2D)           (None, 256, 256, 64) 36928       block1_conv1[0][0]               \n",
      "__________________________________________________________________________________________________\n",
      "block1_pool (MaxPooling2D)      (None, 128, 128, 64) 0           block1_conv2[0][0]               \n",
      "__________________________________________________________________________________________________\n",
      "block2_conv1 (Conv2D)           (None, 128, 128, 128 73856       block1_pool[0][0]                \n",
      "__________________________________________________________________________________________________\n",
      "block2_conv2 (Conv2D)           (None, 128, 128, 128 147584      block2_conv1[0][0]               \n",
      "__________________________________________________________________________________________________\n",
      "block2_pool (MaxPooling2D)      (None, 64, 64, 128)  0           block2_conv2[0][0]               \n",
      "__________________________________________________________________________________________________\n",
      "block3_conv1 (Conv2D)           (None, 64, 64, 256)  295168      block2_pool[0][0]                \n",
      "__________________________________________________________________________________________________\n",
      "block3_conv2 (Conv2D)           (None, 64, 64, 256)  590080      block3_conv1[0][0]               \n",
      "__________________________________________________________________________________________________\n",
      "block3_conv3 (Conv2D)           (None, 64, 64, 256)  590080      block3_conv2[0][0]               \n",
      "__________________________________________________________________________________________________\n",
      "block3_pool (MaxPooling2D)      (None, 32, 32, 256)  0           block3_conv3[0][0]               \n",
      "__________________________________________________________________________________________________\n",
      "block4_conv1 (Conv2D)           (None, 32, 32, 512)  1180160     block3_pool[0][0]                \n",
      "__________________________________________________________________________________________________\n",
      "block4_conv2 (Conv2D)           (None, 32, 32, 512)  2359808     block4_conv1[0][0]               \n",
      "__________________________________________________________________________________________________\n",
      "block4_conv3 (Conv2D)           (None, 32, 32, 512)  2359808     block4_conv2[0][0]               \n",
      "__________________________________________________________________________________________________\n",
      "block4_pool (MaxPooling2D)      (None, 16, 16, 512)  0           block4_conv3[0][0]               \n",
      "__________________________________________________________________________________________________\n",
      "zero_padding2d_20 (ZeroPadding2 (None, 18, 18, 512)  0           block4_pool[0][0]                \n",
      "__________________________________________________________________________________________________\n",
      "conv2d_38 (Conv2D)              (None, 16, 16, 512)  2359808     zero_padding2d_20[0][0]          \n",
      "__________________________________________________________________________________________________\n",
      "batch_normalization_25 (BatchNo (None, 16, 16, 512)  2048        conv2d_38[0][0]                  \n",
      "__________________________________________________________________________________________________\n",
      "up_sampling2d_4 (UpSampling2D)  (None, 32, 32, 512)  0           batch_normalization_25[0][0]     \n",
      "__________________________________________________________________________________________________\n",
      "concatenate_5 (Concatenate)     (None, 32, 32, 768)  0           up_sampling2d_4[0][0]            \n",
      "                                                                 block3_pool[0][0]                \n",
      "__________________________________________________________________________________________________\n",
      "zero_padding2d_21 (ZeroPadding2 (None, 34, 34, 768)  0           concatenate_5[0][0]              \n",
      "__________________________________________________________________________________________________\n",
      "conv2d_39 (Conv2D)              (None, 32, 32, 256)  1769728     zero_padding2d_21[0][0]          \n",
      "__________________________________________________________________________________________________\n",
      "batch_normalization_26 (BatchNo (None, 32, 32, 256)  1024        conv2d_39[0][0]                  \n",
      "__________________________________________________________________________________________________\n",
      "up_sampling2d_5 (UpSampling2D)  (None, 64, 64, 256)  0           batch_normalization_26[0][0]     \n",
      "__________________________________________________________________________________________________\n",
      "concatenate_6 (Concatenate)     (None, 64, 64, 384)  0           up_sampling2d_5[0][0]            \n",
      "                                                                 block2_pool[0][0]                \n",
      "__________________________________________________________________________________________________\n",
      "zero_padding2d_22 (ZeroPadding2 (None, 66, 66, 384)  0           concatenate_6[0][0]              \n",
      "__________________________________________________________________________________________________\n",
      "conv2d_40 (Conv2D)              (None, 64, 64, 128)  442496      zero_padding2d_22[0][0]          \n",
      "__________________________________________________________________________________________________\n",
      "batch_normalization_27 (BatchNo (None, 64, 64, 128)  512         conv2d_40[0][0]                  \n",
      "__________________________________________________________________________________________________\n",
      "up_sampling2d_6 (UpSampling2D)  (None, 128, 128, 128 0           batch_normalization_27[0][0]     \n",
      "__________________________________________________________________________________________________\n",
      "concatenate_7 (Concatenate)     (None, 128, 128, 192 0           up_sampling2d_6[0][0]            \n",
      "                                                                 block1_pool[0][0]                \n",
      "__________________________________________________________________________________________________\n",
      "zero_padding2d_23 (ZeroPadding2 (None, 130, 130, 192 0           concatenate_7[0][0]              \n",
      "__________________________________________________________________________________________________\n",
      "conv2d_41 (Conv2D)              (None, 128, 128, 64) 110656      zero_padding2d_23[0][0]          \n",
      "__________________________________________________________________________________________________\n",
      "batch_normalization_28 (BatchNo (None, 128, 128, 64) 256         conv2d_41[0][0]                  \n",
      "__________________________________________________________________________________________________\n",
      "conv2d_42 (Conv2D)              (None, 128, 128, 3)  1731        batch_normalization_28[0][0]     \n",
      "__________________________________________________________________________________________________\n",
      "reshape_6 (Reshape)             (None, 16384, 3)     0           conv2d_42[0][0]                  \n",
      "__________________________________________________________________________________________________\n",
      "activation_26 (Activation)      (None, 16384, 3)     0           reshape_6[0][0]                  \n",
      "==================================================================================================\n",
      "Total params: 12,323,523\n",
      "Trainable params: 12,321,603\n",
      "Non-trainable params: 1,920\n",
      "__________________________________________________________________________________________________\n",
      "\n",
      "segnet\n"
     ]
    },
    {
     "name": "stderr",
     "output_type": "stream",
     "text": [
      "Plotting...:  70%|███████   | 7/10 [00:07<00:03,  1.15s/it]"
     ]
    },
    {
     "name": "stdout",
     "output_type": "stream",
     "text": [
      "_________________________________________________________________\n",
      "Layer (type)                 Output Shape              Param #   \n",
      "=================================================================\n",
      "input_7 (InputLayer)         (None, 256, 256, 3)       0         \n",
      "_________________________________________________________________\n",
      "zero_padding2d_24 (ZeroPaddi (None, 258, 258, 3)       0         \n",
      "_________________________________________________________________\n",
      "conv2d_43 (Conv2D)           (None, 256, 256, 64)      1792      \n",
      "_________________________________________________________________\n",
      "batch_normalization_29 (Batc (None, 256, 256, 64)      256       \n",
      "_________________________________________________________________\n",
      "activation_27 (Activation)   (None, 256, 256, 64)      0         \n",
      "_________________________________________________________________\n",
      "max_pooling2d_16 (MaxPooling (None, 128, 128, 64)      0         \n",
      "_________________________________________________________________\n",
      "zero_padding2d_25 (ZeroPaddi (None, 130, 130, 64)      0         \n",
      "_________________________________________________________________\n",
      "conv2d_44 (Conv2D)           (None, 128, 128, 128)     73856     \n",
      "_________________________________________________________________\n",
      "batch_normalization_30 (Batc (None, 128, 128, 128)     512       \n",
      "_________________________________________________________________\n",
      "activation_28 (Activation)   (None, 128, 128, 128)     0         \n",
      "_________________________________________________________________\n",
      "max_pooling2d_17 (MaxPooling (None, 64, 64, 128)       0         \n",
      "_________________________________________________________________\n",
      "zero_padding2d_26 (ZeroPaddi (None, 66, 66, 128)       0         \n",
      "_________________________________________________________________\n",
      "conv2d_45 (Conv2D)           (None, 64, 64, 256)       295168    \n",
      "_________________________________________________________________\n",
      "batch_normalization_31 (Batc (None, 64, 64, 256)       1024      \n",
      "_________________________________________________________________\n",
      "activation_29 (Activation)   (None, 64, 64, 256)       0         \n",
      "_________________________________________________________________\n",
      "max_pooling2d_18 (MaxPooling (None, 32, 32, 256)       0         \n",
      "_________________________________________________________________\n",
      "zero_padding2d_27 (ZeroPaddi (None, 34, 34, 256)       0         \n",
      "_________________________________________________________________\n",
      "conv2d_46 (Conv2D)           (None, 32, 32, 256)       590080    \n",
      "_________________________________________________________________\n",
      "batch_normalization_32 (Batc (None, 32, 32, 256)       1024      \n",
      "_________________________________________________________________\n",
      "activation_30 (Activation)   (None, 32, 32, 256)       0         \n",
      "_________________________________________________________________\n",
      "max_pooling2d_19 (MaxPooling (None, 16, 16, 256)       0         \n",
      "_________________________________________________________________\n",
      "zero_padding2d_29 (ZeroPaddi (None, 18, 18, 256)       0         \n",
      "_________________________________________________________________\n",
      "conv2d_48 (Conv2D)           (None, 16, 16, 512)       1180160   \n",
      "_________________________________________________________________\n",
      "batch_normalization_34 (Batc (None, 16, 16, 512)       2048      \n",
      "_________________________________________________________________\n",
      "up_sampling2d_7 (UpSampling2 (None, 32, 32, 512)       0         \n",
      "_________________________________________________________________\n",
      "zero_padding2d_30 (ZeroPaddi (None, 34, 34, 512)       0         \n",
      "_________________________________________________________________\n",
      "conv2d_49 (Conv2D)           (None, 32, 32, 256)       1179904   \n",
      "_________________________________________________________________\n",
      "batch_normalization_35 (Batc (None, 32, 32, 256)       1024      \n",
      "_________________________________________________________________\n",
      "up_sampling2d_8 (UpSampling2 (None, 64, 64, 256)       0         \n",
      "_________________________________________________________________\n",
      "zero_padding2d_31 (ZeroPaddi (None, 66, 66, 256)       0         \n",
      "_________________________________________________________________\n",
      "conv2d_50 (Conv2D)           (None, 64, 64, 128)       295040    \n",
      "_________________________________________________________________\n",
      "batch_normalization_36 (Batc (None, 64, 64, 128)       512       \n",
      "_________________________________________________________________\n",
      "up_sampling2d_9 (UpSampling2 (None, 128, 128, 128)     0         \n",
      "_________________________________________________________________\n",
      "zero_padding2d_32 (ZeroPaddi (None, 130, 130, 128)     0         \n",
      "_________________________________________________________________\n",
      "conv2d_51 (Conv2D)           (None, 128, 128, 64)      73792     \n",
      "_________________________________________________________________\n",
      "batch_normalization_37 (Batc (None, 128, 128, 64)      256       \n",
      "_________________________________________________________________\n",
      "conv2d_52 (Conv2D)           (None, 128, 128, 3)       1731      \n",
      "_________________________________________________________________\n",
      "reshape_7 (Reshape)          (None, 16384, 3)          0         \n",
      "_________________________________________________________________\n",
      "activation_32 (Activation)   (None, 16384, 3)          0         \n",
      "=================================================================\n",
      "Total params: 3,698,179\n",
      "Trainable params: 3,694,851\n",
      "Non-trainable params: 3,328\n",
      "_________________________________________________________________\n",
      "\n",
      "fcn_8\n"
     ]
    },
    {
     "name": "stderr",
     "output_type": "stream",
     "text": [
      "Plotting...:  80%|████████  | 8/10 [00:09<00:02,  1.16s/it]"
     ]
    },
    {
     "name": "stdout",
     "output_type": "stream",
     "text": [
      "__________________________________________________________________________________________________\n",
      "Layer (type)                    Output Shape         Param #     Connected to                     \n",
      "==================================================================================================\n",
      "input_8 (InputLayer)            (None, 256, 256, 3)  0                                            \n",
      "__________________________________________________________________________________________________\n",
      "zero_padding2d_33 (ZeroPadding2 (None, 258, 258, 3)  0           input_8[0][0]                    \n",
      "__________________________________________________________________________________________________\n",
      "conv2d_53 (Conv2D)              (None, 256, 256, 64) 1792        zero_padding2d_33[0][0]          \n",
      "__________________________________________________________________________________________________\n",
      "batch_normalization_38 (BatchNo (None, 256, 256, 64) 256         conv2d_53[0][0]                  \n",
      "__________________________________________________________________________________________________\n",
      "activation_33 (Activation)      (None, 256, 256, 64) 0           batch_normalization_38[0][0]     \n",
      "__________________________________________________________________________________________________\n",
      "max_pooling2d_21 (MaxPooling2D) (None, 128, 128, 64) 0           activation_33[0][0]              \n",
      "__________________________________________________________________________________________________\n",
      "zero_padding2d_34 (ZeroPadding2 (None, 130, 130, 64) 0           max_pooling2d_21[0][0]           \n",
      "__________________________________________________________________________________________________\n",
      "conv2d_54 (Conv2D)              (None, 128, 128, 128 73856       zero_padding2d_34[0][0]          \n",
      "__________________________________________________________________________________________________\n",
      "batch_normalization_39 (BatchNo (None, 128, 128, 128 512         conv2d_54[0][0]                  \n",
      "__________________________________________________________________________________________________\n",
      "activation_34 (Activation)      (None, 128, 128, 128 0           batch_normalization_39[0][0]     \n",
      "__________________________________________________________________________________________________\n",
      "max_pooling2d_22 (MaxPooling2D) (None, 64, 64, 128)  0           activation_34[0][0]              \n",
      "__________________________________________________________________________________________________\n",
      "zero_padding2d_35 (ZeroPadding2 (None, 66, 66, 128)  0           max_pooling2d_22[0][0]           \n",
      "__________________________________________________________________________________________________\n",
      "conv2d_55 (Conv2D)              (None, 64, 64, 256)  295168      zero_padding2d_35[0][0]          \n",
      "__________________________________________________________________________________________________\n",
      "batch_normalization_40 (BatchNo (None, 64, 64, 256)  1024        conv2d_55[0][0]                  \n",
      "__________________________________________________________________________________________________\n",
      "activation_35 (Activation)      (None, 64, 64, 256)  0           batch_normalization_40[0][0]     \n",
      "__________________________________________________________________________________________________\n",
      "max_pooling2d_23 (MaxPooling2D) (None, 32, 32, 256)  0           activation_35[0][0]              \n",
      "__________________________________________________________________________________________________\n",
      "zero_padding2d_36 (ZeroPadding2 (None, 34, 34, 256)  0           max_pooling2d_23[0][0]           \n",
      "__________________________________________________________________________________________________\n",
      "conv2d_56 (Conv2D)              (None, 32, 32, 256)  590080      zero_padding2d_36[0][0]          \n",
      "__________________________________________________________________________________________________\n",
      "batch_normalization_41 (BatchNo (None, 32, 32, 256)  1024        conv2d_56[0][0]                  \n",
      "__________________________________________________________________________________________________\n",
      "activation_36 (Activation)      (None, 32, 32, 256)  0           batch_normalization_41[0][0]     \n",
      "__________________________________________________________________________________________________\n",
      "max_pooling2d_24 (MaxPooling2D) (None, 16, 16, 256)  0           activation_36[0][0]              \n",
      "__________________________________________________________________________________________________\n",
      "zero_padding2d_37 (ZeroPadding2 (None, 18, 18, 256)  0           max_pooling2d_24[0][0]           \n",
      "__________________________________________________________________________________________________\n",
      "conv2d_57 (Conv2D)              (None, 16, 16, 256)  590080      zero_padding2d_37[0][0]          \n",
      "__________________________________________________________________________________________________\n",
      "batch_normalization_42 (BatchNo (None, 16, 16, 256)  1024        conv2d_57[0][0]                  \n",
      "__________________________________________________________________________________________________\n",
      "activation_37 (Activation)      (None, 16, 16, 256)  0           batch_normalization_42[0][0]     \n",
      "__________________________________________________________________________________________________\n",
      "max_pooling2d_25 (MaxPooling2D) (None, 8, 8, 256)    0           activation_37[0][0]              \n",
      "__________________________________________________________________________________________________\n",
      "conv2d_58 (Conv2D)              (None, 8, 8, 4096)   51384320    max_pooling2d_25[0][0]           \n",
      "__________________________________________________________________________________________________\n",
      "dropout_7 (Dropout)             (None, 8, 8, 4096)   0           conv2d_58[0][0]                  \n",
      "__________________________________________________________________________________________________\n",
      "conv2d_59 (Conv2D)              (None, 8, 8, 4096)   16781312    dropout_7[0][0]                  \n",
      "__________________________________________________________________________________________________\n",
      "dropout_8 (Dropout)             (None, 8, 8, 4096)   0           conv2d_59[0][0]                  \n",
      "__________________________________________________________________________________________________\n",
      "conv2d_60 (Conv2D)              (None, 8, 8, 3)      12291       dropout_8[0][0]                  \n",
      "__________________________________________________________________________________________________\n",
      "conv2d_transpose_6 (Conv2DTrans (None, 18, 18, 3)    144         conv2d_60[0][0]                  \n",
      "__________________________________________________________________________________________________\n",
      "cropping2d_5 (Cropping2D)       (None, 18, 16, 3)    0           conv2d_transpose_6[0][0]         \n",
      "__________________________________________________________________________________________________\n",
      "cropping2d_6 (Cropping2D)       (None, 16, 16, 3)    0           cropping2d_5[0][0]               \n",
      "__________________________________________________________________________________________________\n",
      "conv2d_61 (Conv2D)              (None, 16, 16, 3)    771         max_pooling2d_24[0][0]           \n",
      "__________________________________________________________________________________________________\n",
      "add_3 (Add)                     (None, 16, 16, 3)    0           cropping2d_6[0][0]               \n",
      "                                                                 conv2d_61[0][0]                  \n",
      "__________________________________________________________________________________________________\n",
      "conv2d_transpose_7 (Conv2DTrans (None, 34, 34, 3)    144         add_3[0][0]                      \n",
      "__________________________________________________________________________________________________\n",
      "cropping2d_7 (Cropping2D)       (None, 34, 32, 3)    0           conv2d_transpose_7[0][0]         \n",
      "__________________________________________________________________________________________________\n",
      "conv2d_62 (Conv2D)              (None, 32, 32, 3)    771         max_pooling2d_23[0][0]           \n",
      "__________________________________________________________________________________________________\n",
      "cropping2d_8 (Cropping2D)       (None, 32, 32, 3)    0           cropping2d_7[0][0]               \n",
      "__________________________________________________________________________________________________\n",
      "add_4 (Add)                     (None, 32, 32, 3)    0           conv2d_62[0][0]                  \n",
      "                                                                 cropping2d_8[0][0]               \n",
      "__________________________________________________________________________________________________\n",
      "conv2d_transpose_8 (Conv2DTrans (None, 264, 264, 3)  2304        add_4[0][0]                      \n",
      "__________________________________________________________________________________________________\n",
      "reshape_8 (Reshape)             (None, 69696, 3)     0           conv2d_transpose_8[0][0]         \n",
      "__________________________________________________________________________________________________\n",
      "activation_38 (Activation)      (None, 69696, 3)     0           reshape_8[0][0]                  \n",
      "==================================================================================================\n",
      "Total params: 69,736,873\n",
      "Trainable params: 69,734,953\n",
      "Non-trainable params: 1,920\n",
      "__________________________________________________________________________________________________\n",
      "\n",
      "segnet_vgg16\n"
     ]
    },
    {
     "name": "stderr",
     "output_type": "stream",
     "text": [
      "Plotting...:  90%|█████████ | 9/10 [00:10<00:01,  1.26s/it]"
     ]
    },
    {
     "name": "stdout",
     "output_type": "stream",
     "text": [
      "_________________________________________________________________\n",
      "Layer (type)                 Output Shape              Param #   \n",
      "=================================================================\n",
      "input_9 (InputLayer)         (None, 256, 256, 3)       0         \n",
      "_________________________________________________________________\n",
      "block1_conv1 (Conv2D)        (None, 256, 256, 64)      1792      \n",
      "_________________________________________________________________\n",
      "block1_conv2 (Conv2D)        (None, 256, 256, 64)      36928     \n",
      "_________________________________________________________________\n",
      "block1_pool (MaxPooling2D)   (None, 128, 128, 64)      0         \n",
      "_________________________________________________________________\n",
      "block2_conv1 (Conv2D)        (None, 128, 128, 128)     73856     \n",
      "_________________________________________________________________\n",
      "block2_conv2 (Conv2D)        (None, 128, 128, 128)     147584    \n",
      "_________________________________________________________________\n",
      "block2_pool (MaxPooling2D)   (None, 64, 64, 128)       0         \n",
      "_________________________________________________________________\n",
      "block3_conv1 (Conv2D)        (None, 64, 64, 256)       295168    \n",
      "_________________________________________________________________\n",
      "block3_conv2 (Conv2D)        (None, 64, 64, 256)       590080    \n",
      "_________________________________________________________________\n",
      "block3_conv3 (Conv2D)        (None, 64, 64, 256)       590080    \n",
      "_________________________________________________________________\n",
      "block3_pool (MaxPooling2D)   (None, 32, 32, 256)       0         \n",
      "_________________________________________________________________\n",
      "block4_conv1 (Conv2D)        (None, 32, 32, 512)       1180160   \n",
      "_________________________________________________________________\n",
      "block4_conv2 (Conv2D)        (None, 32, 32, 512)       2359808   \n",
      "_________________________________________________________________\n",
      "block4_conv3 (Conv2D)        (None, 32, 32, 512)       2359808   \n",
      "_________________________________________________________________\n",
      "block4_pool (MaxPooling2D)   (None, 16, 16, 512)       0         \n",
      "_________________________________________________________________\n",
      "zero_padding2d_38 (ZeroPaddi (None, 18, 18, 512)       0         \n",
      "_________________________________________________________________\n",
      "conv2d_63 (Conv2D)           (None, 16, 16, 512)       2359808   \n",
      "_________________________________________________________________\n",
      "batch_normalization_43 (Batc (None, 16, 16, 512)       2048      \n",
      "_________________________________________________________________\n",
      "up_sampling2d_10 (UpSampling (None, 32, 32, 512)       0         \n",
      "_________________________________________________________________\n",
      "zero_padding2d_39 (ZeroPaddi (None, 34, 34, 512)       0         \n",
      "_________________________________________________________________\n",
      "conv2d_64 (Conv2D)           (None, 32, 32, 256)       1179904   \n",
      "_________________________________________________________________\n",
      "batch_normalization_44 (Batc (None, 32, 32, 256)       1024      \n",
      "_________________________________________________________________\n",
      "up_sampling2d_11 (UpSampling (None, 64, 64, 256)       0         \n",
      "_________________________________________________________________\n",
      "zero_padding2d_40 (ZeroPaddi (None, 66, 66, 256)       0         \n",
      "_________________________________________________________________\n",
      "conv2d_65 (Conv2D)           (None, 64, 64, 128)       295040    \n",
      "_________________________________________________________________\n",
      "batch_normalization_45 (Batc (None, 64, 64, 128)       512       \n",
      "_________________________________________________________________\n",
      "up_sampling2d_12 (UpSampling (None, 128, 128, 128)     0         \n",
      "_________________________________________________________________\n",
      "zero_padding2d_41 (ZeroPaddi (None, 130, 130, 128)     0         \n",
      "_________________________________________________________________\n",
      "conv2d_66 (Conv2D)           (None, 128, 128, 64)      73792     \n",
      "_________________________________________________________________\n",
      "batch_normalization_46 (Batc (None, 128, 128, 64)      256       \n",
      "_________________________________________________________________\n",
      "conv2d_67 (Conv2D)           (None, 128, 128, 3)       1731      \n",
      "_________________________________________________________________\n",
      "reshape_9 (Reshape)          (None, 16384, 3)          0         \n",
      "_________________________________________________________________\n",
      "activation_39 (Activation)   (None, 16384, 3)          0         \n",
      "=================================================================\n",
      "Total params: 11,549,379\n",
      "Trainable params: 11,547,459\n",
      "Non-trainable params: 1,920\n",
      "_________________________________________________________________\n",
      "\n",
      "pspnet_vgg16\n"
     ]
    },
    {
     "name": "stderr",
     "output_type": "stream",
     "text": [
      "Plotting...: 100%|██████████| 10/10 [00:12<00:00,  1.22s/it]"
     ]
    },
    {
     "name": "stdout",
     "output_type": "stream",
     "text": [
      "__________________________________________________________________________________________________\n",
      "Layer (type)                    Output Shape         Param #     Connected to                     \n",
      "==================================================================================================\n",
      "input_10 (InputLayer)           (None, 384, 384, 3)  0                                            \n",
      "__________________________________________________________________________________________________\n",
      "block1_conv1 (Conv2D)           (None, 384, 384, 64) 1792        input_10[0][0]                   \n",
      "__________________________________________________________________________________________________\n",
      "block1_conv2 (Conv2D)           (None, 384, 384, 64) 36928       block1_conv1[0][0]               \n",
      "__________________________________________________________________________________________________\n",
      "block1_pool (MaxPooling2D)      (None, 192, 192, 64) 0           block1_conv2[0][0]               \n",
      "__________________________________________________________________________________________________\n",
      "block2_conv1 (Conv2D)           (None, 192, 192, 128 73856       block1_pool[0][0]                \n",
      "__________________________________________________________________________________________________\n",
      "block2_conv2 (Conv2D)           (None, 192, 192, 128 147584      block2_conv1[0][0]               \n",
      "__________________________________________________________________________________________________\n",
      "block2_pool (MaxPooling2D)      (None, 96, 96, 128)  0           block2_conv2[0][0]               \n",
      "__________________________________________________________________________________________________\n",
      "block3_conv1 (Conv2D)           (None, 96, 96, 256)  295168      block2_pool[0][0]                \n",
      "__________________________________________________________________________________________________\n",
      "block3_conv2 (Conv2D)           (None, 96, 96, 256)  590080      block3_conv1[0][0]               \n",
      "__________________________________________________________________________________________________\n",
      "block3_conv3 (Conv2D)           (None, 96, 96, 256)  590080      block3_conv2[0][0]               \n",
      "__________________________________________________________________________________________________\n",
      "block3_pool (MaxPooling2D)      (None, 48, 48, 256)  0           block3_conv3[0][0]               \n",
      "__________________________________________________________________________________________________\n",
      "block4_conv1 (Conv2D)           (None, 48, 48, 512)  1180160     block3_pool[0][0]                \n",
      "__________________________________________________________________________________________________\n",
      "block4_conv2 (Conv2D)           (None, 48, 48, 512)  2359808     block4_conv1[0][0]               \n",
      "__________________________________________________________________________________________________\n",
      "block4_conv3 (Conv2D)           (None, 48, 48, 512)  2359808     block4_conv2[0][0]               \n",
      "__________________________________________________________________________________________________\n",
      "block4_pool (MaxPooling2D)      (None, 24, 24, 512)  0           block4_conv3[0][0]               \n",
      "__________________________________________________________________________________________________\n",
      "block5_conv1 (Conv2D)           (None, 24, 24, 512)  2359808     block4_pool[0][0]                \n",
      "__________________________________________________________________________________________________\n",
      "block5_conv2 (Conv2D)           (None, 24, 24, 512)  2359808     block5_conv1[0][0]               \n",
      "__________________________________________________________________________________________________\n",
      "block5_conv3 (Conv2D)           (None, 24, 24, 512)  2359808     block5_conv2[0][0]               \n",
      "__________________________________________________________________________________________________\n",
      "block5_pool (MaxPooling2D)      (None, 12, 12, 512)  0           block5_conv3[0][0]               \n",
      "__________________________________________________________________________________________________\n",
      "average_pooling2d_5 (AveragePoo (None, 1, 1, 512)    0           block5_pool[0][0]                \n",
      "__________________________________________________________________________________________________\n",
      "average_pooling2d_6 (AveragePoo (None, 2, 2, 512)    0           block5_pool[0][0]                \n",
      "__________________________________________________________________________________________________\n",
      "average_pooling2d_7 (AveragePoo (None, 3, 3, 512)    0           block5_pool[0][0]                \n",
      "__________________________________________________________________________________________________\n",
      "average_pooling2d_8 (AveragePoo (None, 6, 6, 512)    0           block5_pool[0][0]                \n",
      "__________________________________________________________________________________________________\n",
      "conv2d_68 (Conv2D)              (None, 1, 1, 512)    262144      average_pooling2d_5[0][0]        \n",
      "__________________________________________________________________________________________________\n",
      "conv2d_69 (Conv2D)              (None, 2, 2, 512)    262144      average_pooling2d_6[0][0]        \n",
      "__________________________________________________________________________________________________\n",
      "conv2d_70 (Conv2D)              (None, 3, 3, 512)    262144      average_pooling2d_7[0][0]        \n",
      "__________________________________________________________________________________________________\n",
      "conv2d_71 (Conv2D)              (None, 6, 6, 512)    262144      average_pooling2d_8[0][0]        \n",
      "__________________________________________________________________________________________________\n",
      "batch_normalization_47 (BatchNo (None, 1, 1, 512)    2048        conv2d_68[0][0]                  \n",
      "__________________________________________________________________________________________________\n",
      "batch_normalization_48 (BatchNo (None, 2, 2, 512)    2048        conv2d_69[0][0]                  \n",
      "__________________________________________________________________________________________________\n",
      "batch_normalization_49 (BatchNo (None, 3, 3, 512)    2048        conv2d_70[0][0]                  \n",
      "__________________________________________________________________________________________________\n",
      "batch_normalization_50 (BatchNo (None, 6, 6, 512)    2048        conv2d_71[0][0]                  \n",
      "__________________________________________________________________________________________________\n",
      "activation_40 (Activation)      (None, 1, 1, 512)    0           batch_normalization_47[0][0]     \n",
      "__________________________________________________________________________________________________\n",
      "activation_41 (Activation)      (None, 2, 2, 512)    0           batch_normalization_48[0][0]     \n",
      "__________________________________________________________________________________________________\n",
      "activation_42 (Activation)      (None, 3, 3, 512)    0           batch_normalization_49[0][0]     \n",
      "__________________________________________________________________________________________________\n",
      "activation_43 (Activation)      (None, 6, 6, 512)    0           batch_normalization_50[0][0]     \n",
      "__________________________________________________________________________________________________\n",
      "lambda_12 (Lambda)              (None, 12, 12, 512)  0           activation_40[0][0]              \n",
      "__________________________________________________________________________________________________\n",
      "lambda_14 (Lambda)              (None, 12, 12, 512)  0           activation_41[0][0]              \n",
      "__________________________________________________________________________________________________\n",
      "lambda_16 (Lambda)              (None, 12, 12, 512)  0           activation_42[0][0]              \n",
      "__________________________________________________________________________________________________\n",
      "lambda_18 (Lambda)              (None, 12, 12, 512)  0           activation_43[0][0]              \n",
      "__________________________________________________________________________________________________\n",
      "concatenate_8 (Concatenate)     (None, 12, 12, 2560) 0           block5_pool[0][0]                \n",
      "                                                                 lambda_12[0][0]                  \n",
      "                                                                 lambda_14[0][0]                  \n",
      "                                                                 lambda_16[0][0]                  \n",
      "                                                                 lambda_18[0][0]                  \n",
      "__________________________________________________________________________________________________\n",
      "conv2d_72 (Conv2D)              (None, 12, 12, 512)  1310720     concatenate_8[0][0]              \n",
      "__________________________________________________________________________________________________\n",
      "batch_normalization_51 (BatchNo (None, 12, 12, 512)  2048        conv2d_72[0][0]                  \n",
      "__________________________________________________________________________________________________\n",
      "activation_44 (Activation)      (None, 12, 12, 512)  0           batch_normalization_51[0][0]     \n",
      "__________________________________________________________________________________________________\n",
      "conv2d_73 (Conv2D)              (None, 12, 12, 3)    13827       activation_44[0][0]              \n",
      "__________________________________________________________________________________________________\n",
      "lambda_20 (Lambda)              (None, 96, 96, 3)    0           conv2d_73[0][0]                  \n",
      "__________________________________________________________________________________________________\n",
      "reshape_10 (Reshape)            (None, 9216, 3)      0           lambda_20[0][0]                  \n",
      "__________________________________________________________________________________________________\n",
      "activation_45 (Activation)      (None, 9216, 3)      0           reshape_10[0][0]                 \n",
      "==================================================================================================\n",
      "Total params: 17,098,051\n",
      "Trainable params: 17,092,931\n",
      "Non-trainable params: 5,120\n",
      "__________________________________________________________________________________________________\n",
      "\n"
     ]
    },
    {
     "name": "stderr",
     "output_type": "stream",
     "text": [
      "\n"
     ]
    }
   ],
   "source": [
    "for model in tqdm.tqdm(models, desc=\"Plotting...\"):\n",
    "    plots(model)"
   ]
  },
  {
   "cell_type": "code",
   "execution_count": 10,
   "metadata": {},
   "outputs": [],
   "source": [
    "def ep(model, out_dir, blur_dir, save_blur=False):\n",
    "    print(model)\n",
    "    out = os.path.join(out_dir, model)\n",
    "    print(out)\n",
    "    if not os.path.exists(out):\n",
    "        os.makedirs(out)\n",
    "    \n",
    "    out_blur = os.path.join(blur_dir, model)\n",
    "    print(out_blur)\n",
    "    if not os.path.exists(out_blur):\n",
    "        os.makedirs(out_blur)\n",
    "        \n",
    "    m = M[model](n_classes=3, input_height=size[model], input_width=size[model])\n",
    "    m.load_weights(weights[model])\n",
    "    evaluation = m.evaluate_segmentation(inp_images_dir=TEST_IMAGES_DIR, annotations_dir=TEST_ANNOTATIONS_DIR)\n",
    "#     evaluation = \"\"\n",
    "    print(evaluation)\n",
    "\n",
    "    predicts, blurs = predict_multiple(model=m, inps=None, inp_dir=TEST_IMAGES_DIR, out_dir=out, blur_dir=out_blur, save_blur=save_blur)\n",
    "    \n",
    "    \n",
    "    \n",
    "    return evaluation, predicts, out, blurs"
   ]
  },
  {
   "cell_type": "code",
   "execution_count": 11,
   "metadata": {},
   "outputs": [
    {
     "name": "stdout",
     "output_type": "stream",
     "text": [
      "fcn_32\n",
      "/home/jho/projects/image-segmentation-keras/out/predictions/predcition_195231/fcn_32\n",
      "/home/jho/projects/image-segmentation-keras/out/predictions/blur_195231/fcn_32\n"
     ]
    },
    {
     "name": "stderr",
     "output_type": "stream",
     "text": [
      "400it [00:12, 30.84it/s]\n",
      "  1%|          | 4/400 [00:00<00:12, 32.30it/s]"
     ]
    },
    {
     "name": "stdout",
     "output_type": "stream",
     "text": [
      "{'frequency_weighted_IU': 0.8604576350416526, 'mean_IU': 0.8230446471670144, 'class_wise_IU(IoU)': array([0.90604135, 0.87672312, 0.68636947]), 'f1_score': array([0.95070482, 0.9343127 , 0.81402027]), 'acc': array([0.93873598, 0.97191964, 0.93867965])}\n"
     ]
    },
    {
     "name": "stderr",
     "output_type": "stream",
     "text": [
      "100%|██████████| 400/400 [00:11<00:00, 35.03it/s]\n"
     ]
    },
    {
     "name": "stdout",
     "output_type": "stream",
     "text": [
      "fcn_32_vgg16\n",
      "/home/jho/projects/image-segmentation-keras/out/predictions/predcition_195231/fcn_32_vgg16\n",
      "/home/jho/projects/image-segmentation-keras/out/predictions/blur_195231/fcn_32_vgg16\n"
     ]
    },
    {
     "name": "stderr",
     "output_type": "stream",
     "text": [
      "400it [00:21, 18.87it/s]\n",
      "  0%|          | 2/400 [00:00<00:19, 19.92it/s]"
     ]
    },
    {
     "name": "stdout",
     "output_type": "stream",
     "text": [
      "{'frequency_weighted_IU': 0.8718648075149777, 'mean_IU': 0.836138733456186, 'class_wise_IU(IoU)': array([0.91806975, 0.85458312, 0.73576334]), 'f1_score': array([0.95728505, 0.92159053, 0.84776919]), 'acc': array([0.94836676, 0.96799952, 0.94168132])}\n"
     ]
    },
    {
     "name": "stderr",
     "output_type": "stream",
     "text": [
      "100%|██████████| 400/400 [00:20<00:00, 19.39it/s]\n"
     ]
    },
    {
     "name": "stdout",
     "output_type": "stream",
     "text": [
      "pspnet\n",
      "/home/jho/projects/image-segmentation-keras/out/predictions/predcition_195231/pspnet\n",
      "/home/jho/projects/image-segmentation-keras/out/predictions/blur_195231/pspnet\n"
     ]
    },
    {
     "name": "stderr",
     "output_type": "stream",
     "text": [
      "400it [00:04, 81.44it/s]\n",
      "  2%|▏         | 8/400 [00:00<00:04, 79.39it/s]"
     ]
    },
    {
     "name": "stdout",
     "output_type": "stream",
     "text": [
      "{'frequency_weighted_IU': 0.8662228135278571, 'mean_IU': 0.8297138550963821, 'class_wise_IU(IoU)': array([0.91027023, 0.88526216, 0.69360918]), 'f1_score': array([0.95302771, 0.93913958, 0.81909001]), 'acc': array([0.94104004, 0.97401177, 0.94251058])}\n"
     ]
    },
    {
     "name": "stderr",
     "output_type": "stream",
     "text": [
      "100%|██████████| 400/400 [00:05<00:00, 79.37it/s]\n"
     ]
    },
    {
     "name": "stdout",
     "output_type": "stream",
     "text": [
      "fcn_8_vgg16\n",
      "/home/jho/projects/image-segmentation-keras/out/predictions/predcition_195231/fcn_8_vgg16\n",
      "/home/jho/projects/image-segmentation-keras/out/predictions/blur_195231/fcn_8_vgg16\n"
     ]
    },
    {
     "name": "stderr",
     "output_type": "stream",
     "text": [
      "400it [00:20, 19.13it/s]\n",
      "  0%|          | 2/400 [00:00<00:19, 19.90it/s]"
     ]
    },
    {
     "name": "stdout",
     "output_type": "stream",
     "text": [
      "{'frequency_weighted_IU': 0.9120717731489217, 'mean_IU': 0.8871972593594677, 'class_wise_IU(IoU)': array([0.9434811 , 0.90967785, 0.80843284]), 'f1_score': array([0.97091873, 0.95270294, 0.89407007]), 'acc': array([0.96470153, 0.98000025, 0.96150941])}\n"
     ]
    },
    {
     "name": "stderr",
     "output_type": "stream",
     "text": [
      "100%|██████████| 400/400 [00:20<00:00, 19.37it/s]\n"
     ]
    },
    {
     "name": "stdout",
     "output_type": "stream",
     "text": [
      "unet\n",
      "/home/jho/projects/image-segmentation-keras/out/predictions/predcition_195231/unet\n",
      "/home/jho/projects/image-segmentation-keras/out/predictions/blur_195231/unet\n"
     ]
    },
    {
     "name": "stderr",
     "output_type": "stream",
     "text": [
      "400it [00:03, 101.92it/s]\n",
      "  3%|▎         | 11/400 [00:00<00:03, 101.26it/s]"
     ]
    },
    {
     "name": "stdout",
     "output_type": "stream",
     "text": [
      "{'frequency_weighted_IU': 0.7650149330007543, 'mean_IU': 0.7034001227352461, 'class_wise_IU(IoU)': array([0.84599753, 0.71808013, 0.54612271]), 'f1_score': array([0.91657493, 0.83590994, 0.70644162]), 'acc': array([0.90166443, 0.92056274, 0.90102295])}\n"
     ]
    },
    {
     "name": "stderr",
     "output_type": "stream",
     "text": [
      "100%|██████████| 400/400 [00:04<00:00, 95.89it/s]\n"
     ]
    },
    {
     "name": "stdout",
     "output_type": "stream",
     "text": [
      "unet_vgg16\n",
      "/home/jho/projects/image-segmentation-keras/out/predictions/predcition_195231/unet_vgg16\n",
      "/home/jho/projects/image-segmentation-keras/out/predictions/blur_195231/unet_vgg16\n"
     ]
    },
    {
     "name": "stderr",
     "output_type": "stream",
     "text": [
      "400it [00:05, 79.44it/s]\n",
      "  2%|▏         | 8/400 [00:00<00:04, 79.50it/s]"
     ]
    },
    {
     "name": "stdout",
     "output_type": "stream",
     "text": [
      "{'frequency_weighted_IU': 0.9127088460505369, 'mean_IU': 0.8885570973969146, 'class_wise_IU(IoU)': array([0.94311501, 0.9105979 , 0.81195839]), 'f1_score': array([0.97072485, 0.95320727, 0.89622189]), 'acc': array([0.96417328, 0.98034012, 0.96304886])}\n"
     ]
    },
    {
     "name": "stderr",
     "output_type": "stream",
     "text": [
      "100%|██████████| 400/400 [00:05<00:00, 77.44it/s]\n"
     ]
    },
    {
     "name": "stdout",
     "output_type": "stream",
     "text": [
      "segnet\n",
      "/home/jho/projects/image-segmentation-keras/out/predictions/predcition_195231/segnet\n",
      "/home/jho/projects/image-segmentation-keras/out/predictions/blur_195231/segnet\n"
     ]
    },
    {
     "name": "stderr",
     "output_type": "stream",
     "text": [
      "400it [00:03, 104.27it/s]\n",
      "  3%|▎         | 11/400 [00:00<00:03, 103.27it/s]"
     ]
    },
    {
     "name": "stdout",
     "output_type": "stream",
     "text": [
      "{'frequency_weighted_IU': 0.8248649893487005, 'mean_IU': 0.783049843976246, 'class_wise_IU(IoU)': array([0.87535775, 0.84740484, 0.62638693]), 'f1_score': array([0.93353682, 0.91740026, 0.77028033]), 'acc': array([0.91834335, 0.96487396, 0.92048386])}\n"
     ]
    },
    {
     "name": "stderr",
     "output_type": "stream",
     "text": [
      "100%|██████████| 400/400 [00:03<00:00, 101.90it/s]\n"
     ]
    },
    {
     "name": "stdout",
     "output_type": "stream",
     "text": [
      "fcn_8\n",
      "/home/jho/projects/image-segmentation-keras/out/predictions/predcition_195231/fcn_8\n",
      "/home/jho/projects/image-segmentation-keras/out/predictions/blur_195231/fcn_8\n"
     ]
    },
    {
     "name": "stderr",
     "output_type": "stream",
     "text": [
      "400it [00:11, 33.90it/s]\n",
      "  1%|          | 4/400 [00:00<00:10, 36.45it/s]"
     ]
    },
    {
     "name": "stdout",
     "output_type": "stream",
     "text": [
      "{'frequency_weighted_IU': 0.860749797686285, 'mean_IU': 0.8246423507863397, 'class_wise_IU(IoU)': array([0.90474546, 0.87709744, 0.69208415]), 'f1_score': array([0.94999094, 0.93452521, 0.81802569]), 'acc': array([0.93807399, 0.97196668, 0.93930247])}\n"
     ]
    },
    {
     "name": "stderr",
     "output_type": "stream",
     "text": [
      "100%|██████████| 400/400 [00:11<00:00, 35.03it/s]\n"
     ]
    },
    {
     "name": "stdout",
     "output_type": "stream",
     "text": [
      "segnet_vgg16\n",
      "/home/jho/projects/image-segmentation-keras/out/predictions/predcition_195231/segnet_vgg16\n",
      "/home/jho/projects/image-segmentation-keras/out/predictions/blur_195231/segnet_vgg16\n"
     ]
    },
    {
     "name": "stderr",
     "output_type": "stream",
     "text": [
      "400it [00:04, 81.08it/s]\n",
      "  2%|▏         | 9/400 [00:00<00:04, 81.78it/s]"
     ]
    },
    {
     "name": "stdout",
     "output_type": "stream",
     "text": [
      "{'frequency_weighted_IU': 0.8813162120162946, 'mean_IU': 0.8462812603801418, 'class_wise_IU(IoU)': array([0.9265923 , 0.8640255 , 0.74822599]), 'f1_score': array([0.96189764, 0.9270533 , 0.85598314]), 'acc': array([0.95230118, 0.97070374, 0.95009415])}\n"
     ]
    },
    {
     "name": "stderr",
     "output_type": "stream",
     "text": [
      "100%|██████████| 400/400 [00:05<00:00, 77.45it/s]\n"
     ]
    },
    {
     "name": "stdout",
     "output_type": "stream",
     "text": [
      "pspnet_vgg16\n",
      "/home/jho/projects/image-segmentation-keras/out/predictions/predcition_195231/pspnet_vgg16\n",
      "/home/jho/projects/image-segmentation-keras/out/predictions/blur_195231/pspnet_vgg16\n"
     ]
    },
    {
     "name": "stderr",
     "output_type": "stream",
     "text": [
      "400it [00:08, 49.27it/s]\n",
      "  2%|▏         | 6/400 [00:00<00:07, 52.38it/s]"
     ]
    },
    {
     "name": "stdout",
     "output_type": "stream",
     "text": [
      "{'frequency_weighted_IU': 0.9021114850511832, 'mean_IU': 0.8749693918859021, 'class_wise_IU(IoU)': array([0.93621931, 0.89975569, 0.78893317]), 'f1_score': array([0.96705916, 0.94723305, 0.88201525]), 'acc': array([0.96008084, 0.97766059, 0.95695964])}\n"
     ]
    },
    {
     "name": "stderr",
     "output_type": "stream",
     "text": [
      "100%|██████████| 400/400 [00:07<00:00, 52.68it/s]"
     ]
    },
    {
     "name": "stdout",
     "output_type": "stream",
     "text": [
      "FINSHED\n"
     ]
    },
    {
     "name": "stderr",
     "output_type": "stream",
     "text": [
      "\n"
     ]
    }
   ],
   "source": [
    "# evaluate & predict\n",
    "evaluations = {}\n",
    "predicts = {}\n",
    "out = {}\n",
    "blurs = {}\n",
    "\n",
    "# predicts['fcn_8'], out_dir['fcn_8'] = pe('fcn_8')\n",
    "out_dir = BEST_DIR\n",
    "blur_dir = BLUR_DIR\n",
    "for model in models:\n",
    "    evaluations[model], predicts[model], out[model], blurs[model] = ep(model, out_dir, blur_dir, save_blur=True)\n",
    "#     print(predict)\n",
    "\n",
    "print('FINSHED')\n",
    "\n",
    "# for model in tqdm.tqdm(models, desc=\"model\"):\n",
    "#     print(model)\n",
    "#     out_dir[model] = os.path.join(PREDICTIONS_DIR, 'best/' + model)\n",
    "#     print(out_dir[model])\n",
    "#     if not os.path.exists(out_dir[model]):\n",
    "#         os.makedirs(out_dir[model])\n",
    "#     m = M[model](n_classes=3, input_height=size[model], input_width=size[model])\n",
    "    \n",
    "#     predicts[model] = predict_multiple(model=m, inps=None, inp_dir=TEST_IMAGE_DIR,\n",
    "#                      out_dir=out_dir[model], \n",
    "#                      checkpoints_path=weights[model])"
   ]
  },
  {
   "cell_type": "code",
   "execution_count": 12,
   "metadata": {},
   "outputs": [
    {
     "name": "stdout",
     "output_type": "stream",
     "text": [
      "fcn_32 0.97\n",
      "fcn_32_vgg16 0.97\n",
      "pspnet 0.97\n",
      "fcn_8_vgg16 0.98\n",
      "unet 0.92\n",
      "unet_vgg16 0.98\n",
      "segnet 0.96\n",
      "fcn_8 0.97\n",
      "segnet_vgg16 0.97\n",
      "pspnet_vgg16 0.98\n"
     ]
    }
   ],
   "source": [
    "acc = {}\n",
    "for model, values in evaluations.items():\n",
    "    acc[model] = values['acc'][1]\n",
    "for name, va in acc.items():\n",
    "    print(name, '%.2f'%(va))"
   ]
  },
  {
   "cell_type": "code",
   "execution_count": 13,
   "metadata": {},
   "outputs": [
    {
     "name": "stdout",
     "output_type": "stream",
     "text": [
      "/home/jho/projects/image-segmentation-keras/dataset/celeba_/test/original/095706.jpg\n"
     ]
    },
    {
     "data": {
      "image/png": "[encoded data removed]",
      "text/plain": [
       "<Figure size 432x288 with 1 Axes>"
      ]
     },
     "metadata": {
      "needs_background": "light"
     },
     "output_type": "display_data"
    }
   ],
   "source": [
    "test_list = os.listdir(TEST_IMAGES_DIR)\n",
    "test_paths = {test[:-4]: os.path.join(TEST_IMAGES_DIR, test) for test in test_list if test[-4:] == '.jpg'}\n",
    "test_imgs = {name[:-4]: np.asarray(PIL.Image.open(test)) for name, test in zip(test_list, test_paths.values())}\n",
    "plt.imshow(test_imgs['095706'])\n",
    "print(test_paths['095706'])"
   ]
  },
  {
   "cell_type": "code",
   "execution_count": 14,
   "metadata": {},
   "outputs": [
    {
     "name": "stdout",
     "output_type": "stream",
     "text": [
      "/home/jho/projects/image-segmentation-keras/dataset/celeba_/test/mask/095706.bmp\n"
     ]
    },
    {
     "data": {
      "image/png": "[encoded data removed]",
      "text/plain": [
       "<Figure size 432x288 with 1 Axes>"
      ]
     },
     "metadata": {
      "needs_background": "light"
     },
     "output_type": "display_data"
    }
   ],
   "source": [
    "mask_list = os.listdir(TEST_ANNOTATIONS_DIR)\n",
    "mask_list = [mask for mask in mask_list  if mask[-4:] == '.bmp']\n",
    "mask_paths = {mask[:-4]: os.path.join(TEST_ANNOTATIONS_DIR, mask) for mask in mask_list}\n",
    "mask_imgs = {name[:-4]: np.asarray(PIL.Image.open(mask)) for name, mask in zip(mask_list, mask_paths.values())}\n",
    "plt.imshow(mask_imgs['095706'])\n",
    "print(mask_paths['095706'])\n"
   ]
  },
  {
   "cell_type": "markdown",
   "metadata": {},
   "source": [
    "# Blur TestDataset..."
   ]
  },
  {
   "cell_type": "code",
   "execution_count": 15,
   "metadata": {},
   "outputs": [
    {
     "name": "stdout",
     "output_type": "stream",
     "text": [
      "[0 1]\n"
     ]
    }
   ],
   "source": [
    "print(np.unique(np.where(mask_imgs['126820']==1, mask_imgs['126820'], 0)))"
   ]
  },
  {
   "cell_type": "code",
   "execution_count": 16,
   "metadata": {},
   "outputs": [
    {
     "name": "stderr",
     "output_type": "stream",
     "text": [
      "blurring...:  10%|▉         | 39/399 [00:00<00:00, 383.94it/s]"
     ]
    },
    {
     "name": "stdout",
     "output_type": "stream",
     "text": [
      "399\n"
     ]
    },
    {
     "name": "stderr",
     "output_type": "stream",
     "text": [
      "blurring...: 100%|██████████| 399/399 [00:00<00:00, 411.33it/s]\n"
     ]
    },
    {
     "data": {
      "image/png": "[encoded data removed]",
      "text/plain": [
       "<Figure size 432x288 with 1 Axes>"
      ]
     },
     "metadata": {
      "needs_background": "light"
     },
     "output_type": "display_data"
    }
   ],
   "source": [
    "import cv2\n",
    "\n",
    "_mask_blurs={}\n",
    "items = []\n",
    "for item in mask_imgs.keys():\n",
    "    if item in test_imgs.keys():\n",
    "        items.append(item)\n",
    "print(len(items))\n",
    "for id_ in tqdm.tqdm(items, desc=\"blurring...\"):\n",
    "    st = test_imgs[id_]\n",
    "    sm = mask_imgs[id_]\n",
    "    cvt_ms = np.where(sm==1, sm, 0)\n",
    "    _, _, _, _mask_blurs[id_] = blur(st, cvt_ms)\n",
    "    blur_mask_dir = os.path.join(BLUR_DIR, 'mask')\n",
    "    \n",
    "    if not os.path.exists(blur_mask_dir):\n",
    "        os.makedirs(blur_mask_dir)\n",
    "    plt.imshow(_mask_blurs[id_])\n",
    "#     print(_mask_blurs[id_])\n",
    "    \n",
    "    m_path = os.path.join(blur_mask_dir, id_ + '.jpg')\n",
    "#     print(m_path)\n",
    "    \n",
    "    cv2.imwrite(m_path, cv2.cvtColor(_mask_blurs[id_], cv2.COLOR_RGB2BGR))"
   ]
  },
  {
   "cell_type": "code",
   "execution_count": 17,
   "metadata": {},
   "outputs": [],
   "source": [
    "# from keras_segmentation.predict import blur3 as blbl\n",
    "\n",
    "# mask_blur_dir =  os.path.join(BLUR_DIR, 'mask')\n",
    "\n",
    "# _id = '095706'\n",
    "\n",
    "# sample_test_img = test_imgs[_id]\n",
    "# sample_mask_img = mask_imgs[_id]\n",
    "# cvt_mask = np.where(sample_mask_img==1, sample_mask_img, 0)\n",
    "\n",
    "# plt.imshow(cvt_mask[:,:])\n",
    "# print(cvt_mask.shape)\n"
   ]
  },
  {
   "cell_type": "code",
   "execution_count": 18,
   "metadata": {},
   "outputs": [],
   "source": [
    "# # Stop...\n",
    "# .."
   ]
  },
  {
   "cell_type": "code",
   "execution_count": 19,
   "metadata": {},
   "outputs": [],
   "source": [
    "# def bbb(model, img_dir, mask_dir, out_dir, save=False):\n",
    "#     print(model)\n",
    "#     out = os.path.join(out_dir, model)\n",
    "#     print(out)\n",
    "#     if not os.path.exists(out):\n",
    "#         os.makedirs(out)\n",
    "       \n",
    "#     blurs = blur_multiple(imgs=None, img_dir=img_dir, inps=None, inp_dir=mask_dir, out_dir=out, save=save)\n",
    "    \n",
    "     \n",
    "#     return blurs\n",
    "\n",
    "# blurs = {}\n",
    "# models.append('mask')\n",
    "# for model in models:\n",
    "#     mask_dir = os.path.join(BEST_DIR, model)\n",
    "#     blurs[model] = bbb(model, TEST_IMAGES_DIR, mask_dir=mask_dir, out_dir=BLUR_DIR, save=True)"
   ]
  },
  {
   "cell_type": "code",
   "execution_count": null,
   "metadata": {},
   "outputs": [],
   "source": []
  },
  {
   "cell_type": "code",
   "execution_count": 20,
   "metadata": {},
   "outputs": [
    {
     "name": "stderr",
     "output_type": "stream",
     "text": [
      "model: 100%|██████████| 10/10 [00:00<00:00, 11932.59it/s]"
     ]
    },
    {
     "name": "stdout",
     "output_type": "stream",
     "text": [
      "fcn_32\n",
      "fcn_32_vgg16\n",
      "pspnet\n",
      "fcn_8_vgg16\n",
      "unet\n",
      "unet_vgg16\n",
      "segnet\n",
      "fcn_8\n",
      "segnet_vgg16\n",
      "pspnet_vgg16\n"
     ]
    },
    {
     "name": "stderr",
     "output_type": "stream",
     "text": [
      "\n"
     ]
    }
   ],
   "source": [
    "iou = {}\n",
    "mean_iou = {}\n",
    "face_iou = {}\n",
    "for model in tqdm.tqdm(models, desc='model'):\n",
    "    print(model)\n",
    "    _iou = evaluations[model]['class_wise_IU(IoU)']\n",
    "    mean_iou = evaluations[model]['mean_IU']\n",
    "    \n",
    "    bg_iou = _iou[0]\n",
    "    face_iou = _iou[1]\n",
    "    hair_iou = _iou[2]\n",
    "\n",
    "    iou[model] = {}\n",
    "    iou[model]['mean'] = mean_iou\n",
    "    iou[model]['bg'] = bg_iou\n",
    "    iou[model]['face'] = face_iou\n",
    "    iou[model]['hair'] = hair_iou"
   ]
  },
  {
   "cell_type": "code",
   "execution_count": 21,
   "metadata": {},
   "outputs": [
    {
     "data": {
      "text/plain": [
       "{'fcn_32': {'mean': 0.8230446471670144,\n",
       "  'bg': 0.9060413546122709,\n",
       "  'face': 0.876723121214499,\n",
       "  'hair': 0.6863694656742735},\n",
       " 'fcn_32_vgg16': {'mean': 0.836138733456186,\n",
       "  'bg': 0.9180697451246111,\n",
       "  'face': 0.8545831152717184,\n",
       "  'hair': 0.7357633399722281},\n",
       " 'pspnet': {'mean': 0.8297138550963821,\n",
       "  'bg': 0.9102702296561949,\n",
       "  'face': 0.8852621581775698,\n",
       "  'hair': 0.6936091774553813},\n",
       " 'fcn_8_vgg16': {'mean': 0.8871972593594677,\n",
       "  'bg': 0.9434810956178113,\n",
       "  'face': 0.9096778468128921,\n",
       "  'hair': 0.8084328356476997},\n",
       " 'unet': {'mean': 0.7034001227352461,\n",
       "  'bg': 0.8459975252623494,\n",
       "  'face': 0.7180801289271665,\n",
       "  'hair': 0.5461227140162223},\n",
       " 'unet_vgg16': {'mean': 0.8885570973969146,\n",
       "  'bg': 0.943115007773431,\n",
       "  'face': 0.9105978990579137,\n",
       "  'hair': 0.8119583853593991},\n",
       " 'segnet': {'mean': 0.783049843976246,\n",
       "  'bg': 0.8753577544202236,\n",
       "  'face': 0.8474048442906574,\n",
       "  'hair': 0.6263869332178571},\n",
       " 'fcn_8': {'mean': 0.8246423507863397,\n",
       "  'bg': 0.9047454625207942,\n",
       "  'face': 0.8770974372732604,\n",
       "  'hair': 0.6920841525649646},\n",
       " 'segnet_vgg16': {'mean': 0.8462812603801418,\n",
       "  'bg': 0.926592295923699,\n",
       "  'face': 0.8640254957507082,\n",
       "  'hair': 0.7482259894660186},\n",
       " 'pspnet_vgg16': {'mean': 0.8749693918859021,\n",
       "  'bg': 0.9362193087008344,\n",
       "  'face': 0.8997556946755559,\n",
       "  'hair': 0.788933172281316}}"
      ]
     },
     "execution_count": 21,
     "metadata": {},
     "output_type": "execute_result"
    }
   ],
   "source": [
    "iou"
   ]
  },
  {
   "cell_type": "code",
   "execution_count": null,
   "metadata": {},
   "outputs": [],
   "source": []
  },
  {
   "cell_type": "code",
   "execution_count": 22,
   "metadata": {},
   "outputs": [
    {
     "name": "stdout",
     "output_type": "stream",
     "text": [
      "/home/jho/projects/image-segmentation-keras/out/predictions/evaluations_20200423_1956.csv\n"
     ]
    }
   ],
   "source": [
    "import datetime\n",
    "CSV_OUT_PATH = os.path.join(PREDICTIONS_DIR, 'evaluations_{:%Y%m%d_%H%M}.csv'.format(datetime.datetime.now()))\n",
    "print(CSV_OUT_PATH)"
   ]
  },
  {
   "cell_type": "code",
   "execution_count": 23,
   "metadata": {},
   "outputs": [
    {
     "name": "stdout",
     "output_type": "stream",
     "text": [
      "[{'model': 'fcn_32', 'mean': 0.8230446471670144, 'bg': 0.9060413546122709, 'face': 0.876723121214499, 'hair': 0.6863694656742735}, {'model': 'fcn_32_vgg16', 'mean': 0.836138733456186, 'bg': 0.9180697451246111, 'face': 0.8545831152717184, 'hair': 0.7357633399722281}, {'model': 'fcn_8', 'mean': 0.8246423507863397, 'bg': 0.9047454625207942, 'face': 0.8770974372732604, 'hair': 0.6920841525649646}, {'model': 'fcn_8_vgg16', 'mean': 0.8871972593594677, 'bg': 0.9434810956178113, 'face': 0.9096778468128921, 'hair': 0.8084328356476997}, {'model': 'pspnet', 'mean': 0.8297138550963821, 'bg': 0.9102702296561949, 'face': 0.8852621581775698, 'hair': 0.6936091774553813}, {'model': 'pspnet_vgg16', 'mean': 0.8749693918859021, 'bg': 0.9362193087008344, 'face': 0.8997556946755559, 'hair': 0.788933172281316}, {'model': 'segnet', 'mean': 0.783049843976246, 'bg': 0.8753577544202236, 'face': 0.8474048442906574, 'hair': 0.6263869332178571}, {'model': 'segnet_vgg16', 'mean': 0.8462812603801418, 'bg': 0.926592295923699, 'face': 0.8640254957507082, 'hair': 0.7482259894660186}, {'model': 'unet', 'mean': 0.7034001227352461, 'bg': 0.8459975252623494, 'face': 0.7180801289271665, 'hair': 0.5461227140162223}, {'model': 'unet_vgg16', 'mean': 0.8885570973969146, 'bg': 0.943115007773431, 'face': 0.9105978990579137, 'hair': 0.8119583853593991}]\n",
      "/home/jho/projects/image-segmentation-keras/out/predictions/evaluations_20200423_1956.csv\n"
     ]
    }
   ],
   "source": [
    "import csv\n",
    "csv_columns = ['model', 'mean', 'bg', 'face', 'hair']\n",
    "iou = {k: v for k, v in sorted(iou.items())}\n",
    "dict_data = []\n",
    "\n",
    "for model, v in iou.items():\n",
    "    dict_data.append({\n",
    "        'model': model, \n",
    "        'mean': v['mean'], \n",
    "        'bg': v['bg'], \n",
    "        'face': v['face'], \n",
    "        'hair': v['hair']})\n",
    "print(dict_data)\n",
    "with open(CSV_OUT_PATH, 'w') as f:\n",
    "    w = csv.DictWriter(f, fieldnames=csv_columns)\n",
    "    w.writeheader()\n",
    "    for data in dict_data:\n",
    "        w.writerow(data)\n",
    "print(CSV_OUT_PATH)"
   ]
  },
  {
   "cell_type": "markdown",
   "metadata": {},
   "source": [
    "## import numpy as np\n",
    "# import PIL.Image\n",
    "# import cv2\n",
    "# import matplotlib.pyplot as plt\n",
    "\n",
    "# MASK_DIR = os.path.join(PREDICTIONS_DIR, 'best_/mask')\n",
    "# masks = [os.path.join(MASK_DIR, mask) for mask in os.listdir(MASK_DIR) if mask[-4] == '.']\n",
    "\n",
    "# imgs = [np.asarray(PIL.Image.open(mask)) for mask in masks]\n",
    "\n",
    "# plt.imshow(imgs[0])\n",
    "# print(imgs[0])\n",
    "# print(np.unique(imgs[0]))"
   ]
  },
  {
   "cell_type": "markdown",
   "metadata": {},
   "source": [
    "## Sort..."
   ]
  },
  {
   "cell_type": "code",
   "execution_count": 25,
   "metadata": {},
   "outputs": [
    {
     "name": "stderr",
     "output_type": "stream",
     "text": [
      "Sorting predictions:  40%|████      | 4/10 [00:00<00:00, 36.47it/s]"
     ]
    },
    {
     "name": "stdout",
     "output_type": "stream",
     "text": [
      "\n",
      "pspnet_vgg16\n",
      "/home/jho/projects/image-segmentation-keras/out/predictions/predcition_195231/pspnet_vgg16\n",
      "097606.jpg\n",
      "\n",
      "\n",
      "segnet_vgg16\n",
      "/home/jho/projects/image-segmentation-keras/out/predictions/predcition_195231/segnet_vgg16\n",
      "097606.jpg\n",
      "\n",
      "\n",
      "fcn_8\n",
      "/home/jho/projects/image-segmentation-keras/out/predictions/predcition_195231/fcn_8\n",
      "097606.jpg\n",
      "\n",
      "\n",
      "fcn_32\n",
      "/home/jho/projects/image-segmentation-keras/out/predictions/predcition_195231/fcn_32\n",
      "097606.jpg\n",
      "\n",
      "\n",
      "fcn_8_vgg16\n",
      "/home/jho/projects/image-segmentation-keras/out/predictions/predcition_195231/fcn_8_vgg16\n",
      "097606.jpg\n",
      "\n",
      "\n",
      "fcn_32_vgg16\n",
      "/home/jho/projects/image-segmentation-keras/out/predictions/predcition_195231/fcn_32_vgg16\n",
      "097606.jpg\n",
      "\n",
      "\n",
      "segnet\n",
      "/home/jho/projects/image-segmentation-keras/out/predictions/predcition_195231/segnet\n",
      "097606.jpg\n",
      "\n",
      "\n",
      "unet\n",
      "/home/jho/projects/image-segmentation-keras/out/predictions/predcition_195231/unet\n"
     ]
    },
    {
     "name": "stderr",
     "output_type": "stream",
     "text": [
      "Sorting predictions: 100%|██████████| 10/10 [00:00<00:00, 36.30it/s]\n"
     ]
    },
    {
     "name": "stdout",
     "output_type": "stream",
     "text": [
      "097606.jpg\n",
      "\n",
      "\n",
      "unet_vgg16\n",
      "/home/jho/projects/image-segmentation-keras/out/predictions/predcition_195231/unet_vgg16\n",
      "097606.jpg\n",
      "\n",
      "\n",
      "pspnet\n",
      "/home/jho/projects/image-segmentation-keras/out/predictions/predcition_195231/pspnet\n",
      "097606.jpg\n",
      "\n",
      "/home/jho/projects/image-segmentation-keras/out/predictions/sorted_predict_195231\n",
      "/home/jho/projects/image-segmentation-keras/out/predictions/sorted_predict_195231.tar.gz\n"
     ]
    }
   ],
   "source": [
    "import shutil\n",
    "import tarfile\n",
    "\n",
    "# Sort predicts\n",
    "sort_predict_dir = os.path.join(PREDICTIONS_DIR, 'sorted_predict_{}'.format(NOW))\n",
    "dir_list = os.listdir(BEST_DIR)\n",
    "for pre_name in tqdm.tqdm(dir_list, desc=\"Sorting predictions\"):\n",
    "    print()\n",
    "    print(pre_name)\n",
    "    pre_list = os.path.join(BEST_DIR, pre_name)\n",
    "    if os.path.isdir(pre_list):\n",
    "        print(pre_list)\n",
    "        img_list = os.listdir(pre_list)\n",
    "        for img in img_list:\n",
    "            if img[-4:] == '.jpg' or img[-4:] == '.bmp':\n",
    "                ext = img[-3:]\n",
    "                item = img[:-4]\n",
    "                before = os.path.join(pre_list, img)\n",
    "#                 item_dir = os.path.join(AFTER_DIR, item)\n",
    "                item_dir = os.path.join(sort_predict_dir)\n",
    "#                 print(item_dir)\n",
    "                if not os.path.exists(item_dir):\n",
    "                    os.makedirs(item_dir)\n",
    "                after = os.path.join(item_dir, '{item}_{model}.{ext}'.format(item=item, model=pre_name, ext=ext))\n",
    "#                 print(before, ' -> ', after)\n",
    "                shutil.copy(before, after)\n",
    "#         img_list = [os.path.join(pre_list, img) if img[-4:] == '.jpg' else None for img in img_list]\n",
    "\n",
    "            \n",
    "        print(img_list[0])\n",
    "        print()\n",
    "    else:\n",
    "        print(\"Not a directory >> \" + pre_list)\n",
    "\n",
    "current_path = os.getcwd()\n",
    "print(sort_predict_dir)\n",
    "os.chdir(os.path.join(sort_predict_dir, '..'))\n",
    "prediction_tar_path = os.path.join(os.getcwd(),'sorted_predict_{}.{}'.format(NOW, 'tar.gz'))\n",
    "with tarfile.open(prediction_tar_path, mode='w:gz') as taf:\n",
    "    taf.add('sorted_predict_{}'.format(NOW))\n",
    "\n",
    "os.chdir(current_path)\n",
    "\n",
    "print(os.path.abspath(prediction_tar_path))\n",
    "\n"
   ]
  },
  {
   "cell_type": "code",
   "execution_count": 26,
   "metadata": {},
   "outputs": [
    {
     "name": "stderr",
     "output_type": "stream",
     "text": [
      "Sorting blur:  36%|███▋      | 4/11 [00:00<00:00, 36.54it/s]"
     ]
    },
    {
     "name": "stdout",
     "output_type": "stream",
     "text": [
      "/home/jho/projects/image-segmentation-keras/out/predictions/sorted_blur_195231\n",
      "\n",
      "\n",
      "\n",
      "\n",
      "\n",
      "\n",
      "\n"
     ]
    },
    {
     "name": "stderr",
     "output_type": "stream",
     "text": [
      "Sorting blur: 100%|██████████| 11/11 [00:00<00:00, 37.21it/s]\n"
     ]
    },
    {
     "name": "stdout",
     "output_type": "stream",
     "text": [
      "\n",
      "\n",
      "\n",
      "\n",
      "/home/jho/projects/image-segmentation-keras/out/predictions/sorted_blur_195231\n",
      "/home/jho/projects/image-segmentation-keras/out/predictions/sorted_blur_195231.tar.gz\n"
     ]
    }
   ],
   "source": [
    "# Sort blurs\n",
    "sort_blur_dir = os.path.join(PREDICTIONS_DIR, 'sorted_blur_{}'.format(NOW))\n",
    "print(sort_blur_dir)\n",
    "blur_dir = BLUR_DIR\n",
    "dir_list = os.listdir(blur_dir)\n",
    "for pre_name in tqdm.tqdm(dir_list, desc=\"Sorting blur\".format(pre_name=pre_name)):\n",
    "#     print(pre_name)\n",
    "    pre_list = os.path.join(blur_dir, pre_name)\n",
    "    if os.path.isdir(pre_list):\n",
    "#         print(pre_list)\n",
    "        img_list = os.listdir(pre_list)\n",
    "        \n",
    "        for img in img_list:\n",
    "            if img[-4:] == '.jpg' or img[-4:] == '.bmp':\n",
    "                ext = img[-3:]\n",
    "                item = img[:-4]\n",
    "                before = os.path.join(pre_list, img)\n",
    "#                 item_dir = os.path.join(AFTER_DIR, item)\n",
    "                item_dir = os.path.join(sort_blur_dir)\n",
    "                if not os.path.exists(item_dir):\n",
    "                    os.makedirs(item_dir)\n",
    "                after = os.path.join(item_dir, '{item}_{model}.{ext}'.format(item=item, model=pre_name, ext=ext))\n",
    "#                 after = os.path.join(AFTER_DIR, '{item}_{model}.{ext}'.format(item=item, model=pre_name, ext=ext))\n",
    "#                 print(before, ' -> ', after)\n",
    "                shutil.copy(before, after)\n",
    "#         img_list = [os.path.join(pre_list, img) if img[-4:] == '.jpg' else None for img in img_list]\n",
    "\n",
    "    else:\n",
    "        print(\"Not a directory >> \" + pre_list)\n",
    "    print()\n",
    "    \n",
    "current_path = os.getcwd()\n",
    "print(sort_blur_dir)\n",
    "os.chdir(os.path.join(sort_blur_dir, '..'))\n",
    "blur_tar_path = os.path.join(os.getcwd(),'sorted_blur_{}.{}'.format(NOW, 'tar.gz'))\n",
    "with tarfile.open(blur_tar_path, mode='w:gz') as taf:\n",
    "    taf.add('sorted_blur_{}'.format(NOW))\n",
    "\n",
    "os.chdir(current_path)\n",
    "\n",
    "print(os.path.abspath(blur_tar_path))\n"
   ]
  },
  {
   "cell_type": "code",
   "execution_count": 27,
   "metadata": {},
   "outputs": [],
   "source": [
    "samb = np.asarray(PIL.Image.open('/home/jho/projects/image-segmentation-keras/out/predictions/_best/027004/027004_fcn_8_vgg16.jpg'))"
   ]
  },
  {
   "cell_type": "code",
   "execution_count": 28,
   "metadata": {},
   "outputs": [
    {
     "data": {
      "text/plain": [
       "array([[[  0,   0, 254],\n",
       "        [  0,   0, 254],\n",
       "        [  0,   0, 254],\n",
       "        ...,\n",
       "        [  0,   0, 254],\n",
       "        [  0,   0, 254],\n",
       "        [  0,   0, 254]],\n",
       "\n",
       "       [[  0,   0, 254],\n",
       "        [  0,   0, 254],\n",
       "        [  0,   0, 254],\n",
       "        ...,\n",
       "        [  0,   0, 254],\n",
       "        [  0,   0, 254],\n",
       "        [  0,   0, 254]],\n",
       "\n",
       "       [[  0,   0, 254],\n",
       "        [  0,   0, 254],\n",
       "        [  0,   0, 254],\n",
       "        ...,\n",
       "        [  0,   0, 254],\n",
       "        [  0,   0, 254],\n",
       "        [  0,   0, 254]],\n",
       "\n",
       "       ...,\n",
       "\n",
       "       [[  0,   0, 254],\n",
       "        [  0,   0, 254],\n",
       "        [  0,   0, 254],\n",
       "        ...,\n",
       "        [  8,   0, 254],\n",
       "        [  0,   0, 254],\n",
       "        [  0,   0, 254]],\n",
       "\n",
       "       [[  0,   0, 254],\n",
       "        [  0,   0, 254],\n",
       "        [  0,   0, 254],\n",
       "        ...,\n",
       "        [  0,   2, 254],\n",
       "        [  0,   0, 254],\n",
       "        [  0,   0, 254]],\n",
       "\n",
       "       [[  0,   0, 254],\n",
       "        [  0,   0, 254],\n",
       "        [  0,   0, 254],\n",
       "        ...,\n",
       "        [  0,   5, 254],\n",
       "        [  0,   0, 254],\n",
       "        [  0,   0, 254]]], dtype=uint8)"
      ]
     },
     "execution_count": 28,
     "metadata": {},
     "output_type": "execute_result"
    }
   ],
   "source": [
    "samb"
   ]
  },
  {
   "cell_type": "code",
   "execution_count": null,
   "metadata": {},
   "outputs": [],
   "source": []
  },
  {
   "cell_type": "code",
   "execution_count": 29,
   "metadata": {},
   "outputs": [
    {
     "ename": "SyntaxError",
     "evalue": "invalid syntax (<ipython-input-29-70122fb16acd>, line 1)",
     "output_type": "error",
     "traceback": [
      "\u001b[0;36m  File \u001b[0;32m\"<ipython-input-29-70122fb16acd>\"\u001b[0;36m, line \u001b[0;32m1\u001b[0m\n\u001b[0;31m    .\u001b[0m\n\u001b[0m    ^\u001b[0m\n\u001b[0;31mSyntaxError\u001b[0m\u001b[0;31m:\u001b[0m invalid syntax\n"
     ]
    }
   ],
   "source": [
    ".\n",
    "def load_predictions(models):\n",
    "    pred = {}\n",
    "    for model in models:\n",
    "        dir_path = _predictions_(model)\n",
    "        items = os.listdir(dir_path)\n",
    "        pred[model] = {}\n",
    "        for item in items:\n",
    "            pred[model][item[:-4]] = os.path.join(dir_path, item)\n",
    "    return pred"
   ]
  },
  {
   "cell_type": "code",
   "execution_count": null,
   "metadata": {},
   "outputs": [],
   "source": [
    "pred = load_predictions(models)"
   ]
  },
  {
   "cell_type": "code",
   "execution_count": null,
   "metadata": {},
   "outputs": [],
   "source": [
    "print(list(pred['mask'].keys())[0])"
   ]
  },
  {
   "cell_type": "code",
   "execution_count": null,
   "metadata": {},
   "outputs": [],
   "source": [
    "def visualize(pred, model, item):\n",
    "    plt.imshow(PIL.Image.open(pred[model][item]))\n",
    "\n"
   ]
  },
  {
   "cell_type": "code",
   "execution_count": null,
   "metadata": {},
   "outputs": [],
   "source": [
    "visualize(pred, 'unet', '095706')"
   ]
  },
  {
   "cell_type": "code",
   "execution_count": null,
   "metadata": {},
   "outputs": [],
   "source": [
    "items = {}\n",
    "for name, model in pred.items():\n",
    "    items[name] = {}\n",
    "    for item, img_path in model.items():\n",
    "        items[name][item] = np.asarray(PIL.Image.open(img_path))"
   ]
  },
  {
   "cell_type": "code",
   "execution_count": null,
   "metadata": {},
   "outputs": [],
   "source": [
    "items['unet']"
   ]
  },
  {
   "cell_type": "code",
   "execution_count": null,
   "metadata": {},
   "outputs": [],
   "source": [
    "items['original']"
   ]
  },
  {
   "cell_type": "code",
   "execution_count": null,
   "metadata": {},
   "outputs": [],
   "source": [
    "items['mask']['095706'][50:70, 50:70]"
   ]
  },
  {
   "cell_type": "code",
   "execution_count": null,
   "metadata": {},
   "outputs": [],
   "source": [
    "items['mask']['095706'].shape"
   ]
  },
  {
   "cell_type": "code",
   "execution_count": null,
   "metadata": {},
   "outputs": [],
   "source": [
    "items['unet']['095706'].shape"
   ]
  },
  {
   "cell_type": "code",
   "execution_count": null,
   "metadata": {},
   "outputs": [],
   "source": [
    "items['unet']['095706'][50:70, 50:70, :]"
   ]
  },
  {
   "cell_type": "code",
   "execution_count": null,
   "metadata": {},
   "outputs": [],
   "source": [
    "items['unet']['095706'][10:30, 10:30, :]"
   ]
  },
  {
   "cell_type": "code",
   "execution_count": null,
   "metadata": {},
   "outputs": [],
   "source": [
    "def convert(arr, _from, _to):\n",
    "    _arr = np.where(arr, _from, _to, arr)\n",
    "    return _arr"
   ]
  },
  {
   "cell_type": "code",
   "execution_count": null,
   "metadata": {},
   "outputs": [],
   "source": [
    "convert(items['unet']['095706'], [[20, 215, 198], [184, 244, 156], , )"
   ]
  },
  {
   "cell_type": "code",
   "execution_count": null,
   "metadata": {},
   "outputs": [],
   "source": [
    "_img = PIL.Image.fromarray(items['unet']['095706'])"
   ]
  },
  {
   "cell_type": "code",
   "execution_count": null,
   "metadata": {},
   "outputs": [],
   "source": [
    "plt.imshow(_img)"
   ]
  },
  {
   "cell_type": "code",
   "execution_count": null,
   "metadata": {},
   "outputs": [],
   "source": [
    "print(np.asarray(_img))"
   ]
  },
  {
   "cell_type": "code",
   "execution_count": null,
   "metadata": {},
   "outputs": [],
   "source": [
    "_uni = np.asarray(np.unique(_img, return_counts=True)).T"
   ]
  },
  {
   "cell_type": "code",
   "execution_count": null,
   "metadata": {},
   "outputs": [],
   "source": [
    "print(len(_uni))\n",
    "print(_uni)"
   ]
  },
  {
   "cell_type": "code",
   "execution_count": null,
   "metadata": {},
   "outputs": [],
   "source": []
  },
  {
   "cell_type": "code",
   "execution_count": null,
   "metadata": {},
   "outputs": [],
   "source": []
  }
 ],
 "metadata": {
  "kernelspec": {
   "display_name": "tf12-py36",
   "language": "python",
   "name": "tf12-py36"
  },
  "language_info": {
   "codemirror_mode": {
    "name": "ipython",
    "version": 3
   },
   "file_extension": ".py",
   "mimetype": "text/x-python",
   "name": "python",
   "nbconvert_exporter": "python",
   "pygments_lexer": "ipython3",
   "version": "3.6.10"
  }
 },
 "nbformat": 4,
 "nbformat_minor": 4
}
