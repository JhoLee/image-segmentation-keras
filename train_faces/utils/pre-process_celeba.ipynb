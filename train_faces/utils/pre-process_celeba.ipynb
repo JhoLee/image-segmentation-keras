{
 "cells": [
  {
   "cell_type": "markdown",
   "metadata": {},
   "source": [
    "## Change pixel values...\n",
    "### Example dataset is 'CelebA mask'\n",
    "\n",
    "20.04.18 jho.lee@kakao.com; git.8080.kr; blog.jholee.kr\n",
    "\n",
    "Made just for my own needs.\n",
    "\n",
    "---\n",
    "\n",
    "There are unexpected labels at the boundary lines of the mask.\n",
    "(like 254, 174, ...)\n",
    "\n",
    "0 ~ 63 -> 0; 64 ~ 190 -> 1; 191 ~ 255 -> 2\n",
    "\n",
    "0: Background / \n",
    "1: skin(face) / \n",
    "2: hair"
   ]
  },
  {
   "cell_type": "code",
   "execution_count": 1,
   "metadata": {},
   "outputs": [],
   "source": [
    "import os\n",
    "import sys\n",
    "\n",
    "ROOT_DIR = os.path.join(os.getcwd(), '..')\n",
    "\n",
    "import matplotlib.pyplot as plt\n",
    "import seaborn as sns\n",
    "%matplotlib inline"
   ]
  },
  {
   "cell_type": "code",
   "execution_count": 2,
   "metadata": {},
   "outputs": [],
   "source": [
    "DATA_DIR = os.path.join(ROOT_DIR, 'dataset/celeba')\n",
    "TRAIN_MASK_DIR = os.path.join(DATA_DIR, 'train/mask')\n",
    "VAL_MASK_DIR = os.path.join(DATA_DIR, 'val/mask')\n",
    "\n",
    "TRAIN_OUT_DIR = os.path.join(DATA_DIR, 'train/mask_')\n",
    "VAL_OUT_DIR = os.path.join(DATA_DIR, 'val/mask_')\n",
    "\n",
    "if not os.path.exists(TRAIN_OUT_DIR):\n",
    "    os.makedirs(TRAIN_OUT_DIR)\n",
    "if not os.path.exists(VAL_OUT_DIR):\n",
    "    os.makedirs(VAL_OUT_DIR)\n",
    "\n",
    "train_masks = os.listdir(TRAIN_MASK_DIR)\n",
    "val_masks = os.listdir(VAL_MASK_DIR)"
   ]
  },
  {
   "cell_type": "code",
   "execution_count": 96,
   "metadata": {},
   "outputs": [],
   "source": [
    "from PIL import Image\n",
    "import numpy as np\n",
    "\n",
    "def modify(images=[], in_dir=\"\", out_dir=\"\", values=[]):\n",
    "    count = 0\n",
    "    for image in images:\n",
    "        im = Image.open(os.path.join(in_dir, image))\n",
    "        ima = np.asarray(im)\n",
    "\n",
    "        for i, v in enumerate(values):\n",
    "            ima = np.where(ima==v, i, ima)\n",
    "            \n",
    "        im = Image.fromarray(ima)\n",
    "        im.save(os.path.join(out_dir, image))\n",
    "\n",
    "        count += 1\n",
    "    print(count)        \n",
    "        \n",
    "def modify2(images=[], in_dir=\"\", out_dir=\"\", in_val=[], out_val=[]):\n",
    "    count = 0\n",
    "    for image in images:\n",
    "        im = Image.open(os.path.join(in_dir, image))\n",
    "        ima = np.asarray(im)\n",
    "        \n",
    "        for iv, ov in zip(in_val, out_val):\n",
    "            if type(iv) == type([]):\n",
    "                for v in iv:\n",
    "                    ima = np.where(ima==v, ov, ima)\n",
    "            else:\n",
    "                ima = np.where(ima==iv, ov, ima)\n",
    "            \n",
    "        im = Image.fromarray(ima)\n",
    "        im.save(os.path.join(out_dir, image))\n",
    "        \n",
    "        count += 1\n",
    "    print(count)\n",
    "    \n",
    "def down_the_max(images=[], in_dir=\"\", out_dir=\"\", max_val=0):\n",
    "    bads = []\n",
    "    count = 0\n",
    "    for image in images:\n",
    "        im = Image.open(os.path.join(in_dir, image))\n",
    "        ima = np.asarray(im)\n",
    "        \n",
    "\n",
    "        mx = np.max(ima[:, :])\n",
    "        if mx > max_val:\n",
    "            ima = np.where(ima==mx, max_val, ima)\n",
    "#             print(\"{} mx: {} max_val: {}\".format(image, mx, max_val))\n",
    "            if image not in bads:\n",
    "                bads.append(image)\n",
    "        im = Image.fromarray(ima)\n",
    "        im.save(os.path.join(out_dir, image))\n",
    "        \n",
    "        count += 1\n",
    "    print(\"{} / {}\".format(len(bads), count))\n",
    "    \n",
    "    return bads\n"
   ]
  },
  {
   "cell_type": "code",
   "execution_count": 97,
   "metadata": {},
   "outputs": [
    {
     "name": "stdout",
     "output_type": "stream",
     "text": [
      "3200\n"
     ]
    }
   ],
   "source": [
    "modify(train_masks, TRAIN_MASK_DIR, TRAIN_OUT_DIR, [0, 128, 255])"
   ]
  },
  {
   "cell_type": "code",
   "execution_count": 98,
   "metadata": {},
   "outputs": [
    {
     "name": "stdout",
     "output_type": "stream",
     "text": [
      "355\n"
     ]
    }
   ],
   "source": [
    "modify(val_masks, VAL_MASK_DIR, VAL_OUT_DIR, [0, 128, 255])"
   ]
  },
  {
   "cell_type": "code",
   "execution_count": 99,
   "metadata": {},
   "outputs": [
    {
     "name": "stdout",
     "output_type": "stream",
     "text": [
      "3200\n"
     ]
    }
   ],
   "source": [
    "modify2(train_masks, TRAIN_MASK_DIR, TRAIN_OUT_DIR, [0, 128, list(range(255, 256))], [0, 1, 2])"
   ]
  },
  {
   "cell_type": "code",
   "execution_count": 100,
   "metadata": {},
   "outputs": [
    {
     "name": "stdout",
     "output_type": "stream",
     "text": [
      "355\n"
     ]
    }
   ],
   "source": [
    "modify2(val_masks, VAL_MASK_DIR, VAL_OUT_DIR, [0, 128, list(range(255, 256))], [0, 1, 2, 2])"
   ]
  },
  {
   "cell_type": "code",
   "execution_count": 127,
   "metadata": {},
   "outputs": [
    {
     "name": "stdout",
     "output_type": "stream",
     "text": [
      "316 / 3200\n",
      "355 / 355\n"
     ]
    }
   ],
   "source": [
    "bts = down_the_max(train_masks, TRAIN_OUT_DIR, TRAIN_OUT_DIR, max_val=2)\n",
    "bvs = down_the_max(val_masks, VAL_OUT_DIR, VAL_OUT_DIR, max_val=2)"
   ]
  },
  {
   "cell_type": "code",
   "execution_count": 165,
   "metadata": {},
   "outputs": [],
   "source": [
    "import random\n",
    "rbtn = os.path.join(TRAIN_MASK_DIR, random.choice(bts))\n",
    "rbt = np.asarray(Image.open(rbtn))\n"
   ]
  },
  {
   "cell_type": "code",
   "execution_count": 169,
   "metadata": {},
   "outputs": [
    {
     "name": "stdout",
     "output_type": "stream",
     "text": [
      "/home/jho/projects/image-segmentation-keras/train_faces/../dataset/celeba/train/mask/121208.bmp\n"
     ]
    },
    {
     "data": {
      "image/png": "[encoded data removed]",
      "text/plain": [
       "<Figure size 432x288 with 2 Axes>"
      ]
     },
     "metadata": {
      "needs_background": "light"
     },
     "output_type": "display_data"
    }
   ],
   "source": [
    "print(rbtn)\n",
    "sns.heatmap(rbt[70:80, 70:80], annot=True, fmt=\"d\", cmap=plt.cm.bone)\n",
    "plt.axis(\"off\")\n",
    "plt.show()"
   ]
  },
  {
   "cell_type": "code",
   "execution_count": 172,
   "metadata": {},
   "outputs": [
    {
     "data": {
      "text/plain": [
       "<matplotlib.axes._subplots.AxesSubplot at 0x7f1b2984e160>"
      ]
     },
     "execution_count": 172,
     "metadata": {},
     "output_type": "execute_result"
    },
    {
     "data": {
      "image/png": "[encoded data removed]",
      "text/plain": [
       "<Figure size 432x288 with 2 Axes>"
      ]
     },
     "metadata": {
      "needs_background": "light"
     },
     "output_type": "display_data"
    }
   ],
   "source": [
    "sns.heatmap(rbt[50:100, 50:100], fmt=\"d\", cmap=plt.cm.bone)"
   ]
  },
  {
   "cell_type": "code",
   "execution_count": 218,
   "metadata": {},
   "outputs": [],
   "source": [
    "def modify3(images=[], in_dir=\"\", out_dir=\"\", in_val=[], out_val=[]):\n",
    "    count = 0\n",
    "    \n",
    "    in_val_ = []\n",
    "    for i in range(0, len(in_val)-1):\n",
    "        in_val_.append((in_val[i]+in_val[i+1])//2)\n",
    "    in_val_.insert(0, 0)\n",
    "    in_val_.append(in_val[-1])\n",
    "    # [0, 128, 255] => [0, 64, 191, 255]\n",
    "    \n",
    "    _in_val = []\n",
    "    for i in range(len(in_val_)-1):\n",
    "        _in_val.append(list(range(in_val_[i], in_val_[i+1])))\n",
    "    # [0, 128, 255] => [ [0,1,...,62,63], [64,65,...,189,190], [191,192,...,254,255] ]\n",
    "    \n",
    "        \n",
    "    \n",
    "    for image in images:\n",
    "        im = Image.open(os.path.join(in_dir, image))\n",
    "        ima = np.asarray(im)\n",
    "        \n",
    "        for iv, ov in zip(_in_val, out_val):\n",
    "            if type(iv) == type([]):\n",
    "                for v in iv:\n",
    "                    ima = np.where(ima==v, ov, ima)\n",
    "            else:\n",
    "                ima = np.where(ima==iv, ov, ima)\n",
    "            \n",
    "        im = Image.fromarray(ima)\n",
    "        im.save(os.path.join(out_dir, image))\n",
    "        \n",
    "        count += 1\n",
    "    print(count)"
   ]
  },
  {
   "cell_type": "code",
   "execution_count": 222,
   "metadata": {},
   "outputs": [
    {
     "name": "stdout",
     "output_type": "stream",
     "text": [
      "3200\n"
     ]
    }
   ],
   "source": [
    "modify3(train_masks, TRAIN_MASK_DIR, TRAIN_OUT_DIR, [0, 128, 256], [0, 1, 2])"
   ]
  },
  {
   "cell_type": "code",
   "execution_count": 219,
   "metadata": {},
   "outputs": [
    {
     "name": "stdout",
     "output_type": "stream",
     "text": [
      "355\n"
     ]
    }
   ],
   "source": [
    "modify3(val_masks, VAL_MASK_DIR, VAL_OUT_DIR, [0, 128, 256], [0, 1, 2])"
   ]
  },
  {
   "cell_type": "code",
   "execution_count": 223,
   "metadata": {},
   "outputs": [],
   "source": [
    "import random\n",
    "\n",
    "val_list = os.listdir(VAL_OUT_DIR)\n",
    "rand_val_path = os.path.join(VAL_OUT_DIR, random.choice(val_list))"
   ]
  },
  {
   "cell_type": "code",
   "execution_count": 224,
   "metadata": {},
   "outputs": [
    {
     "name": "stdout",
     "output_type": "stream",
     "text": [
      "/home/jho/projects/image-segmentation-keras/train_faces/../dataset/celeba/val/mask_/135827.bmp\n",
      "(218, 178)\n"
     ]
    }
   ],
   "source": [
    "rand_val_im = np.asarray(Image.open(rand_val_path))\n",
    "\n",
    "print(rand_val_path)\n",
    "print(rand_val_im.shape)\n"
   ]
  },
  {
   "cell_type": "code",
   "execution_count": 225,
   "metadata": {},
   "outputs": [
    {
     "data": {
      "image/png": "[encoded data removed]",
      "text/plain": [
       "<Figure size 432x288 with 2 Axes>"
      ]
     },
     "metadata": {
      "needs_background": "light"
     },
     "output_type": "display_data"
    }
   ],
   "source": [
    "sns.heatmap(rand_val_im[0:218, 0:178], annot=False, fmt=\"d\", cmap=plt.cm.bone)\n",
    "plt.axis(\"off\")\n",
    "plt.show()"
   ]
  },
  {
   "cell_type": "code",
   "execution_count": null,
   "metadata": {},
   "outputs": [],
   "source": []
  }
 ],
 "metadata": {
  "kernelspec": {
   "display_name": "tf10-py36",
   "language": "python",
   "name": "tf10-py36"
  },
  "language_info": {
   "codemirror_mode": {
    "name": "ipython",
    "version": 3
   },
   "file_extension": ".py",
   "mimetype": "text/x-python",
   "name": "python",
   "nbconvert_exporter": "python",
   "pygments_lexer": "ipython3",
   "version": "3.6.10"
  }
 },
 "nbformat": 4,
 "nbformat_minor": 4
}
