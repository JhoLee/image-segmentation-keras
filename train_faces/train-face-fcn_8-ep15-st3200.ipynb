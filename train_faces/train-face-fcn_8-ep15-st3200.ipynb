{
 "cells": [
  {
   "cell_type": "markdown",
   "metadata": {},
   "source": [
    "## Training FCN8 With CelebA Dataset\n",
    "### By 15 epochs, 3200steps."
   ]
  },
  {
   "cell_type": "code",
   "execution_count": 1,
   "metadata": {},
   "outputs": [],
   "source": [
    "import os\n",
    "import sys\n",
    "import datetime\n",
    "\n",
    "import PIL.Image as Image\n",
    "import matplotlib.pyplot as plt\n",
    "%matplotlib inline\n",
    "\n",
    "ROOT_DIR = os.path.join(os.getcwd(), '..')\n",
    "sys.path.append(ROOT_DIR)"
   ]
  },
  {
   "cell_type": "code",
   "execution_count": 2,
   "metadata": {},
   "outputs": [
    {
     "name": "stderr",
     "output_type": "stream",
     "text": [
      "Using TensorFlow backend.\n",
      "/home/jho/anaconda3/envs/tf10-py36/lib/python3.6/site-packages/tensorflow/python/framework/dtypes.py:523: FutureWarning: Passing (type, 1) or '1type' as a synonym of type is deprecated; in a future version of numpy, it will be understood as (type, (1,)) / '(1,)type'.\n",
      "  _np_qint8 = np.dtype([(\"qint8\", np.int8, 1)])\n",
      "/home/jho/anaconda3/envs/tf10-py36/lib/python3.6/site-packages/tensorflow/python/framework/dtypes.py:524: FutureWarning: Passing (type, 1) or '1type' as a synonym of type is deprecated; in a future version of numpy, it will be understood as (type, (1,)) / '(1,)type'.\n",
      "  _np_quint8 = np.dtype([(\"quint8\", np.uint8, 1)])\n",
      "/home/jho/anaconda3/envs/tf10-py36/lib/python3.6/site-packages/tensorflow/python/framework/dtypes.py:525: FutureWarning: Passing (type, 1) or '1type' as a synonym of type is deprecated; in a future version of numpy, it will be understood as (type, (1,)) / '(1,)type'.\n",
      "  _np_qint16 = np.dtype([(\"qint16\", np.int16, 1)])\n",
      "/home/jho/anaconda3/envs/tf10-py36/lib/python3.6/site-packages/tensorflow/python/framework/dtypes.py:526: FutureWarning: Passing (type, 1) or '1type' as a synonym of type is deprecated; in a future version of numpy, it will be understood as (type, (1,)) / '(1,)type'.\n",
      "  _np_quint16 = np.dtype([(\"quint16\", np.uint16, 1)])\n",
      "/home/jho/anaconda3/envs/tf10-py36/lib/python3.6/site-packages/tensorflow/python/framework/dtypes.py:527: FutureWarning: Passing (type, 1) or '1type' as a synonym of type is deprecated; in a future version of numpy, it will be understood as (type, (1,)) / '(1,)type'.\n",
      "  _np_qint32 = np.dtype([(\"qint32\", np.int32, 1)])\n",
      "/home/jho/anaconda3/envs/tf10-py36/lib/python3.6/site-packages/tensorflow/python/framework/dtypes.py:532: FutureWarning: Passing (type, 1) or '1type' as a synonym of type is deprecated; in a future version of numpy, it will be understood as (type, (1,)) / '(1,)type'.\n",
      "  np_resource = np.dtype([(\"resource\", np.ubyte, 1)])\n"
     ]
    }
   ],
   "source": [
    "from keras_segmentation.models.fcn import fcn_8"
   ]
  },
  {
   "cell_type": "code",
   "execution_count": 3,
   "metadata": {},
   "outputs": [
    {
     "name": "stdout",
     "output_type": "stream",
     "text": [
      "\n",
      "NOW = 20200418T1159\n",
      "out_dir : /home/jho/projects/image-segmentation-keras/train_faces/../out\n",
      "checkpoints_dir : /home/jho/projects/image-segmentation-keras/train_faces/../out/checkpoints/celeba/fcn_8/ep15/st3200\n",
      "logs_dir : /home/jho/projects/image-segmentation-keras/train_faces/../out/logs/celeba/fcn_8/ep15/st3200\n",
      "predictions_dir : /home/jho/projects/image-segmentation-keras/train_faces/../out/predictions/celeba/fcn_8/ep15/st3200\n",
      "\n",
      "dataset_dir : /home/jho/projects/image-segmentation-keras/train_faces/../dataset/celeba\n",
      "train_images : /home/jho/projects/image-segmentation-keras/train_faces/../dataset/celeba/train/original\n",
      "train_annotations : /home/jho/projects/image-segmentation-keras/train_faces/../dataset/celeba/train/mask_\n",
      "val_images : /home/jho/projects/image-segmentation-keras/train_faces/../dataset/celeba/val/original\n",
      "val_annotations : /home/jho/projects/image-segmentation-keras/train_faces/../dataset/celeba/val/mask_\n",
      "\n"
     ]
    }
   ],
   "source": [
    "tag = 'celeba/fcn_8/ep15/st3200'\n",
    "\n",
    "now = datetime.datetime.now()\n",
    "NOW = \"{:%Y%m%dT%H%M}\".format(now)\n",
    "\n",
    "OUT_DIR = os.path.join(ROOT_DIR, 'out')\n",
    "CHECKPOINTS_DIR = os.path.join(OUT_DIR, 'checkpoints')\n",
    "PREDICTIONS_DIR = os.path.join(OUT_DIR, 'predictions')\n",
    "LOGS_DIR = os.path.join(OUT_DIR, 'logs')\n",
    "\n",
    "DATASET_DIR = os.path.join(ROOT_DIR, 'dataset/celeba')\n",
    "\n",
    "TRAIN_IMAGES = os.path.join(DATASET_DIR, 'train/original')\n",
    "TRAIN_ANNOTATIONS = os.path.join(DATASET_DIR, 'train/mask_')\n",
    "VAL_IMAGES = os.path.join(DATASET_DIR, 'val/original')\n",
    "VAL_ANNOTATIONS = os.path.join(DATASET_DIR, 'val/mask_')\n",
    "\n",
    "CHECKPOINTS_DIR = os.path.join(CHECKPOINTS_DIR, tag)\n",
    "PREDICTIONS_DIR = os.path.join(PREDICTIONS_DIR, tag)\n",
    "LOGS_DIR = os.path.join(LOGS_DIR, tag)\n",
    "if not os.path.exists(CHECKPOINTS_DIR):\n",
    "    os.makedirs(CHECKPOINTS_DIR)\n",
    "if not os.path.exists(PREDICTIONS_DIR):\n",
    "    os.makedirs(PREDICTIONS_DIR)\n",
    "if not os.path.exists(LOGS_DIR):\n",
    "    os.makedirs(LOGS_DIR)\n",
    "    \n",
    "dir_configuration = \"\"\"\n",
    "NOW = {now}\n",
    "out_dir : {out_dir}\n",
    "checkpoints_dir : {checkpoints_dir}\n",
    "logs_dir : {logs_dir}\n",
    "predictions_dir : {predictions_dir}\n",
    "\n",
    "dataset_dir : {dataset_dir}\n",
    "train_images : {train_images}\n",
    "train_annotations : {train_annotations}\n",
    "val_images : {val_images}\n",
    "val_annotations : {val_annotations}\n",
    "\"\"\".format(\n",
    "    now=NOW,\n",
    "    out_dir=OUT_DIR,\n",
    "    checkpoints_dir=CHECKPOINTS_DIR,\n",
    "    logs_dir=LOGS_DIR,\n",
    "    predictions_dir=PREDICTIONS_DIR,\n",
    "\n",
    "    dataset_dir=DATASET_DIR,\n",
    "    train_images=TRAIN_IMAGES,\n",
    "    train_annotations=TRAIN_ANNOTATIONS,\n",
    "    val_images=VAL_IMAGES,\n",
    "    val_annotations=VAL_ANNOTATIONS,\n",
    ")\n",
    "print(dir_configuration)"
   ]
  },
  {
   "cell_type": "code",
   "execution_count": 4,
   "metadata": {},
   "outputs": [],
   "source": [
    "# Configurations\n",
    "N_CLASSES = 3\n",
    "# I_HEIGHT = 416\n",
    "I_HEIGHT = 218\n",
    "# I_WIDTH = 608\n",
    "I_WIDTH = 178\n",
    "\n",
    "STEPS_PER_EPOCH = 3200\n",
    "\n",
    "EPOCHS = 15"
   ]
  },
  {
   "cell_type": "code",
   "execution_count": 5,
   "metadata": {},
   "outputs": [
    {
     "name": "stdout",
     "output_type": "stream",
     "text": [
      "WARNING:tensorflow:From /home/jho/anaconda3/envs/tf10-py36/lib/python3.6/site-packages/keras/backend/tensorflow_backend.py:1154: calling reduce_max (from tensorflow.python.ops.math_ops) with keep_dims is deprecated and will be removed in a future version.\n",
      "Instructions for updating:\n",
      "keep_dims is deprecated, use keepdims instead\n",
      "WARNING:tensorflow:From /home/jho/anaconda3/envs/tf10-py36/lib/python3.6/site-packages/keras/backend/tensorflow_backend.py:1188: calling reduce_sum (from tensorflow.python.ops.math_ops) with keep_dims is deprecated and will be removed in a future version.\n",
      "Instructions for updating:\n",
      "keep_dims is deprecated, use keepdims instead\n"
     ]
    }
   ],
   "source": [
    "# Define model\n",
    "model = fcn_8(n_classes=N_CLASSES, input_height=I_HEIGHT, input_width=I_WIDTH)"
   ]
  },
  {
   "cell_type": "code",
   "execution_count": null,
   "metadata": {},
   "outputs": [
    {
     "name": "stdout",
     "output_type": "stream",
     "text": [
      "WARNING:tensorflow:From /home/jho/anaconda3/envs/tf10-py36/lib/python3.6/site-packages/keras/backend/tensorflow_backend.py:1290: calling reduce_mean (from tensorflow.python.ops.math_ops) with keep_dims is deprecated and will be removed in a future version.\n",
      "Instructions for updating:\n",
      "keep_dims is deprecated, use keepdims instead\n"
     ]
    },
    {
     "name": "stderr",
     "output_type": "stream",
     "text": [
      "  6%|▌         | 184/3200 [00:00<00:01, 1835.75it/s]"
     ]
    },
    {
     "name": "stdout",
     "output_type": "stream",
     "text": [
      "Verifying training dataset\n"
     ]
    },
    {
     "name": "stderr",
     "output_type": "stream",
     "text": [
      "100%|██████████| 3200/3200 [00:01<00:00, 1843.87it/s]\n",
      "100%|██████████| 355/355 [00:00<00:00, 1889.84it/s]\n"
     ]
    },
    {
     "name": "stdout",
     "output_type": "stream",
     "text": [
      "Dataset verified! \n",
      "Verifying validation dataset\n",
      "Dataset verified! \n",
      "Start training with validation...\n",
      "Epoch 1/15\n",
      "3199/3200 [============================>.] - ETA: 0s - loss: 0.2789 - acc: 0.8873Epoch 00000: val_loss improved from inf to 0.21868, saving model to /home/jho/projects/image-segmentation-keras/train_faces/../out/checkpoints/celeba/fcn_8/ep15/st3200/20200418T1159-00.h5\n",
      "3200/3200 [==============================] - 366s - loss: 0.2789 - acc: 0.8873 - val_loss: 0.2187 - val_acc: 0.9177\n",
      "Epoch 2/15\n",
      "3199/3200 [============================>.] - ETA: 0s - loss: 0.1777 - acc: 0.9304Epoch 00001: val_loss improved from 0.21868 to 0.18395, saving model to /home/jho/projects/image-segmentation-keras/train_faces/../out/checkpoints/celeba/fcn_8/ep15/st3200/20200418T1159-01.h5\n",
      "3200/3200 [==============================] - 363s - loss: 0.1777 - acc: 0.9304 - val_loss: 0.1839 - val_acc: 0.9346\n",
      "Epoch 3/15\n",
      "3199/3200 [============================>.] - ETA: 0s - loss: 0.1456 - acc: 0.9429Epoch 00002: val_loss did not improve\n",
      "3200/3200 [==============================] - 363s - loss: 0.1456 - acc: 0.9429 - val_loss: 0.1985 - val_acc: 0.9350\n",
      "Epoch 4/15\n",
      "3199/3200 [============================>.] - ETA: 0s - loss: 0.1244 - acc: 0.9510Epoch 00003: val_loss improved from 0.18395 to 0.16879, saving model to /home/jho/projects/image-segmentation-keras/train_faces/../out/checkpoints/celeba/fcn_8/ep15/st3200/20200418T1159-03.h5\n",
      "3200/3200 [==============================] - 363s - loss: 0.1244 - acc: 0.9510 - val_loss: 0.1688 - val_acc: 0.9444\n",
      "Epoch 5/15\n",
      "3199/3200 [============================>.] - ETA: 0s - loss: 0.1104 - acc: 0.9563Epoch 00004: val_loss did not improve\n",
      "3200/3200 [==============================] - 363s - loss: 0.1104 - acc: 0.9563 - val_loss: 0.1909 - val_acc: 0.9407\n",
      "Epoch 6/15\n",
      "3199/3200 [============================>.] - ETA: 0s - loss: 0.0998 - acc: 0.9603Epoch 00005: val_loss did not improve\n",
      "3200/3200 [==============================] - 363s - loss: 0.0997 - acc: 0.9603 - val_loss: 0.1798 - val_acc: 0.9427\n",
      "Epoch 7/15\n",
      "3199/3200 [============================>.] - ETA: 0s - loss: 0.0910 - acc: 0.9637Epoch 00006: val_loss did not improve\n",
      "3200/3200 [==============================] - 363s - loss: 0.0910 - acc: 0.9637 - val_loss: 0.1857 - val_acc: 0.9447\n",
      "Epoch 8/15\n",
      "3199/3200 [============================>.] - ETA: 0s - loss: 0.0840 - acc: 0.9665Epoch 00007: val_loss did not improve\n",
      "3200/3200 [==============================] - 363s - loss: 0.0839 - acc: 0.9665 - val_loss: 0.1747 - val_acc: 0.9467\n",
      "Epoch 9/15\n",
      "3199/3200 [============================>.] - ETA: 0s - loss: 0.0784 - acc: 0.9686Epoch 00008: val_loss did not improve\n",
      "3200/3200 [==============================] - 363s - loss: 0.0784 - acc: 0.9686 - val_loss: 0.1864 - val_acc: 0.9435\n",
      "Epoch 10/15\n",
      "3199/3200 [============================>.] - ETA: 0s - loss: 0.0736 - acc: 0.9705Epoch 00009: val_loss did not improve\n",
      "3200/3200 [==============================] - 363s - loss: 0.0736 - acc: 0.9705 - val_loss: 0.2104 - val_acc: 0.9412\n",
      "Epoch 11/15\n",
      "2888/3200 [==========================>...] - ETA: 34s - loss: 0.0700 - acc: 0.9718"
     ]
    }
   ],
   "source": [
    "# Train\n",
    "checkpoints_path = os.path.join(CHECKPOINTS_DIR, NOW)\n",
    "logs_path = os.path.join(LOGS_DIR, NOW)\n",
    "\n",
    "model.train(\n",
    "    train_images = TRAIN_IMAGES,\n",
    "    train_annotations = TRAIN_ANNOTATIONS,\n",
    "    checkpoints_path=checkpoints_path,\n",
    "    epochs=EPOCHS,\n",
    "    steps_per_epoch=STEPS_PER_EPOCH,\n",
    "    log_dir=logs_path,\n",
    "    validate=True,\n",
    "    val_images=VAL_IMAGES,\n",
    "    val_annotations = VAL_ANNOTATIONS,\n",
    "    save_best_only=True # Save model if 'val_loss' had been improved.\n",
    ")"
   ]
  },
  {
   "cell_type": "code",
   "execution_count": null,
   "metadata": {},
   "outputs": [],
   "source": [
    "import random\n",
    "val_list = os.listdir(VAL_IMAGES)\n",
    "rand_val = random.choice(val_list)[:-4]\n",
    "print(rand_val)\n",
    "\n",
    "sample_test_image = os.path.join(VAL_IMAGES, rand_val + '.jpg')\n",
    "sample_test_annotaion = os.path.join(VAL_ANNOTATIONS, rand_val + '.bmp')\n",
    "out_fname = os.path.join(PREDICTIONS_DIR, 'out_{}_{}.png'.format(rand_val, NOW))"
   ]
  },
  {
   "cell_type": "code",
   "execution_count": null,
   "metadata": {},
   "outputs": [],
   "source": [
    "# Out\n",
    "out = model.predict_segmentation(\n",
    "    inp=sample_test_image,\n",
    "    out_fname=out_fname\n",
    ")"
   ]
  },
  {
   "cell_type": "code",
   "execution_count": null,
   "metadata": {},
   "outputs": [],
   "source": [
    "plt.imshow(Image.open(sample_test_image))"
   ]
  },
  {
   "cell_type": "code",
   "execution_count": null,
   "metadata": {},
   "outputs": [],
   "source": [
    "plt.imshow(Image.open(sample_test_annotaion))"
   ]
  },
  {
   "cell_type": "code",
   "execution_count": null,
   "metadata": {},
   "outputs": [],
   "source": [
    "plt.imshow(out)"
   ]
  },
  {
   "cell_type": "code",
   "execution_count": null,
   "metadata": {},
   "outputs": [],
   "source": [
    "# evaluating the model\n",
    "evaluation = model.evaluate_segmentation(inp_images_dir=VAL_IMAGES, annotations_dir=VAL_ANNOTATIONS)\n",
    "print(evaluation)\n"
   ]
  },
  {
   "cell_type": "code",
   "execution_count": null,
   "metadata": {},
   "outputs": [],
   "source": []
  }
 ],
 "metadata": {
  "kernelspec": {
   "display_name": "tf10-py36",
   "language": "python",
   "name": "tf10-py36"
  },
  "language_info": {
   "codemirror_mode": {
    "name": "ipython",
    "version": 3
   },
   "file_extension": ".py",
   "mimetype": "text/x-python",
   "name": "python",
   "nbconvert_exporter": "python",
   "pygments_lexer": "ipython3",
   "version": "3.6.10"
  }
 },
 "nbformat": 4,
 "nbformat_minor": 4
}
