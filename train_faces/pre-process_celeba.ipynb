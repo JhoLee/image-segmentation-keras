{
 "cells": [
  {
   "cell_type": "markdown",
   "metadata": {},
   "source": [
    "## Change pixel values\n",
    "128 -> 1; 255 -> 2"
   ]
  },
  {
   "cell_type": "code",
   "execution_count": 1,
   "metadata": {},
   "outputs": [],
   "source": [
    "import os\n",
    "import sys\n",
    "\n",
    "ROOT_DIR = os.path.join(os.getcwd(), '..')\n",
    "\n",
    "import matplotlib.pyplot as plt\n",
    "import seaborn as sns\n",
    "%matplotlib inline"
   ]
  },
  {
   "cell_type": "code",
   "execution_count": 2,
   "metadata": {},
   "outputs": [],
   "source": [
    "DATA_DIR = os.path.join(ROOT_DIR, 'dataset/celeba')\n",
    "TRAIN_MASK_DIR = os.path.join(DATA_DIR, 'train/mask')\n",
    "VAL_MASK_DIR = os.path.join(DATA_DIR, 'val/mask')\n",
    "\n",
    "TRAIN_OUT_DIR = os.path.join(DATA_DIR, 'train/mask_')\n",
    "VAL_OUT_DIR = os.path.join(DATA_DIR, 'val/mask_')\n",
    "\n",
    "if not os.path.exists(TRAIN_OUT_DIR):\n",
    "    os.makedirs(TRAIN_OUT_DIR)\n",
    "if not os.path.exists(VAL_OUT_DIR):\n",
    "    os.makedirs(VAL_OUT_DIR)\n",
    "\n",
    "train_masks = os.listdir(TRAIN_MASK_DIR)\n",
    "val_masks = os.listdir(VAL_MASK_DIR)"
   ]
  },
  {
   "cell_type": "code",
   "execution_count": 19,
   "metadata": {},
   "outputs": [],
   "source": [
    "from PIL import Image\n",
    "import numpy as np\n",
    "\n",
    "def modify(images=[], in_dir=\"\", out_dir=\"\", values=[]):\n",
    "    count = 0\n",
    "    for image in images:\n",
    "        im = Image.open(os.path.join(in_dir, image))\n",
    "        ima = np.asarray(im)\n",
    "\n",
    "        for i, v in enumerate(values):\n",
    "            ima = np.where(ima==v, i, ima)\n",
    "            \n",
    "        im = Image.fromarray(ima)\n",
    "        im.save(os.path.join(out_dir, image))\n",
    "\n",
    "        count += 1\n",
    "    print(count)        \n",
    "        \n",
    "        \n",
    "        \n",
    "\n",
    "            \n"
   ]
  },
  {
   "cell_type": "code",
   "execution_count": 20,
   "metadata": {},
   "outputs": [
    {
     "name": "stdout",
     "output_type": "stream",
     "text": [
      "3200\n"
     ]
    }
   ],
   "source": [
    "\n",
    "modify(train_masks, TRAIN_MASK_DIR, TRAIN_OUT_DIR, [0, 128, 255])"
   ]
  },
  {
   "cell_type": "code",
   "execution_count": 21,
   "metadata": {},
   "outputs": [
    {
     "name": "stdout",
     "output_type": "stream",
     "text": [
      "355\n"
     ]
    }
   ],
   "source": [
    "modify(val_masks, VAL_MASK_DIR, VAL_OUT_DIR, [0, 128, 255])"
   ]
  },
  {
   "cell_type": "code",
   "execution_count": null,
   "metadata": {},
   "outputs": [],
   "source": []
  }
 ],
 "metadata": {
  "kernelspec": {
   "display_name": "tf10-py36",
   "language": "python",
   "name": "tf10-py36"
  },
  "language_info": {
   "codemirror_mode": {
    "name": "ipython",
    "version": 3
   },
   "file_extension": ".py",
   "mimetype": "text/x-python",
   "name": "python",
   "nbconvert_exporter": "python",
   "pygments_lexer": "ipython3",
   "version": "3.6.10"
  }
 },
 "nbformat": 4,
 "nbformat_minor": 4
}
