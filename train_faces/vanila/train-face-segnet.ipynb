{
 "cells": [
  {
   "cell_type": "markdown",
   "metadata": {},
   "source": [
    "## Training SegNet With CelebA Dataset\n",
    "### By 10 epochs, 100steps, batch size=28."
   ]
  },
  {
   "cell_type": "code",
   "execution_count": 1,
   "metadata": {},
   "outputs": [],
   "source": [
    "import os\n",
    "import sys\n",
    "import datetime\n",
    "\n",
    "import PIL.Image as Image\n",
    "import matplotlib.pyplot as plt\n",
    "%matplotlib inline\n",
    "\n",
    "ROOT_DIR = os.path.join(os.getcwd(), '../..')\n",
    "sys.path.append(ROOT_DIR)"
   ]
  },
  {
   "cell_type": "code",
   "execution_count": 2,
   "metadata": {},
   "outputs": [
    {
     "name": "stderr",
     "output_type": "stream",
     "text": [
      "Using TensorFlow backend.\n",
      "/home/jho/anaconda3/envs/tf10-py36/lib/python3.6/site-packages/tensorflow/python/framework/dtypes.py:523: FutureWarning: Passing (type, 1) or '1type' as a synonym of type is deprecated; in a future version of numpy, it will be understood as (type, (1,)) / '(1,)type'.\n",
      "  _np_qint8 = np.dtype([(\"qint8\", np.int8, 1)])\n",
      "/home/jho/anaconda3/envs/tf10-py36/lib/python3.6/site-packages/tensorflow/python/framework/dtypes.py:524: FutureWarning: Passing (type, 1) or '1type' as a synonym of type is deprecated; in a future version of numpy, it will be understood as (type, (1,)) / '(1,)type'.\n",
      "  _np_quint8 = np.dtype([(\"quint8\", np.uint8, 1)])\n",
      "/home/jho/anaconda3/envs/tf10-py36/lib/python3.6/site-packages/tensorflow/python/framework/dtypes.py:525: FutureWarning: Passing (type, 1) or '1type' as a synonym of type is deprecated; in a future version of numpy, it will be understood as (type, (1,)) / '(1,)type'.\n",
      "  _np_qint16 = np.dtype([(\"qint16\", np.int16, 1)])\n",
      "/home/jho/anaconda3/envs/tf10-py36/lib/python3.6/site-packages/tensorflow/python/framework/dtypes.py:526: FutureWarning: Passing (type, 1) or '1type' as a synonym of type is deprecated; in a future version of numpy, it will be understood as (type, (1,)) / '(1,)type'.\n",
      "  _np_quint16 = np.dtype([(\"quint16\", np.uint16, 1)])\n",
      "/home/jho/anaconda3/envs/tf10-py36/lib/python3.6/site-packages/tensorflow/python/framework/dtypes.py:527: FutureWarning: Passing (type, 1) or '1type' as a synonym of type is deprecated; in a future version of numpy, it will be understood as (type, (1,)) / '(1,)type'.\n",
      "  _np_qint32 = np.dtype([(\"qint32\", np.int32, 1)])\n",
      "/home/jho/anaconda3/envs/tf10-py36/lib/python3.6/site-packages/tensorflow/python/framework/dtypes.py:532: FutureWarning: Passing (type, 1) or '1type' as a synonym of type is deprecated; in a future version of numpy, it will be understood as (type, (1,)) / '(1,)type'.\n",
      "  np_resource = np.dtype([(\"resource\", np.ubyte, 1)])\n"
     ]
    }
   ],
   "source": [
    "from keras_segmentation.models.segnet import segnet as M"
   ]
  },
  {
   "cell_type": "code",
   "execution_count": 3,
   "metadata": {},
   "outputs": [],
   "source": [
    "now = datetime.datetime.now()\n",
    "NOW = \"{:%Y%m%dT%H%M}\".format(now)"
   ]
  },
  {
   "cell_type": "code",
   "execution_count": 4,
   "metadata": {},
   "outputs": [],
   "source": [
    "OUT_DIR = os.path.join(ROOT_DIR, 'out')\n",
    "CHECKPOINTS_DIR = os.path.join(OUT_DIR, 'checkpoints')\n",
    "PREDICTIONS_DIR = os.path.join(OUT_DIR, 'predictions')\n",
    "LOGS_DIR = os.path.join(OUT_DIR, 'logs')\n",
    "\n",
    "DATASET_DIR = os.path.join(ROOT_DIR, 'dataset/celeba_')\n",
    "\n",
    "TRAIN_IMAGES = os.path.join(DATASET_DIR, 'train/original')\n",
    "TRAIN_ANNOTATIONS = os.path.join(DATASET_DIR, 'train/mask')\n",
    "\n",
    "VAL_IMAGES = os.path.join(DATASET_DIR, 'val/original')\n",
    "VAL_ANNOTATIONS = os.path.join(DATASET_DIR, 'val/mask')\n",
    "\n",
    "TEST_IMAGES = os.path.join(DATASET_DIR, 'test/original')\n",
    "TEST_ANNOTATIONS = os.path.join(DATASET_DIR, 'test/mask')"
   ]
  },
  {
   "cell_type": "code",
   "execution_count": 5,
   "metadata": {},
   "outputs": [],
   "source": [
    "# Configurations\n",
    "\n",
    "MODEL_NAME = 'segnet'\n",
    "N_CLASSES = 3\n",
    "\n",
    "I_HEIGHT = 256\n",
    "I_WIDTH = 256\n",
    "\n",
    "# I_HEIGHT = 218\n",
    "# I_WIDTH = 178\n",
    "\n",
    "EPOCHS = 10\n",
    "\n",
    "BATCH_SIZE=28\n",
    "STEPS_PER_EPOCH= 100\n",
    "\n",
    "VAL_STEPS = 71\n",
    "VAL_BATCH_SIZE=5"
   ]
  },
  {
   "cell_type": "code",
   "execution_count": 6,
   "metadata": {},
   "outputs": [
    {
     "name": "stdout",
     "output_type": "stream",
     "text": [
      "\n",
      "NOW = 20200421T0034\n",
      "out_dir : /home/jho/projects/image-segmentation-keras/train_faces/unet/../../out\n",
      "checkpoints_dir : /home/jho/projects/image-segmentation-keras/train_faces/unet/../../out/checkpoints/celeba/segnet/ep10/st100/ba28\n",
      "logs_dir : /home/jho/projects/image-segmentation-keras/train_faces/unet/../../out/logs/celeba/segnet/ep10/st100/ba28\n",
      "predictions_dir : /home/jho/projects/image-segmentation-keras/train_faces/unet/../../out/predictions/celeba/segnet/ep10/st100/ba28\n",
      "\n",
      "dataset_dir : /home/jho/projects/image-segmentation-keras/train_faces/unet/../../dataset/celeba_\n",
      "train_images : /home/jho/projects/image-segmentation-keras/train_faces/unet/../../dataset/celeba_/train/original\n",
      "train_annotations : /home/jho/projects/image-segmentation-keras/train_faces/unet/../../dataset/celeba_/train/mask\n",
      "val_images : /home/jho/projects/image-segmentation-keras/train_faces/unet/../../dataset/celeba_/val/original\n",
      "val_annotations : /home/jho/projects/image-segmentation-keras/train_faces/unet/../../dataset/celeba_/val/mask\n",
      "\n"
     ]
    }
   ],
   "source": [
    "tag = 'celeba/{name}/ep{epochs}/st{steps}/ba{batch}'.format(\n",
    "    name=MODEL_NAME,\n",
    "    epochs=EPOCHS,\n",
    "    steps=STEPS_PER_EPOCH,\n",
    "    batch=BATCH_SIZE\n",
    ")\n",
    "\n",
    "PLOTS_DIR = os.path.join(OUT_DIR, 'plots')\n",
    "if not os.path.exists(PLOTS_DIR):\n",
    "    os.makedirs(PLOTS_DIR)\n",
    "PLOT_PATH = os.path.join(PLOTS_DIR, 'model_{}.svg'.format(MODEL_NAME))\n",
    "\n",
    "CHECKPOINTS_DIR = os.path.join(CHECKPOINTS_DIR, tag)\n",
    "PREDICTIONS_DIR = os.path.join(PREDICTIONS_DIR, tag)\n",
    "LOGS_DIR = os.path.join(LOGS_DIR, tag)\n",
    "if not os.path.exists(CHECKPOINTS_DIR):\n",
    "    os.makedirs(CHECKPOINTS_DIR)\n",
    "if not os.path.exists(PREDICTIONS_DIR):\n",
    "    os.makedirs(PREDICTIONS_DIR)\n",
    "if not os.path.exists(LOGS_DIR):\n",
    "    os.makedirs(LOGS_DIR)\n",
    "    \n",
    "dir_configuration = \"\"\"\n",
    "NOW = {now}\n",
    "out_dir : {out_dir}\n",
    "checkpoints_dir : {checkpoints_dir}\n",
    "logs_dir : {logs_dir}\n",
    "predictions_dir : {predictions_dir}\n",
    "\n",
    "dataset_dir : {dataset_dir}\n",
    "train_images : {train_images}\n",
    "train_annotations : {train_annotations}\n",
    "val_images : {val_images}\n",
    "val_annotations : {val_annotations}\n",
    "\"\"\".format(\n",
    "    now=NOW,\n",
    "    out_dir=OUT_DIR,\n",
    "    checkpoints_dir=CHECKPOINTS_DIR,\n",
    "    logs_dir=LOGS_DIR,\n",
    "    predictions_dir=PREDICTIONS_DIR,\n",
    "\n",
    "    dataset_dir=DATASET_DIR,\n",
    "    train_images=TRAIN_IMAGES,\n",
    "    train_annotations=TRAIN_ANNOTATIONS,\n",
    "    val_images=VAL_IMAGES,\n",
    "    val_annotations=VAL_ANNOTATIONS,\n",
    ")\n",
    "print(dir_configuration)"
   ]
  },
  {
   "cell_type": "code",
   "execution_count": 7,
   "metadata": {},
   "outputs": [
    {
     "name": "stdout",
     "output_type": "stream",
     "text": [
      "WARNING:tensorflow:From /home/jho/anaconda3/envs/tf10-py36/lib/python3.6/site-packages/keras/backend/tensorflow_backend.py:1154: calling reduce_max (from tensorflow.python.ops.math_ops) with keep_dims is deprecated and will be removed in a future version.\n",
      "Instructions for updating:\n",
      "keep_dims is deprecated, use keepdims instead\n",
      "WARNING:tensorflow:From /home/jho/anaconda3/envs/tf10-py36/lib/python3.6/site-packages/keras/backend/tensorflow_backend.py:1188: calling reduce_sum (from tensorflow.python.ops.math_ops) with keep_dims is deprecated and will be removed in a future version.\n",
      "Instructions for updating:\n",
      "keep_dims is deprecated, use keepdims instead\n"
     ]
    }
   ],
   "source": [
    "# Define model\n",
    "model = M(n_classes=N_CLASSES, input_height=I_HEIGHT, input_width=I_WIDTH)\n",
    "# model.summary()\n",
    "\n",
    "from IPython.display import SVG\n",
    "from keras.utils.vis_utils import model_to_dot\n",
    "from keras.utils import plot_model\n",
    "\n",
    "\n",
    "plot_model(model, to_file=PLOT_PATH)\n",
    "# SVG(model_to_dot(model, show_shapes=True).create(prog='dot', format='svg'))\n"
   ]
  },
  {
   "cell_type": "code",
   "execution_count": 8,
   "metadata": {},
   "outputs": [
    {
     "name": "stdout",
     "output_type": "stream",
     "text": [
      "WARNING:tensorflow:From /home/jho/anaconda3/envs/tf10-py36/lib/python3.6/site-packages/keras/backend/tensorflow_backend.py:1290: calling reduce_mean (from tensorflow.python.ops.math_ops) with keep_dims is deprecated and will be removed in a future version.\n",
      "Instructions for updating:\n",
      "keep_dims is deprecated, use keepdims instead\n",
      "Verifying training dataset\n"
     ]
    },
    {
     "name": "stderr",
     "output_type": "stream",
     "text": [
      "100%|██████████| 2800/2800 [00:01<00:00, 1815.83it/s]\n",
      "100%|██████████| 355/355 [00:00<00:00, 1899.10it/s]\n"
     ]
    },
    {
     "name": "stdout",
     "output_type": "stream",
     "text": [
      "Dataset verified! \n",
      "Verifying validation dataset\n",
      "Dataset verified! \n",
      "Start training with validation...\n",
      "Epoch 1/10\n",
      "100/100 [==============================] - 39s - loss: 0.5952 - acc: 0.7743 - val_loss: 0.5276 - val_acc: 0.7840\n",
      "Epoch 2/10\n",
      "100/100 [==============================] - 35s - loss: 0.3957 - acc: 0.8488 - val_loss: 0.4607 - val_acc: 0.8322\n",
      "Epoch 3/10\n",
      "100/100 [==============================] - 35s - loss: 0.3382 - acc: 0.8688 - val_loss: 0.3970 - val_acc: 0.8579\n",
      "Epoch 4/10\n",
      "100/100 [==============================] - 35s - loss: 0.2981 - acc: 0.8833 - val_loss: 0.3724 - val_acc: 0.8643\n",
      "Epoch 5/10\n",
      "100/100 [==============================] - 35s - loss: 0.2709 - acc: 0.8936 - val_loss: 0.3591 - val_acc: 0.8688\n",
      "Epoch 6/10\n",
      "100/100 [==============================] - 34s - loss: 0.2477 - acc: 0.9020 - val_loss: 0.3913 - val_acc: 0.8576\n",
      "Epoch 7/10\n",
      "100/100 [==============================] - 35s - loss: 0.2325 - acc: 0.9078 - val_loss: 0.3492 - val_acc: 0.8705\n",
      "Epoch 8/10\n",
      "100/100 [==============================] - 34s - loss: 0.2199 - acc: 0.9129 - val_loss: 0.3909 - val_acc: 0.8582\n",
      "Epoch 9/10\n",
      "100/100 [==============================] - 35s - loss: 0.2103 - acc: 0.9168 - val_loss: 0.3246 - val_acc: 0.8788\n",
      "Epoch 10/10\n",
      "100/100 [==============================] - 35s - loss: 0.2015 - acc: 0.9203 - val_loss: 0.2871 - val_acc: 0.8914\n",
      "End training with validation!\n"
     ]
    }
   ],
   "source": [
    "# Train\n",
    "checkpoints_path = os.path.join(CHECKPOINTS_DIR, NOW)\n",
    "logs_path = os.path.join(LOGS_DIR, NOW)\n",
    "\n",
    "model.train(\n",
    "    train_images = TRAIN_IMAGES,\n",
    "    train_annotations = TRAIN_ANNOTATIONS,\n",
    "    checkpoints_path=checkpoints_path,\n",
    "    epochs=EPOCHS,\n",
    "    steps_per_epoch=STEPS_PER_EPOCH,\n",
    "    log_dir=logs_path,\n",
    "    validate=True,\n",
    "    val_images=VAL_IMAGES,\n",
    "    val_annotations = VAL_ANNOTATIONS,\n",
    "    val_steps=VAL_STEPS,\n",
    "    batch_size=BATCH_SIZE,\n",
    "    val_batch_size=VAL_BATCH_SIZE,\n",
    "    save_best_only=True)"
   ]
  },
  {
   "cell_type": "code",
   "execution_count": null,
   "metadata": {},
   "outputs": [],
   "source": []
  },
  {
   "cell_type": "code",
   "execution_count": 9,
   "metadata": {},
   "outputs": [
    {
     "name": "stderr",
     "output_type": "stream",
     "text": [
      "355it [00:02, 120.80it/s]"
     ]
    },
    {
     "name": "stdout",
     "output_type": "stream",
     "text": [
      "{'frequency_weighted_IU': 0.8074158694045687, 'mean_IU': 0.7531633292547338, 'class_wise_IU': array([0.86235385, 0.83251612, 0.56462002])}\n"
     ]
    },
    {
     "name": "stderr",
     "output_type": "stream",
     "text": [
      "\n"
     ]
    }
   ],
   "source": [
    "# evaluating the model\n",
    "evaluation = model.evaluate_segmentation(inp_images_dir=VAL_IMAGES, annotations_dir=VAL_ANNOTATIONS)\n",
    "print(evaluation)\n"
   ]
  },
  {
   "cell_type": "code",
   "execution_count": 12,
   "metadata": {},
   "outputs": [
    {
     "name": "stdout",
     "output_type": "stream",
     "text": [
      "091792\n",
      "/home/jho/projects/image-segmentation-keras/train_faces/unet/../../dataset/celeba_/test/original/091792.jpg\n",
      "/home/jho/projects/image-segmentation-keras/train_faces/unet/../../out/checkpoints/celeba/segnet/ep10/st100/ba28/20200421T0034-best_val_loss.h5\n"
     ]
    }
   ],
   "source": [
    "import random\n",
    "test_list = os.listdir(TEST_IMAGES)\n",
    "rand_test = random.choice(test_list)[:-4]\n",
    "print(rand_test)\n",
    "\n",
    "sample_test_image = os.path.join(TEST_IMAGES, rand_test + '.jpg')\n",
    "sample_test_annotaion = os.path.join(TEST_ANNOTATIONS, rand_test + '.bmp')\n",
    "\n",
    "best_val_loss_model = checkpoints_path + \"-best_val_loss.h5\"\n",
    "best_val_acc_model = checkpoints_path + \"-best_val_acc.h5\"\n",
    "\n",
    "best_val_loss_out_fname = os.path.join(PREDICTIONS_DIR, 'out_{}_{}_val_loss_{}.png'.format(MODEL_NAME, rand_test, NOW))\n",
    "best_val_acc_out_fname = os.path.join(PREDICTIONS_DIR, 'out_{}_{}_val_acc_{}.png'.format(MODEL_NAME, rand_test, NOW))\n",
    "\n",
    "print(sample_test_image)\n",
    "print(best_val_loss_model)"
   ]
  },
  {
   "cell_type": "code",
   "execution_count": 13,
   "metadata": {},
   "outputs": [],
   "source": [
    "best_val_loss_out = model.predict_segmentation(\n",
    "    inp=sample_test_image,\n",
    "    checkpoints_path=best_val_loss_model,\n",
    "    out_fname=best_val_loss_out_fname)\n",
    "\n",
    "best_val_acc_out = model.predict_segmentation(\n",
    "    inp=sample_test_image,\n",
    "    checkpoints_path=best_val_acc_model,\n",
    "    out_fname=best_val_acc_out_fname)"
   ]
  },
  {
   "cell_type": "code",
   "execution_count": 14,
   "metadata": {},
   "outputs": [
    {
     "data": {
      "text/plain": [
       "<matplotlib.image.AxesImage at 0x7f7b005f9358>"
      ]
     },
     "execution_count": 14,
     "metadata": {},
     "output_type": "execute_result"
    },
    {
     "data": {
      "image/png": "[encoded data removed]",
      "text/plain": [
       "<Figure size 432x288 with 1 Axes>"
      ]
     },
     "metadata": {
      "needs_background": "light"
     },
     "output_type": "display_data"
    }
   ],
   "source": [
    "plt.imshow(Image.open(sample_test_image))"
   ]
  },
  {
   "cell_type": "code",
   "execution_count": 15,
   "metadata": {},
   "outputs": [
    {
     "data": {
      "text/plain": [
       "<matplotlib.image.AxesImage at 0x7f7b004c0be0>"
      ]
     },
     "execution_count": 15,
     "metadata": {},
     "output_type": "execute_result"
    },
    {
     "data": {
      "image/png": "[encoded data removed]",
      "text/plain": [
       "<Figure size 432x288 with 1 Axes>"
      ]
     },
     "metadata": {
      "needs_background": "light"
     },
     "output_type": "display_data"
    }
   ],
   "source": [
    "plt.imshow(Image.open(sample_test_annotaion))"
   ]
  },
  {
   "cell_type": "code",
   "execution_count": 16,
   "metadata": {},
   "outputs": [
    {
     "data": {
      "text/plain": [
       "<matplotlib.image.AxesImage at 0x7f7b004aec88>"
      ]
     },
     "execution_count": 16,
     "metadata": {},
     "output_type": "execute_result"
    },
    {
     "data": {
      "image/png": "[encoded data removed]",
      "text/plain": [
       "<Figure size 432x288 with 1 Axes>"
      ]
     },
     "metadata": {
      "needs_background": "light"
     },
     "output_type": "display_data"
    }
   ],
   "source": [
    "plt.imshow(Image.open(best_val_loss_out_fname))"
   ]
  },
  {
   "cell_type": "code",
   "execution_count": 17,
   "metadata": {},
   "outputs": [
    {
     "data": {
      "text/plain": [
       "<matplotlib.image.AxesImage at 0x7f7b00416780>"
      ]
     },
     "execution_count": 17,
     "metadata": {},
     "output_type": "execute_result"
    },
    {
     "data": {
      "image/png": "[encoded data removed]",
      "text/plain": [
       "<Figure size 432x288 with 1 Axes>"
      ]
     },
     "metadata": {
      "needs_background": "light"
     },
     "output_type": "display_data"
    }
   ],
   "source": [
    "plt.imshow(Image.open(best_val_acc_out_fname))"
   ]
  },
  {
   "cell_type": "code",
   "execution_count": null,
   "metadata": {},
   "outputs": [],
   "source": []
  },
  {
   "cell_type": "code",
   "execution_count": null,
   "metadata": {},
   "outputs": [],
   "source": []
  }
 ],
 "metadata": {
  "kernelspec": {
   "display_name": "tf10-py36",
   "language": "python",
   "name": "tf10-py36"
  },
  "language_info": {
   "codemirror_mode": {
    "name": "ipython",
    "version": 3
   },
   "file_extension": ".py",
   "mimetype": "text/x-python",
   "name": "python",
   "nbconvert_exporter": "python",
   "pygments_lexer": "ipython3",
   "version": "3.6.10"
  }
 },
 "nbformat": 4,
 "nbformat_minor": 4
}
