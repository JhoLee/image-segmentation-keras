{
 "cells": [
  {
   "cell_type": "markdown",
   "metadata": {},
   "source": [
    "## Training FCN_8_resnet50With CelebA Dataset\n",
    "### By 10 epochs, 140steps, batch size=20."
   ]
  },
  {
   "cell_type": "code",
   "execution_count": 1,
   "metadata": {},
   "outputs": [],
   "source": [
    "import os\n",
    "import sys\n",
    "import datetime\n",
    "\n",
    "import PIL.Image as Image\n",
    "import matplotlib.pyplot as plt\n",
    "%matplotlib inline\n",
    "\n",
    "ROOT_DIR = os.path.join(os.getcwd(), '../..')\n",
    "sys.path.append(ROOT_DIR)"
   ]
  },
  {
   "cell_type": "code",
   "execution_count": 2,
   "metadata": {},
   "outputs": [
    {
     "name": "stderr",
     "output_type": "stream",
     "text": [
      "Using TensorFlow backend.\n",
      "/home/jho/anaconda3/envs/tf12-py36/lib/python3.6/site-packages/tensorflow/python/framework/dtypes.py:523: FutureWarning: Passing (type, 1) or '1type' as a synonym of type is deprecated; in a future version of numpy, it will be understood as (type, (1,)) / '(1,)type'.\n",
      "  _np_qint8 = np.dtype([(\"qint8\", np.int8, 1)])\n",
      "/home/jho/anaconda3/envs/tf12-py36/lib/python3.6/site-packages/tensorflow/python/framework/dtypes.py:524: FutureWarning: Passing (type, 1) or '1type' as a synonym of type is deprecated; in a future version of numpy, it will be understood as (type, (1,)) / '(1,)type'.\n",
      "  _np_quint8 = np.dtype([(\"quint8\", np.uint8, 1)])\n",
      "/home/jho/anaconda3/envs/tf12-py36/lib/python3.6/site-packages/tensorflow/python/framework/dtypes.py:525: FutureWarning: Passing (type, 1) or '1type' as a synonym of type is deprecated; in a future version of numpy, it will be understood as (type, (1,)) / '(1,)type'.\n",
      "  _np_qint16 = np.dtype([(\"qint16\", np.int16, 1)])\n",
      "/home/jho/anaconda3/envs/tf12-py36/lib/python3.6/site-packages/tensorflow/python/framework/dtypes.py:526: FutureWarning: Passing (type, 1) or '1type' as a synonym of type is deprecated; in a future version of numpy, it will be understood as (type, (1,)) / '(1,)type'.\n",
      "  _np_quint16 = np.dtype([(\"quint16\", np.uint16, 1)])\n",
      "/home/jho/anaconda3/envs/tf12-py36/lib/python3.6/site-packages/tensorflow/python/framework/dtypes.py:527: FutureWarning: Passing (type, 1) or '1type' as a synonym of type is deprecated; in a future version of numpy, it will be understood as (type, (1,)) / '(1,)type'.\n",
      "  _np_qint32 = np.dtype([(\"qint32\", np.int32, 1)])\n",
      "/home/jho/anaconda3/envs/tf12-py36/lib/python3.6/site-packages/tensorflow/python/framework/dtypes.py:532: FutureWarning: Passing (type, 1) or '1type' as a synonym of type is deprecated; in a future version of numpy, it will be understood as (type, (1,)) / '(1,)type'.\n",
      "  np_resource = np.dtype([(\"resource\", np.ubyte, 1)])\n"
     ]
    }
   ],
   "source": [
    "from keras_segmentation.models.fcn import fcn_8_vgg as M"
   ]
  },
  {
   "cell_type": "code",
   "execution_count": 3,
   "metadata": {},
   "outputs": [],
   "source": [
    "now = datetime.datetime.now()\n",
    "NOW = \"{:%Y%m%dT%H%M}\".format(now)"
   ]
  },
  {
   "cell_type": "code",
   "execution_count": 4,
   "metadata": {},
   "outputs": [],
   "source": [
    "OUT_DIR = os.path.join(ROOT_DIR, 'out')\n",
    "CHECKPOINTS_DIR = os.path.join(OUT_DIR, 'checkpoints')\n",
    "PREDICTIONS_DIR = os.path.join(OUT_DIR, 'predictions')\n",
    "LOGS_DIR = os.path.join(OUT_DIR, 'logs')\n",
    "\n",
    "DATASET_DIR = os.path.join(ROOT_DIR, 'dataset/celeba_')\n",
    "\n",
    "TRAIN_IMAGES = os.path.join(DATASET_DIR, 'train/original')\n",
    "TRAIN_ANNOTATIONS = os.path.join(DATASET_DIR, 'train/mask')\n",
    "\n",
    "VAL_IMAGES = os.path.join(DATASET_DIR, 'val/original')\n",
    "VAL_ANNOTATIONS = os.path.join(DATASET_DIR, 'val/mask')\n",
    "\n",
    "TEST_IMAGES = os.path.join(DATASET_DIR, 'test/original')\n",
    "TEST_ANNOTATIONS = os.path.join(DATASET_DIR, 'test/mask')"
   ]
  },
  {
   "cell_type": "code",
   "execution_count": 5,
   "metadata": {},
   "outputs": [],
   "source": [
    "# Configurations\n",
    "\n",
    "MODEL_NAME = 'fcn_8_vgg16'\n",
    "N_CLASSES = 3\n",
    "\n",
    "I_HEIGHT = 256\n",
    "I_WIDTH = 256\n",
    "\n",
    "# I_HEIGHT = 218\n",
    "# I_WIDTH = 178\n",
    "\n",
    "EPOCHS = 100\n",
    "\n",
    "BATCH_SIZE=28\n",
    "STEPS_PER_EPOCH= 100\n",
    "\n",
    "VAL_STEPS = 355\n",
    "VAL_BATCH_SIZE=1"
   ]
  },
  {
   "cell_type": "code",
   "execution_count": 6,
   "metadata": {},
   "outputs": [
    {
     "name": "stdout",
     "output_type": "stream",
     "text": [
      "\n",
      "NOW = 20200422T0353\n",
      "out_dir : /home/jho/projects/image-segmentation-keras/train_faces/vgg16/../../out\n",
      "checkpoints_dir : /home/jho/projects/image-segmentation-keras/train_faces/vgg16/../../out/checkpoints/celeba/fcn_8_vgg16/ep100/st100/ba28\n",
      "logs_dir : /home/jho/projects/image-segmentation-keras/train_faces/vgg16/../../out/logs/celeba/fcn_8_vgg16/ep100/st100/ba28\n",
      "predictions_dir : /home/jho/projects/image-segmentation-keras/train_faces/vgg16/../../out/predictions/celeba/fcn_8_vgg16/ep100/st100/ba28\n",
      "\n",
      "dataset_dir : /home/jho/projects/image-segmentation-keras/train_faces/vgg16/../../dataset/celeba_\n",
      "train_images : /home/jho/projects/image-segmentation-keras/train_faces/vgg16/../../dataset/celeba_/train/original\n",
      "train_annotations : /home/jho/projects/image-segmentation-keras/train_faces/vgg16/../../dataset/celeba_/train/mask\n",
      "val_images : /home/jho/projects/image-segmentation-keras/train_faces/vgg16/../../dataset/celeba_/val/original\n",
      "val_annotations : /home/jho/projects/image-segmentation-keras/train_faces/vgg16/../../dataset/celeba_/val/mask\n",
      "\n"
     ]
    }
   ],
   "source": [
    "tag = 'celeba/{name}/ep{epochs}/st{steps}/ba{batch}'.format(\n",
    "    name=MODEL_NAME,\n",
    "    epochs=EPOCHS,\n",
    "    steps=STEPS_PER_EPOCH,\n",
    "    batch=BATCH_SIZE\n",
    ")\n",
    "\n",
    "PLOTS_DIR = os.path.join(OUT_DIR, 'plots')\n",
    "if not os.path.exists(PLOTS_DIR):\n",
    "    os.makedirs(PLOTS_DIR)\n",
    "PLOT_PATH = os.path.join(PLOTS_DIR, 'model_{}.svg'.format(MODEL_NAME))\n",
    "\n",
    "CHECKPOINTS_DIR = os.path.join(CHECKPOINTS_DIR, tag)\n",
    "PREDICTIONS_DIR = os.path.join(PREDICTIONS_DIR, tag)\n",
    "LOGS_DIR = os.path.join(LOGS_DIR, tag)\n",
    "if not os.path.exists(CHECKPOINTS_DIR):\n",
    "    os.makedirs(CHECKPOINTS_DIR)\n",
    "if not os.path.exists(PREDICTIONS_DIR):\n",
    "    os.makedirs(PREDICTIONS_DIR)\n",
    "if not os.path.exists(LOGS_DIR):\n",
    "    os.makedirs(LOGS_DIR)\n",
    "    \n",
    "dir_configuration = \"\"\"\n",
    "NOW = {now}\n",
    "out_dir : {out_dir}\n",
    "checkpoints_dir : {checkpoints_dir}\n",
    "logs_dir : {logs_dir}\n",
    "predictions_dir : {predictions_dir}\n",
    "\n",
    "dataset_dir : {dataset_dir}\n",
    "train_images : {train_images}\n",
    "train_annotations : {train_annotations}\n",
    "val_images : {val_images}\n",
    "val_annotations : {val_annotations}\n",
    "\"\"\".format(\n",
    "    now=NOW,\n",
    "    out_dir=OUT_DIR,\n",
    "    checkpoints_dir=CHECKPOINTS_DIR,\n",
    "    logs_dir=LOGS_DIR,\n",
    "    predictions_dir=PREDICTIONS_DIR,\n",
    "\n",
    "    dataset_dir=DATASET_DIR,\n",
    "    train_images=TRAIN_IMAGES,\n",
    "    train_annotations=TRAIN_ANNOTATIONS,\n",
    "    val_images=VAL_IMAGES,\n",
    "    val_annotations=VAL_ANNOTATIONS,\n",
    ")\n",
    "print(dir_configuration)"
   ]
  },
  {
   "cell_type": "code",
   "execution_count": 7,
   "metadata": {},
   "outputs": [
    {
     "name": "stdout",
     "output_type": "stream",
     "text": [
      "__________________________________________________________________________________________________\n",
      "Layer (type)                    Output Shape         Param #     Connected to                     \n",
      "==================================================================================================\n",
      "input_1 (InputLayer)            (None, 256, 256, 3)  0                                            \n",
      "__________________________________________________________________________________________________\n",
      "block1_conv1 (Conv2D)           (None, 256, 256, 64) 1792        input_1[0][0]                    \n",
      "__________________________________________________________________________________________________\n",
      "block1_conv2 (Conv2D)           (None, 256, 256, 64) 36928       block1_conv1[0][0]               \n",
      "__________________________________________________________________________________________________\n",
      "block1_pool (MaxPooling2D)      (None, 128, 128, 64) 0           block1_conv2[0][0]               \n",
      "__________________________________________________________________________________________________\n",
      "block2_conv1 (Conv2D)           (None, 128, 128, 128 73856       block1_pool[0][0]                \n",
      "__________________________________________________________________________________________________\n",
      "block2_conv2 (Conv2D)           (None, 128, 128, 128 147584      block2_conv1[0][0]               \n",
      "__________________________________________________________________________________________________\n",
      "block2_pool (MaxPooling2D)      (None, 64, 64, 128)  0           block2_conv2[0][0]               \n",
      "__________________________________________________________________________________________________\n",
      "block3_conv1 (Conv2D)           (None, 64, 64, 256)  295168      block2_pool[0][0]                \n",
      "__________________________________________________________________________________________________\n",
      "block3_conv2 (Conv2D)           (None, 64, 64, 256)  590080      block3_conv1[0][0]               \n",
      "__________________________________________________________________________________________________\n",
      "block3_conv3 (Conv2D)           (None, 64, 64, 256)  590080      block3_conv2[0][0]               \n",
      "__________________________________________________________________________________________________\n",
      "block3_pool (MaxPooling2D)      (None, 32, 32, 256)  0           block3_conv3[0][0]               \n",
      "__________________________________________________________________________________________________\n",
      "block4_conv1 (Conv2D)           (None, 32, 32, 512)  1180160     block3_pool[0][0]                \n",
      "__________________________________________________________________________________________________\n",
      "block4_conv2 (Conv2D)           (None, 32, 32, 512)  2359808     block4_conv1[0][0]               \n",
      "__________________________________________________________________________________________________\n",
      "block4_conv3 (Conv2D)           (None, 32, 32, 512)  2359808     block4_conv2[0][0]               \n",
      "__________________________________________________________________________________________________\n",
      "block4_pool (MaxPooling2D)      (None, 16, 16, 512)  0           block4_conv3[0][0]               \n",
      "__________________________________________________________________________________________________\n",
      "block5_conv1 (Conv2D)           (None, 16, 16, 512)  2359808     block4_pool[0][0]                \n",
      "__________________________________________________________________________________________________\n",
      "block5_conv2 (Conv2D)           (None, 16, 16, 512)  2359808     block5_conv1[0][0]               \n",
      "__________________________________________________________________________________________________\n",
      "block5_conv3 (Conv2D)           (None, 16, 16, 512)  2359808     block5_conv2[0][0]               \n",
      "__________________________________________________________________________________________________\n",
      "block5_pool (MaxPooling2D)      (None, 8, 8, 512)    0           block5_conv3[0][0]               \n",
      "__________________________________________________________________________________________________\n",
      "conv2d_1 (Conv2D)               (None, 8, 8, 4096)   102764544   block5_pool[0][0]                \n",
      "__________________________________________________________________________________________________\n",
      "dropout_1 (Dropout)             (None, 8, 8, 4096)   0           conv2d_1[0][0]                   \n",
      "__________________________________________________________________________________________________\n",
      "conv2d_2 (Conv2D)               (None, 8, 8, 4096)   16781312    dropout_1[0][0]                  \n",
      "__________________________________________________________________________________________________\n",
      "dropout_2 (Dropout)             (None, 8, 8, 4096)   0           conv2d_2[0][0]                   \n",
      "__________________________________________________________________________________________________\n",
      "conv2d_3 (Conv2D)               (None, 8, 8, 3)      12291       dropout_2[0][0]                  \n",
      "__________________________________________________________________________________________________\n",
      "conv2d_transpose_1 (Conv2DTrans (None, 18, 18, 3)    144         conv2d_3[0][0]                   \n",
      "__________________________________________________________________________________________________\n",
      "cropping2d_1 (Cropping2D)       (None, 18, 16, 3)    0           conv2d_transpose_1[0][0]         \n",
      "__________________________________________________________________________________________________\n",
      "cropping2d_2 (Cropping2D)       (None, 16, 16, 3)    0           cropping2d_1[0][0]               \n",
      "__________________________________________________________________________________________________\n",
      "conv2d_4 (Conv2D)               (None, 16, 16, 3)    1539        block4_pool[0][0]                \n",
      "__________________________________________________________________________________________________\n",
      "add_1 (Add)                     (None, 16, 16, 3)    0           cropping2d_2[0][0]               \n",
      "                                                                 conv2d_4[0][0]                   \n",
      "__________________________________________________________________________________________________\n",
      "conv2d_transpose_2 (Conv2DTrans (None, 34, 34, 3)    144         add_1[0][0]                      \n",
      "__________________________________________________________________________________________________\n",
      "cropping2d_3 (Cropping2D)       (None, 34, 32, 3)    0           conv2d_transpose_2[0][0]         \n",
      "__________________________________________________________________________________________________\n",
      "conv2d_5 (Conv2D)               (None, 32, 32, 3)    771         block3_pool[0][0]                \n",
      "__________________________________________________________________________________________________\n",
      "cropping2d_4 (Cropping2D)       (None, 32, 32, 3)    0           cropping2d_3[0][0]               \n",
      "__________________________________________________________________________________________________\n",
      "add_2 (Add)                     (None, 32, 32, 3)    0           conv2d_5[0][0]                   \n",
      "                                                                 cropping2d_4[0][0]               \n",
      "__________________________________________________________________________________________________\n",
      "conv2d_transpose_3 (Conv2DTrans (None, 264, 264, 3)  2304        add_2[0][0]                      \n",
      "__________________________________________________________________________________________________\n",
      "reshape_1 (Reshape)             (None, 69696, 3)     0           conv2d_transpose_3[0][0]         \n",
      "__________________________________________________________________________________________________\n",
      "activation_1 (Activation)       (None, 69696, 3)     0           reshape_1[0][0]                  \n",
      "==================================================================================================\n",
      "Total params: 134,277,737\n",
      "Trainable params: 134,277,737\n",
      "Non-trainable params: 0\n",
      "__________________________________________________________________________________________________\n"
     ]
    }
   ],
   "source": [
    "# Define model\n",
    "model = M(n_classes=N_CLASSES, input_height=I_HEIGHT, input_width=I_WIDTH)\n",
    "model.summary()\n",
    "\n",
    "from IPython.display import SVG\n",
    "from keras.utils.vis_utils import model_to_dot\n",
    "from keras.utils import plot_model\n",
    "\n",
    "\n",
    "plot_model(model, to_file=PLOT_PATH)\n",
    "# SVG(model_to_dot(model, show_shapes=True).create(prog='dot', format='svg'))\n"
   ]
  },
  {
   "cell_type": "code",
   "execution_count": 8,
   "metadata": {},
   "outputs": [
    {
     "name": "stderr",
     "output_type": "stream",
     "text": [
      "  0%|          | 0/2800 [00:00<?, ?it/s]"
     ]
    },
    {
     "name": "stdout",
     "output_type": "stream",
     "text": [
      "Verifying training dataset\n"
     ]
    },
    {
     "name": "stderr",
     "output_type": "stream",
     "text": [
      "100%|██████████| 2800/2800 [00:01<00:00, 1835.80it/s]\n",
      "100%|██████████| 355/355 [00:00<00:00, 1905.50it/s]\n"
     ]
    },
    {
     "name": "stdout",
     "output_type": "stream",
     "text": [
      "Dataset verified! \n",
      "Verifying validation dataset\n",
      "Dataset verified! \n",
      "Start training with validation...\n",
      "Epoch 1/100\n",
      "100/100 [==============================] - 92s 917ms/step - loss: 2.2844 - acc: 0.5308 - val_loss: 0.7223 - val_acc: 0.6740\n",
      "Epoch 2/100\n",
      "100/100 [==============================] - 86s 855ms/step - loss: 0.6387 - acc: 0.7307 - val_loss: 0.7790 - val_acc: 0.6547\n",
      "Epoch 3/100\n",
      " 99/100 [============================>.] - ETA: 0s - loss: 0.3898 - acc: 0.8460Epoch 5/100\n",
      "100/100 [==============================] - 85s 855ms/step - loss: 0.2834 - acc: 0.8899 - val_loss: 0.2779 - val_acc: 0.8991\n",
      "Epoch 6/100\n",
      "100/100 [==============================] - 86s 855ms/step - loss: 0.2475 - acc: 0.9041 - val_loss: 0.3053 - val_acc: 0.8959\n",
      "Epoch 7/100\n",
      "100/100 [==============================] - 86s 855ms/step - loss: 0.2204 - acc: 0.9151 - val_loss: 0.2544 - val_acc: 0.9079\n",
      "Epoch 8/100\n",
      "100/100 [==============================] - 86s 855ms/step - loss: 0.2553 - acc: 0.9025 - val_loss: 0.2517 - val_acc: 0.9070\n",
      "Epoch 9/100\n",
      "100/100 [==============================] - 86s 856ms/step - loss: 0.1924 - acc: 0.9265 - val_loss: 0.2321 - val_acc: 0.9195\n",
      "Epoch 10/100\n",
      "100/100 [==============================] - 86s 856ms/step - loss: 0.1700 - acc: 0.9348 - val_loss: 0.2012 - val_acc: 0.9300\n",
      "Epoch 11/100\n",
      "100/100 [==============================] - 86s 855ms/step - loss: 0.1546 - acc: 0.9404 - val_loss: 0.1977 - val_acc: 0.9336\n",
      "Epoch 12/100\n",
      "100/100 [==============================] - 86s 856ms/step - loss: 0.1506 - acc: 0.9422 - val_loss: 0.1777 - val_acc: 0.9413\n",
      "Epoch 13/100\n",
      "100/100 [==============================] - 86s 856ms/step - loss: 0.1443 - acc: 0.9443 - val_loss: 0.1857 - val_acc: 0.9393\n",
      "Epoch 14/100\n",
      "100/100 [==============================] - 86s 856ms/step - loss: 0.1253 - acc: 0.9516 - val_loss: 0.2017 - val_acc: 0.9374\n",
      "Epoch 15/100\n",
      "100/100 [==============================] - 86s 856ms/step - loss: 0.1303 - acc: 0.9495 - val_loss: 0.1671 - val_acc: 0.9467\n",
      "Epoch 16/100\n",
      "100/100 [==============================] - 86s 855ms/step - loss: 0.1243 - acc: 0.9519 - val_loss: 0.1622 - val_acc: 0.9484\n",
      "Epoch 17/100\n",
      "100/100 [==============================] - 86s 856ms/step - loss: 0.1947 - acc: 0.9298 - val_loss: 0.1693 - val_acc: 0.9458\n",
      "Epoch 18/100\n",
      "100/100 [==============================] - 86s 857ms/step - loss: 0.1131 - acc: 0.9559 - val_loss: 0.3540 - val_acc: 0.8850\n",
      "Epoch 19/100\n",
      "100/100 [==============================] - 86s 857ms/step - loss: 0.2937 - acc: 0.9018 - val_loss: 0.1563 - val_acc: 0.9484\n",
      "Epoch 20/100\n",
      "100/100 [==============================] - 86s 857ms/step - loss: 0.1103 - acc: 0.9572 - val_loss: 0.1577 - val_acc: 0.9485\n",
      "Epoch 21/100\n",
      "100/100 [==============================] - 86s 856ms/step - loss: 0.1026 - acc: 0.9598 - val_loss: 0.1573 - val_acc: 0.9506\n",
      "Epoch 22/100\n",
      "100/100 [==============================] - 86s 856ms/step - loss: 0.1097 - acc: 0.9574 - val_loss: 0.1457 - val_acc: 0.9525\n",
      "Epoch 23/100\n",
      "100/100 [==============================] - 86s 856ms/step - loss: 0.0949 - acc: 0.9624 - val_loss: 0.1513 - val_acc: 0.9529\n",
      "Epoch 24/100\n",
      "100/100 [==============================] - 86s 856ms/step - loss: 0.3823 - acc: 0.9169 - val_loss: 0.7243 - val_acc: 0.6987\n",
      "Epoch 25/100\n",
      "100/100 [==============================] - 86s 856ms/step - loss: 0.2801 - acc: 0.8856 - val_loss: 0.1838 - val_acc: 0.9383\n",
      "Epoch 26/100\n",
      "100/100 [==============================] - 86s 857ms/step - loss: 0.1055 - acc: 0.9586 - val_loss: 0.1631 - val_acc: 0.9477\n",
      "Epoch 27/100\n",
      "100/100 [==============================] - 86s 857ms/step - loss: 0.0936 - acc: 0.9629 - val_loss: 0.1602 - val_acc: 0.9518\n",
      "Epoch 28/100\n",
      "100/100 [==============================] - 86s 856ms/step - loss: 0.0965 - acc: 0.9618 - val_loss: 0.1432 - val_acc: 0.9556\n",
      "Epoch 29/100\n",
      "100/100 [==============================] - 86s 857ms/step - loss: 0.1015 - acc: 0.9600 - val_loss: 0.2617 - val_acc: 0.9011\n",
      "Epoch 31/100\n",
      "100/100 [==============================] - 86s 857ms/step - loss: 0.2712 - acc: 0.9092 - val_loss: 0.1581 - val_acc: 0.9505\n",
      "Epoch 32/100\n",
      "100/100 [==============================] - 86s 857ms/step - loss: 0.0877 - acc: 0.9651 - val_loss: 0.1478 - val_acc: 0.9549\n",
      "Epoch 33/100\n",
      "100/100 [==============================] - 86s 857ms/step - loss: 0.1011 - acc: 0.9608 - val_loss: 0.1538 - val_acc: 0.9523\n",
      "Epoch 34/100\n",
      "100/100 [==============================] - 86s 857ms/step - loss: 0.0778 - acc: 0.9686 - val_loss: 0.1503 - val_acc: 0.9549\n",
      "Epoch 35/100\n",
      "100/100 [==============================] - 86s 857ms/step - loss: 0.0746 - acc: 0.9698 - val_loss: 0.1439 - val_acc: 0.9576\n",
      "Epoch 36/100\n",
      "100/100 [==============================] - 86s 856ms/step - loss: 0.0744 - acc: 0.9698 - val_loss: 0.1542 - val_acc: 0.9542\n",
      "Epoch 37/100\n",
      "100/100 [==============================] - 86s 857ms/step - loss: 0.0997 - acc: 0.9611 - val_loss: 0.1512 - val_acc: 0.9539\n",
      "Epoch 38/100\n",
      "100/100 [==============================] - 86s 857ms/step - loss: 0.0709 - acc: 0.9712 - val_loss: 0.1544 - val_acc: 0.9558\n",
      "Epoch 39/100\n",
      "100/100 [==============================] - 86s 857ms/step - loss: 0.0666 - acc: 0.9728 - val_loss: 0.1508 - val_acc: 0.9573\n",
      "Epoch 40/100\n",
      "100/100 [==============================] - 86s 857ms/step - loss: 0.0682 - acc: 0.9721 - val_loss: 0.1491 - val_acc: 0.9548\n",
      "Epoch 41/100\n",
      "100/100 [==============================] - 86s 857ms/step - loss: 0.0655 - acc: 0.9732 - val_loss: 0.1583 - val_acc: 0.9563\n",
      "Epoch 42/100\n",
      "100/100 [==============================] - 86s 857ms/step - loss: 0.1103 - acc: 0.9587 - val_loss: 0.1542 - val_acc: 0.9552\n",
      "Epoch 43/100\n",
      "100/100 [==============================] - 86s 857ms/step - loss: 0.0634 - acc: 0.9741 - val_loss: 0.1540 - val_acc: 0.9566\n",
      "Epoch 44/100\n",
      "100/100 [==============================] - 86s 857ms/step - loss: 0.0627 - acc: 0.9743 - val_loss: 0.1583 - val_acc: 0.9576\n",
      "Epoch 45/100\n",
      "100/100 [==============================] - 86s 856ms/step - loss: 0.0621 - acc: 0.9745 - val_loss: 0.1632 - val_acc: 0.9542\n",
      "Epoch 46/100\n",
      "100/100 [==============================] - 86s 856ms/step - loss: 0.0650 - acc: 0.9736 - val_loss: 0.1632 - val_acc: 0.9565\n",
      "Epoch 47/100\n",
      "100/100 [==============================] - 86s 856ms/step - loss: 0.0577 - acc: 0.9762 - val_loss: 0.1578 - val_acc: 0.9565\n",
      "Epoch 48/100\n",
      "100/100 [==============================] - 86s 857ms/step - loss: 0.0590 - acc: 0.9757 - val_loss: 0.1770 - val_acc: 0.9537\n",
      "Epoch 49/100\n",
      "100/100 [==============================] - 86s 857ms/step - loss: 0.0572 - acc: 0.9764 - val_loss: 0.1727 - val_acc: 0.9551\n",
      "Epoch 50/100\n",
      "100/100 [==============================] - 86s 857ms/step - loss: 0.1075 - acc: 0.9592 - val_loss: 0.1629 - val_acc: 0.9506\n",
      "Epoch 51/100\n",
      "100/100 [==============================] - 86s 857ms/step - loss: 0.0687 - acc: 0.9724 - val_loss: 0.1652 - val_acc: 0.9563\n",
      "Epoch 52/100\n",
      "100/100 [==============================] - 86s 857ms/step - loss: 0.0530 - acc: 0.9781 - val_loss: 0.1652 - val_acc: 0.9576\n",
      "Epoch 53/100\n",
      "100/100 [==============================] - 86s 856ms/step - loss: 0.0547 - acc: 0.9774 - val_loss: 0.1736 - val_acc: 0.9544\n",
      "Epoch 54/100\n",
      "100/100 [==============================] - 86s 857ms/step - loss: 0.0548 - acc: 0.9774 - val_loss: 0.1798 - val_acc: 0.9549\n",
      "Epoch 55/100\n",
      "100/100 [==============================] - 86s 857ms/step - loss: 0.0520 - acc: 0.9784 - val_loss: 0.1685 - val_acc: 0.9554\n",
      "Epoch 56/100\n",
      "100/100 [==============================] - 86s 857ms/step - loss: 0.0508 - acc: 0.9789 - val_loss: 0.1801 - val_acc: 0.9560\n",
      "Epoch 57/100\n",
      "100/100 [==============================] - 86s 857ms/step - loss: 0.0504 - acc: 0.9790 - val_loss: 0.1736 - val_acc: 0.9551\n",
      "Epoch 58/100\n",
      "100/100 [==============================] - 86s 857ms/step - loss: 0.0502 - acc: 0.9791 - val_loss: 0.1862 - val_acc: 0.9549\n",
      "Epoch 59/100\n",
      "100/100 [==============================] - 86s 857ms/step - loss: 0.0484 - acc: 0.9798 - val_loss: 0.1676 - val_acc: 0.9576\n",
      "Epoch 60/100\n",
      "100/100 [==============================] - 86s 857ms/step - loss: 0.0479 - acc: 0.9801 - val_loss: 0.1806 - val_acc: 0.9557\n",
      "Epoch 61/100\n",
      "100/100 [==============================] - 86s 857ms/step - loss: 0.0475 - acc: 0.9802 - val_loss: 0.1922 - val_acc: 0.9544\n",
      "Epoch 62/100\n",
      "100/100 [==============================] - 86s 857ms/step - loss: 0.0460 - acc: 0.9808 - val_loss: 0.1728 - val_acc: 0.9579\n",
      "Epoch 63/100\n",
      "100/100 [==============================] - 86s 856ms/step - loss: 0.0460 - acc: 0.9808 - val_loss: 0.1873 - val_acc: 0.9547\n",
      "Epoch 64/100\n",
      "100/100 [==============================] - 86s 856ms/step - loss: 0.0444 - acc: 0.9815 - val_loss: 0.1838 - val_acc: 0.9572\n",
      "Epoch 65/100\n",
      "100/100 [==============================] - 86s 857ms/step - loss: 0.0445 - acc: 0.9814 - val_loss: 0.2008 - val_acc: 0.9543\n",
      "Epoch 66/100\n",
      "100/100 [==============================] - 86s 857ms/step - loss: 0.0438 - acc: 0.9817 - val_loss: 0.1881 - val_acc: 0.9577\n",
      "Epoch 67/100\n",
      "100/100 [==============================] - 86s 857ms/step - loss: 0.0436 - acc: 0.9818 - val_loss: 0.2028 - val_acc: 0.9531\n",
      "Epoch 68/100\n",
      "100/100 [==============================] - 86s 857ms/step - loss: 0.0433 - acc: 0.9820 - val_loss: 0.1868 - val_acc: 0.9570\n",
      "Epoch 69/100\n",
      "100/100 [==============================] - 86s 857ms/step - loss: 0.0419 - acc: 0.9825 - val_loss: 0.2045 - val_acc: 0.9535\n",
      "Epoch 70/100\n",
      "100/100 [==============================] - 86s 857ms/step - loss: 0.0417 - acc: 0.9825 - val_loss: 0.2004 - val_acc: 0.9542\n",
      "Epoch 71/100\n",
      "100/100 [==============================] - 86s 857ms/step - loss: 0.0420 - acc: 0.9824 - val_loss: 0.1860 - val_acc: 0.9567\n",
      "Epoch 72/100\n",
      "100/100 [==============================] - 86s 856ms/step - loss: 0.0394 - acc: 0.9835 - val_loss: 0.2031 - val_acc: 0.9545\n",
      "Epoch 74/100\n",
      "100/100 [==============================] - 86s 857ms/step - loss: 0.0396 - acc: 0.9834 - val_loss: 0.2078 - val_acc: 0.9552\n",
      "Epoch 75/100\n",
      "100/100 [==============================] - 86s 857ms/step - loss: 0.0395 - acc: 0.9834 - val_loss: 0.1897 - val_acc: 0.9563\n",
      "Epoch 76/100\n",
      "100/100 [==============================] - 86s 856ms/step - loss: 0.0387 - acc: 0.9838 - val_loss: 0.2133 - val_acc: 0.9544\n",
      "Epoch 77/100\n",
      "100/100 [==============================] - 86s 857ms/step - loss: 0.0378 - acc: 0.9841 - val_loss: 0.2153 - val_acc: 0.9547\n",
      "Epoch 78/100\n",
      "100/100 [==============================] - 86s 857ms/step - loss: 0.0373 - acc: 0.9843 - val_loss: 0.1959 - val_acc: 0.9572\n",
      "Epoch 79/100\n",
      "100/100 [==============================] - 86s 857ms/step - loss: 0.0367 - acc: 0.9846 - val_loss: 0.2181 - val_acc: 0.9548\n",
      "Epoch 80/100\n",
      "100/100 [==============================] - 86s 857ms/step - loss: 0.0370 - acc: 0.9844 - val_loss: 0.2163 - val_acc: 0.9552\n",
      "Epoch 81/100\n",
      "100/100 [==============================] - 86s 857ms/step - loss: 0.0362 - acc: 0.9848 - val_loss: 0.2068 - val_acc: 0.9566\n",
      "Epoch 82/100\n",
      "100/100 [==============================] - 86s 857ms/step - loss: 0.0351 - acc: 0.9853 - val_loss: 0.2146 - val_acc: 0.9554\n",
      "Epoch 83/100\n",
      "100/100 [==============================] - 86s 857ms/step - loss: 0.0358 - acc: 0.9849 - val_loss: 0.2199 - val_acc: 0.9556\n",
      "Epoch 84/100\n",
      "100/100 [==============================] - 86s 857ms/step - loss: 0.0349 - acc: 0.9853 - val_loss: 0.2116 - val_acc: 0.9552\n",
      "Epoch 85/100\n",
      "100/100 [==============================] - 86s 856ms/step - loss: 0.0743 - acc: 0.9733 - val_loss: 0.1791 - val_acc: 0.9433\n",
      "Epoch 86/100\n",
      "100/100 [==============================] - 86s 857ms/step - loss: 0.0705 - acc: 0.9725 - val_loss: 0.1970 - val_acc: 0.9550\n",
      "Epoch 87/100\n",
      "100/100 [==============================] - 86s 857ms/step - loss: 0.0343 - acc: 0.9856 - val_loss: 0.2236 - val_acc: 0.9547\n",
      "Epoch 88/100\n",
      "100/100 [==============================] - 86s 857ms/step - loss: 0.0341 - acc: 0.9856 - val_loss: 0.2104 - val_acc: 0.9547\n",
      "Epoch 89/100\n",
      "100/100 [==============================] - 86s 857ms/step - loss: 0.0346 - acc: 0.9854 - val_loss: 0.2239 - val_acc: 0.9548\n",
      "Epoch 90/100\n",
      "100/100 [==============================] - 86s 857ms/step - loss: 0.0329 - acc: 0.9861 - val_loss: 0.2172 - val_acc: 0.9563\n",
      "Epoch 91/100\n",
      "100/100 [==============================] - 86s 856ms/step - loss: 0.0331 - acc: 0.9860 - val_loss: 0.2261 - val_acc: 0.9540\n",
      "Epoch 92/100\n",
      "100/100 [==============================] - 86s 857ms/step - loss: 0.0322 - acc: 0.9864 - val_loss: 0.2239 - val_acc: 0.9559\n",
      "Epoch 93/100\n",
      "100/100 [==============================] - 86s 857ms/step - loss: 0.0322 - acc: 0.9864 - val_loss: 0.2150 - val_acc: 0.9561\n",
      "Epoch 94/100\n",
      "100/100 [==============================] - 86s 857ms/step - loss: 0.0317 - acc: 0.9867 - val_loss: 0.2548 - val_acc: 0.9519\n",
      "Epoch 95/100\n",
      "100/100 [==============================] - 86s 857ms/step - loss: 0.0317 - acc: 0.9866 - val_loss: 0.2299 - val_acc: 0.9546\n",
      "Epoch 96/100\n",
      "100/100 [==============================] - 86s 856ms/step - loss: 0.0307 - acc: 0.9871 - val_loss: 0.2309 - val_acc: 0.9562\n",
      "Epoch 97/100\n",
      "100/100 [==============================] - 86s 857ms/step - loss: 0.0300 - acc: 0.9873 - val_loss: 0.2339 - val_acc: 0.9562\n",
      "Epoch 98/100\n",
      "100/100 [==============================] - 86s 857ms/step - loss: 0.0305 - acc: 0.9871 - val_loss: 0.2363 - val_acc: 0.9527\n",
      "Epoch 99/100\n",
      "100/100 [==============================] - 86s 857ms/step - loss: 0.0302 - acc: 0.9872 - val_loss: 0.2326 - val_acc: 0.9550\n",
      "Epoch 100/100\n",
      "100/100 [==============================] - 86s 857ms/step - loss: 0.0301 - acc: 0.9873 - val_loss: 0.2264 - val_acc: 0.9550\n",
      "End training with validation!\n"
     ]
    },
    {
     "ename": "OSError",
     "evalue": "Unable to create file (unable to open file: name = '/home/jho/projects/image=segmentation-keras/out/checkpoints/celeba/best/fcn_8_vgg16.h5', errno = 2, error message = 'No such file or directory', flags = 13, o_flags = 242)",
     "output_type": "error",
     "traceback": [
      "\u001b[0;31m---------------------------------------------------------------------------\u001b[0m",
      "\u001b[0;31mOSError\u001b[0m                                   Traceback (most recent call last)",
      "\u001b[0;32m<ipython-input-8-cc0f3ae68591>\u001b[0m in \u001b[0;36m<module>\u001b[0;34m\u001b[0m\n\u001b[1;32m     17\u001b[0m     \u001b[0mval_batch_size\u001b[0m\u001b[0;34m=\u001b[0m\u001b[0mVAL_BATCH_SIZE\u001b[0m\u001b[0;34m,\u001b[0m\u001b[0;34m\u001b[0m\u001b[0;34m\u001b[0m\u001b[0m\n\u001b[1;32m     18\u001b[0m     save_best_only=True)\n\u001b[0;32m---> 19\u001b[0;31m \u001b[0mmodel\u001b[0m\u001b[0;34m.\u001b[0m\u001b[0msave_weights\u001b[0m\u001b[0;34m(\u001b[0m\u001b[0;34m'/home/jho/projects/image=segmentation-keras/out/checkpoints/celeba/best/fcn_8_vgg16.h5'\u001b[0m\u001b[0;34m)\u001b[0m\u001b[0;34m\u001b[0m\u001b[0;34m\u001b[0m\u001b[0m\n\u001b[0m",
      "\u001b[0;32m~/anaconda3/envs/tf12-py36/lib/python3.6/site-packages/keras/engine/topology.py\u001b[0m in \u001b[0;36msave_weights\u001b[0;34m(self, filepath, overwrite)\u001b[0m\n\u001b[1;32m   2619\u001b[0m             \u001b[0;32mif\u001b[0m \u001b[0;32mnot\u001b[0m \u001b[0mproceed\u001b[0m\u001b[0;34m:\u001b[0m\u001b[0;34m\u001b[0m\u001b[0;34m\u001b[0m\u001b[0m\n\u001b[1;32m   2620\u001b[0m                 \u001b[0;32mreturn\u001b[0m\u001b[0;34m\u001b[0m\u001b[0;34m\u001b[0m\u001b[0m\n\u001b[0;32m-> 2621\u001b[0;31m         \u001b[0;32mwith\u001b[0m \u001b[0mh5py\u001b[0m\u001b[0;34m.\u001b[0m\u001b[0mFile\u001b[0m\u001b[0;34m(\u001b[0m\u001b[0mfilepath\u001b[0m\u001b[0;34m,\u001b[0m \u001b[0;34m'w'\u001b[0m\u001b[0;34m)\u001b[0m \u001b[0;32mas\u001b[0m \u001b[0mf\u001b[0m\u001b[0;34m:\u001b[0m\u001b[0;34m\u001b[0m\u001b[0;34m\u001b[0m\u001b[0m\n\u001b[0m\u001b[1;32m   2622\u001b[0m             \u001b[0msave_weights_to_hdf5_group\u001b[0m\u001b[0;34m(\u001b[0m\u001b[0mf\u001b[0m\u001b[0;34m,\u001b[0m \u001b[0mself\u001b[0m\u001b[0;34m.\u001b[0m\u001b[0mlayers\u001b[0m\u001b[0;34m)\u001b[0m\u001b[0;34m\u001b[0m\u001b[0;34m\u001b[0m\u001b[0m\n\u001b[1;32m   2623\u001b[0m             \u001b[0mf\u001b[0m\u001b[0;34m.\u001b[0m\u001b[0mflush\u001b[0m\u001b[0;34m(\u001b[0m\u001b[0;34m)\u001b[0m\u001b[0;34m\u001b[0m\u001b[0;34m\u001b[0m\u001b[0m\n",
      "\u001b[0;32m~/anaconda3/envs/tf12-py36/lib/python3.6/site-packages/h5py/_hl/files.py\u001b[0m in \u001b[0;36m__init__\u001b[0;34m(self, name, mode, driver, libver, userblock_size, swmr, **kwds)\u001b[0m\n\u001b[1;32m    310\u001b[0m             \u001b[0;32mwith\u001b[0m \u001b[0mphil\u001b[0m\u001b[0;34m:\u001b[0m\u001b[0;34m\u001b[0m\u001b[0;34m\u001b[0m\u001b[0m\n\u001b[1;32m    311\u001b[0m                 \u001b[0mfapl\u001b[0m \u001b[0;34m=\u001b[0m \u001b[0mmake_fapl\u001b[0m\u001b[0;34m(\u001b[0m\u001b[0mdriver\u001b[0m\u001b[0;34m,\u001b[0m \u001b[0mlibver\u001b[0m\u001b[0;34m,\u001b[0m \u001b[0;34m**\u001b[0m\u001b[0mkwds\u001b[0m\u001b[0;34m)\u001b[0m\u001b[0;34m\u001b[0m\u001b[0;34m\u001b[0m\u001b[0m\n\u001b[0;32m--> 312\u001b[0;31m                 \u001b[0mfid\u001b[0m \u001b[0;34m=\u001b[0m \u001b[0mmake_fid\u001b[0m\u001b[0;34m(\u001b[0m\u001b[0mname\u001b[0m\u001b[0;34m,\u001b[0m \u001b[0mmode\u001b[0m\u001b[0;34m,\u001b[0m \u001b[0muserblock_size\u001b[0m\u001b[0;34m,\u001b[0m \u001b[0mfapl\u001b[0m\u001b[0;34m,\u001b[0m \u001b[0mswmr\u001b[0m\u001b[0;34m=\u001b[0m\u001b[0mswmr\u001b[0m\u001b[0;34m)\u001b[0m\u001b[0;34m\u001b[0m\u001b[0;34m\u001b[0m\u001b[0m\n\u001b[0m\u001b[1;32m    313\u001b[0m \u001b[0;34m\u001b[0m\u001b[0m\n\u001b[1;32m    314\u001b[0m                 \u001b[0;32mif\u001b[0m \u001b[0mswmr_support\u001b[0m\u001b[0;34m:\u001b[0m\u001b[0;34m\u001b[0m\u001b[0;34m\u001b[0m\u001b[0m\n",
      "\u001b[0;32m~/anaconda3/envs/tf12-py36/lib/python3.6/site-packages/h5py/_hl/files.py\u001b[0m in \u001b[0;36mmake_fid\u001b[0;34m(name, mode, userblock_size, fapl, fcpl, swmr)\u001b[0m\n\u001b[1;32m    146\u001b[0m         \u001b[0mfid\u001b[0m \u001b[0;34m=\u001b[0m \u001b[0mh5f\u001b[0m\u001b[0;34m.\u001b[0m\u001b[0mcreate\u001b[0m\u001b[0;34m(\u001b[0m\u001b[0mname\u001b[0m\u001b[0;34m,\u001b[0m \u001b[0mh5f\u001b[0m\u001b[0;34m.\u001b[0m\u001b[0mACC_EXCL\u001b[0m\u001b[0;34m,\u001b[0m \u001b[0mfapl\u001b[0m\u001b[0;34m=\u001b[0m\u001b[0mfapl\u001b[0m\u001b[0;34m,\u001b[0m \u001b[0mfcpl\u001b[0m\u001b[0;34m=\u001b[0m\u001b[0mfcpl\u001b[0m\u001b[0;34m)\u001b[0m\u001b[0;34m\u001b[0m\u001b[0;34m\u001b[0m\u001b[0m\n\u001b[1;32m    147\u001b[0m     \u001b[0;32melif\u001b[0m \u001b[0mmode\u001b[0m \u001b[0;34m==\u001b[0m \u001b[0;34m'w'\u001b[0m\u001b[0;34m:\u001b[0m\u001b[0;34m\u001b[0m\u001b[0;34m\u001b[0m\u001b[0m\n\u001b[0;32m--> 148\u001b[0;31m         \u001b[0mfid\u001b[0m \u001b[0;34m=\u001b[0m \u001b[0mh5f\u001b[0m\u001b[0;34m.\u001b[0m\u001b[0mcreate\u001b[0m\u001b[0;34m(\u001b[0m\u001b[0mname\u001b[0m\u001b[0;34m,\u001b[0m \u001b[0mh5f\u001b[0m\u001b[0;34m.\u001b[0m\u001b[0mACC_TRUNC\u001b[0m\u001b[0;34m,\u001b[0m \u001b[0mfapl\u001b[0m\u001b[0;34m=\u001b[0m\u001b[0mfapl\u001b[0m\u001b[0;34m,\u001b[0m \u001b[0mfcpl\u001b[0m\u001b[0;34m=\u001b[0m\u001b[0mfcpl\u001b[0m\u001b[0;34m)\u001b[0m\u001b[0;34m\u001b[0m\u001b[0;34m\u001b[0m\u001b[0m\n\u001b[0m\u001b[1;32m    149\u001b[0m     \u001b[0;32melif\u001b[0m \u001b[0mmode\u001b[0m \u001b[0;34m==\u001b[0m \u001b[0;34m'a'\u001b[0m\u001b[0;34m:\u001b[0m\u001b[0;34m\u001b[0m\u001b[0;34m\u001b[0m\u001b[0m\n\u001b[1;32m    150\u001b[0m         \u001b[0;31m# Open in append mode (read/write).\u001b[0m\u001b[0;34m\u001b[0m\u001b[0;34m\u001b[0m\u001b[0;34m\u001b[0m\u001b[0m\n",
      "\u001b[0;32mh5py/_objects.pyx\u001b[0m in \u001b[0;36mh5py._objects.with_phil.wrapper\u001b[0;34m()\u001b[0m\n",
      "\u001b[0;32mh5py/_objects.pyx\u001b[0m in \u001b[0;36mh5py._objects.with_phil.wrapper\u001b[0;34m()\u001b[0m\n",
      "\u001b[0;32mh5py/h5f.pyx\u001b[0m in \u001b[0;36mh5py.h5f.create\u001b[0;34m()\u001b[0m\n",
      "\u001b[0;31mOSError\u001b[0m: Unable to create file (unable to open file: name = '/home/jho/projects/image=segmentation-keras/out/checkpoints/celeba/best/fcn_8_vgg16.h5', errno = 2, error message = 'No such file or directory', flags = 13, o_flags = 242)"
     ]
    }
   ],
   "source": [
    "# Train\n",
    "checkpoints_path = os.path.join(CHECKPOINTS_DIR, NOW)\n",
    "logs_path = os.path.join(LOGS_DIR, NOW)\n",
    "\n",
    "model.train(\n",
    "    train_images = TRAIN_IMAGES,\n",
    "    train_annotations = TRAIN_ANNOTATIONS,\n",
    "    checkpoints_path=checkpoints_path,\n",
    "    epochs=EPOCHS,\n",
    "    steps_per_epoch=STEPS_PER_EPOCH,\n",
    "    log_dir=logs_path,\n",
    "    validate=True,\n",
    "    val_images=VAL_IMAGES,\n",
    "    val_annotations = VAL_ANNOTATIONS,\n",
    "    val_steps=VAL_STEPS,\n",
    "    batch_size=BATCH_SIZE,\n",
    "    val_batch_size=VAL_BATCH_SIZE,\n",
    "    save_best_only=True)"
   ]
  },
  {
   "cell_type": "code",
   "execution_count": 10,
   "metadata": {},
   "outputs": [],
   "source": [
    "model.save_weights('/home/jho/projects/image-segmentation-keras/out/checkpoints/celeba/best/fcn_8_vgg16.h5')"
   ]
  },
  {
   "cell_type": "code",
   "execution_count": null,
   "metadata": {},
   "outputs": [],
   "source": [
    "model.summary()"
   ]
  },
  {
   "cell_type": "code",
   "execution_count": 11,
   "metadata": {},
   "outputs": [
    {
     "name": "stderr",
     "output_type": "stream",
     "text": [
      "355it [00:17, 19.78it/s]"
     ]
    },
    {
     "name": "stdout",
     "output_type": "stream",
     "text": [
      "{'frequency_weighted_IU': 0.9157198041957206, 'mean_IU': 0.8868239142018913, 'class_wise_IU(IoU)': array([0.94781131, 0.90648224, 0.80617819])}\n"
     ]
    },
    {
     "name": "stderr",
     "output_type": "stream",
     "text": [
      "\n"
     ]
    }
   ],
   "source": [
    "# evaluating the model\n",
    "evaluation = model.evaluate_segmentation(inp_images_dir=VAL_IMAGES, annotations_dir=VAL_ANNOTATIONS)\n",
    "print(evaluation)\n"
   ]
  },
  {
   "cell_type": "code",
   "execution_count": 12,
   "metadata": {},
   "outputs": [
    {
     "name": "stdout",
     "output_type": "stream",
     "text": [
      "121002\n",
      "/home/jho/projects/image-segmentation-keras/train_faces/vgg16/../../dataset/celeba_/test/original/121002.jpg\n",
      "/home/jho/projects/image-segmentation-keras/train_faces/vgg16/../../out/checkpoints/celeba/fcn_8_vgg16/ep100/st100/ba28/20200422T0353-best_val_loss.h5\n"
     ]
    }
   ],
   "source": [
    "import random\n",
    "test_list = os.listdir(TEST_IMAGES)\n",
    "rand_test = random.choice(test_list)[:-4]\n",
    "print(rand_test)\n",
    "\n",
    "sample_test_image = os.path.join(TEST_IMAGES, rand_test + '.jpg')\n",
    "sample_test_annotaion = os.path.join(TEST_ANNOTATIONS, rand_test + '.bmp')\n",
    "\n",
    "best_val_loss_model = checkpoints_path + \"-best_val_loss.h5\"\n",
    "best_val_acc_model = checkpoints_path + \"-best_val_acc.h5\"\n",
    "\n",
    "best_val_loss_out_fname = os.path.join(PREDICTIONS_DIR, 'out_{}_{}_val_loss_{}.png'.format(MODEL_NAME, rand_test, NOW))\n",
    "best_val_acc_out_fname = os.path.join(PREDICTIONS_DIR, 'out_{}_{}_val_acc_{}.png'.format(MODEL_NAME, rand_test, NOW))\n",
    "\n",
    "print(sample_test_image)\n",
    "print(best_val_loss_model)"
   ]
  },
  {
   "cell_type": "code",
   "execution_count": 13,
   "metadata": {},
   "outputs": [],
   "source": [
    "best_val_loss_out = model.predict_segmentation(\n",
    "    inp=sample_test_image,\n",
    "    checkpoints_path=best_val_loss_model,\n",
    "    out_fname=best_val_loss_out_fname)\n",
    "\n",
    "best_val_acc_out = model.predict_segmentation(\n",
    "    inp=sample_test_image,\n",
    "    checkpoints_path=best_val_acc_model,\n",
    "    out_fname=best_val_acc_out_fname)"
   ]
  },
  {
   "cell_type": "code",
   "execution_count": 14,
   "metadata": {},
   "outputs": [
    {
     "data": {
      "text/plain": [
       "<matplotlib.image.AxesImage at 0x7f980046e518>"
      ]
     },
     "execution_count": 14,
     "metadata": {},
     "output_type": "execute_result"
    },
    {
     "data": {
      "image/png": "[encoded data removed]",
      "text/plain": [
       "<Figure size 432x288 with 1 Axes>"
      ]
     },
     "metadata": {
      "needs_background": "light"
     },
     "output_type": "display_data"
    }
   ],
   "source": [
    "plt.imshow(Image.open(sample_test_image))"
   ]
  },
  {
   "cell_type": "code",
   "execution_count": 15,
   "metadata": {},
   "outputs": [
    {
     "data": {
      "text/plain": [
       "<matplotlib.image.AxesImage at 0x7f98003d1cf8>"
      ]
     },
     "execution_count": 15,
     "metadata": {},
     "output_type": "execute_result"
    },
    {
     "data": {
      "image/png": "[encoded data removed]",
      "text/plain": [
       "<Figure size 432x288 with 1 Axes>"
      ]
     },
     "metadata": {
      "needs_background": "light"
     },
     "output_type": "display_data"
    }
   ],
   "source": [
    "plt.imshow(Image.open(sample_test_annotaion))"
   ]
  },
  {
   "cell_type": "code",
   "execution_count": 16,
   "metadata": {},
   "outputs": [
    {
     "data": {
      "text/plain": [
       "<matplotlib.image.AxesImage at 0x7f98003c1ef0>"
      ]
     },
     "execution_count": 16,
     "metadata": {},
     "output_type": "execute_result"
    },
    {
     "data": {
      "image/png": "[encoded data removed]",
      "text/plain": [
       "<Figure size 432x288 with 1 Axes>"
      ]
     },
     "metadata": {
      "needs_background": "light"
     },
     "output_type": "display_data"
    }
   ],
   "source": [
    "plt.imshow(Image.open(best_val_loss_out_fname))"
   ]
  },
  {
   "cell_type": "code",
   "execution_count": 17,
   "metadata": {},
   "outputs": [
    {
     "data": {
      "text/plain": [
       "<matplotlib.image.AxesImage at 0x7f9800329a90>"
      ]
     },
     "execution_count": 17,
     "metadata": {},
     "output_type": "execute_result"
    },
    {
     "data": {
      "image/png": "[encoded data removed]",
      "text/plain": [
       "<Figure size 432x288 with 1 Axes>"
      ]
     },
     "metadata": {
      "needs_background": "light"
     },
     "output_type": "display_data"
    }
   ],
   "source": [
    "plt.imshow(Image.open(best_val_acc_out_fname))"
   ]
  },
  {
   "cell_type": "code",
   "execution_count": null,
   "metadata": {},
   "outputs": [],
   "source": []
  },
  {
   "cell_type": "code",
   "execution_count": null,
   "metadata": {},
   "outputs": [],
   "source": []
  }
 ],
 "metadata": {
  "kernelspec": {
   "display_name": "tf12-py36",
   "language": "python",
   "name": "tf12-py36"
  },
  "language_info": {
   "codemirror_mode": {
    "name": "ipython",
    "version": 3
   },
   "file_extension": ".py",
   "mimetype": "text/x-python",
   "name": "python",
   "nbconvert_exporter": "python",
   "pygments_lexer": "ipython3",
   "version": "3.6.10"
  }
 },
 "nbformat": 4,
 "nbformat_minor": 4
}
